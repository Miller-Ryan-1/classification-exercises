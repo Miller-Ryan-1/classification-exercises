{
 "cells": [
  {
   "cell_type": "code",
   "execution_count": 1,
   "id": "3a63382c",
   "metadata": {},
   "outputs": [],
   "source": [
    "import pandas as pd\n",
    "import numpy as np\n",
    "import seaborn as sns\n",
    "\n",
    "import warnings\n",
    "warnings.filterwarnings(\"ignore\")\n",
    "\n",
    "from sklearn.tree import DecisionTreeClassifier, plot_tree\n",
    "from sklearn.metrics import classification_report\n",
    "from sklearn.metrics import confusion_matrix\n",
    "\n",
    "import matplotlib.pyplot as plt\n",
    "import seaborn as sns\n",
    "\n",
    "from acquire import get_titanic_data\n",
    "from prepare import prep_titanic\n",
    "from splitter import splitter"
   ]
  },
  {
   "cell_type": "markdown",
   "id": "e0cd99e0",
   "metadata": {},
   "source": [
    "# I. Titanic Data - Decision Tree"
   ]
  },
  {
   "cell_type": "code",
   "execution_count": null,
   "id": "406fc1b0",
   "metadata": {},
   "outputs": [],
   "source": [
    "df = get_titanic_data()\n",
    "df.head(2)"
   ]
  },
  {
   "cell_type": "code",
   "execution_count": null,
   "id": "9f76d6fb",
   "metadata": {},
   "outputs": [],
   "source": [
    "df = prep_titanic(df)\n",
    "df.drop(columns='age', inplace=True)\n",
    "df.head(2)"
   ]
  },
  {
   "cell_type": "markdown",
   "id": "5d91f760",
   "metadata": {},
   "source": [
    "## 1. What is your baseline prediction?  Baseline accuracy?"
   ]
  },
  {
   "cell_type": "code",
   "execution_count": null,
   "id": "5ef48634",
   "metadata": {},
   "outputs": [],
   "source": [
    "df_train, df_validate, df_test = splitter(df, 'survived')\n",
    "df_train.survived.value_counts()"
   ]
  },
  {
   "cell_type": "code",
   "execution_count": null,
   "id": "30897bcb",
   "metadata": {},
   "outputs": [],
   "source": [
    "307/(307+191)"
   ]
  },
  {
   "cell_type": "markdown",
   "id": "c34487c8",
   "metadata": {},
   "source": [
    "#### Baseline prediction is died, which is accurate 61.65% of the time."
   ]
  },
  {
   "cell_type": "markdown",
   "id": "922ddfc2",
   "metadata": {},
   "source": [
    "## 2. Fit the decision tree classifier to your training sample and transform (i.e. make predictions on the training sample)"
   ]
  },
  {
   "cell_type": "code",
   "execution_count": null,
   "id": "ac8e6aad",
   "metadata": {},
   "outputs": [],
   "source": [
    "X_train = df_train.drop(columns=['survived'])\n",
    "y_train = df_train.survived\n",
    "\n",
    "X_validate = df_validate.drop(columns=['survived'])\n",
    "y_validate = df_validate.survived\n",
    "\n",
    "X_test = df_test.drop(columns=['survived'])\n",
    "y_test = df_test.survived"
   ]
  },
  {
   "cell_type": "code",
   "execution_count": null,
   "id": "44da7317",
   "metadata": {},
   "outputs": [],
   "source": [
    "clf = DecisionTreeClassifier(max_depth=3, random_state=123)\n",
    "clf = clf.fit(X_train, y_train)"
   ]
  },
  {
   "cell_type": "code",
   "execution_count": null,
   "id": "5002cc71",
   "metadata": {},
   "outputs": [],
   "source": [
    "plt.figure(figsize=(16, 8))\n",
    "plot_tree(clf, feature_names=X_train.columns, class_names=clf.classes_.astype(str), rounded=True)"
   ]
  },
  {
   "cell_type": "markdown",
   "id": "1bacaa2a",
   "metadata": {},
   "source": [
    "## 3. Evaluate your in-sample results using the model score, confusion matrix, and classification report."
   ]
  },
  {
   "cell_type": "code",
   "execution_count": null,
   "id": "5718f741",
   "metadata": {},
   "outputs": [],
   "source": [
    "y_pred = clf.predict(X_train)\n",
    "y_pred[10:15]"
   ]
  },
  {
   "cell_type": "code",
   "execution_count": null,
   "id": "21159aa9",
   "metadata": {},
   "outputs": [],
   "source": [
    "y_pred_proba = clf.predict_proba(X_train)\n",
    "y_pred_proba[10:15]"
   ]
  },
  {
   "cell_type": "code",
   "execution_count": null,
   "id": "7f94bc17",
   "metadata": {},
   "outputs": [],
   "source": [
    "confusion_matrix(y_train, y_pred)"
   ]
  },
  {
   "cell_type": "code",
   "execution_count": null,
   "id": "dad54c40",
   "metadata": {},
   "outputs": [],
   "source": [
    "pd.DataFrame(confusion_matrix(y_train, y_pred), index=['died','survived'], columns=['died','survived'])"
   ]
  },
  {
   "cell_type": "markdown",
   "id": "f4d44c21",
   "metadata": {},
   "source": [
    "## 4. Compute: Accuracy, true positive rate, false positive rate, true negative rate, false negative rate, precision, recall, f1-score, and support."
   ]
  },
  {
   "cell_type": "markdown",
   "id": "2f82885a",
   "metadata": {},
   "source": [
    "##### In sample:"
   ]
  },
  {
   "cell_type": "code",
   "execution_count": null,
   "id": "edc2596f",
   "metadata": {},
   "outputs": [],
   "source": [
    "print('Accuracy of Decision Tree classifier on training set: {:.2f}'\n",
    "      .format(clf.score(X_train, y_train)))"
   ]
  },
  {
   "cell_type": "code",
   "execution_count": null,
   "id": "7fc7448e",
   "metadata": {},
   "outputs": [],
   "source": [
    "print(classification_report(y_train, y_pred))"
   ]
  },
  {
   "cell_type": "markdown",
   "id": "2d78df26",
   "metadata": {},
   "source": [
    "##### Validate:"
   ]
  },
  {
   "cell_type": "code",
   "execution_count": null,
   "id": "b467cf9d",
   "metadata": {},
   "outputs": [],
   "source": [
    "print('Accuracy of Decision Tree classifier on validate set: {:.2f}'\n",
    "     .format(clf.score(X_validate, y_validate)))"
   ]
  },
  {
   "cell_type": "code",
   "execution_count": null,
   "id": "6d13ff0e",
   "metadata": {},
   "outputs": [],
   "source": [
    "y_pred = clf.predict(X_validate)\n",
    "\n",
    "print(classification_report(y_validate, y_pred))"
   ]
  },
  {
   "cell_type": "markdown",
   "id": "ac9c6604",
   "metadata": {},
   "source": [
    "## 5. Run through steps 2-4 using a different max_depth value."
   ]
  },
  {
   "cell_type": "markdown",
   "id": "df7434c9",
   "metadata": {},
   "source": [
    "### Using max_depth = 7:"
   ]
  },
  {
   "cell_type": "markdown",
   "id": "bdf3e8f5",
   "metadata": {},
   "source": [
    "##### Train:"
   ]
  },
  {
   "cell_type": "code",
   "execution_count": null,
   "id": "d860cf60",
   "metadata": {},
   "outputs": [],
   "source": [
    "clf = DecisionTreeClassifier(max_depth=7, random_state=123)\n",
    "clf = clf.fit(X_train, y_train)"
   ]
  },
  {
   "cell_type": "code",
   "execution_count": null,
   "id": "83f2dd88",
   "metadata": {},
   "outputs": [],
   "source": [
    "plt.figure(figsize=(16, 8))\n",
    "plot_tree(clf, feature_names=X_train.columns, class_names=clf.classes_.astype(str), rounded=True)"
   ]
  },
  {
   "cell_type": "code",
   "execution_count": null,
   "id": "7420fef4",
   "metadata": {},
   "outputs": [],
   "source": [
    "print('Accuracy of Decision Tree classifier on training set: {:.2f}'\n",
    "      .format(clf.score(X_train, y_train)))"
   ]
  },
  {
   "cell_type": "code",
   "execution_count": null,
   "id": "298ebbfb",
   "metadata": {},
   "outputs": [],
   "source": [
    "y_pred = clf.predict(X_train)\n",
    "print(classification_report(y_train, y_pred))"
   ]
  },
  {
   "cell_type": "markdown",
   "id": "bb213474",
   "metadata": {},
   "source": [
    "##### Validate:"
   ]
  },
  {
   "cell_type": "code",
   "execution_count": null,
   "id": "7d2ff9f5",
   "metadata": {},
   "outputs": [],
   "source": [
    "print('Accuracy of Decision Tree classifier on validation set: {:.2f}'\n",
    "      .format(clf.score(X_validate, y_validate)))"
   ]
  },
  {
   "cell_type": "code",
   "execution_count": null,
   "id": "23173f40",
   "metadata": {},
   "outputs": [],
   "source": [
    "y_pred = clf.predict(X_validate)\n",
    "\n",
    "print(classification_report(y_validate, y_pred))"
   ]
  },
  {
   "cell_type": "markdown",
   "id": "eb8229ba",
   "metadata": {},
   "source": [
    "## 6. Which model performs better on your in-sample data?"
   ]
  },
  {
   "cell_type": "markdown",
   "id": "401cbc72",
   "metadata": {},
   "source": [
    "The max_steps = 7 is better on in-sample data (as expected, more granular)."
   ]
  },
  {
   "cell_type": "markdown",
   "id": "65bf90ce",
   "metadata": {},
   "source": [
    "## 7. Which model performs best on your out-of-sample data, the validate set?"
   ]
  },
  {
   "cell_type": "markdown",
   "id": "a6e69202",
   "metadata": {},
   "source": [
    "The max_steps = 3 is better on the validate data."
   ]
  },
  {
   "cell_type": "markdown",
   "id": "5a50381b",
   "metadata": {},
   "source": [
    "# II. Telco Data - Decision Tree"
   ]
  },
  {
   "cell_type": "code",
   "execution_count": 2,
   "id": "cc28cdfa",
   "metadata": {},
   "outputs": [],
   "source": [
    "from acquire import get_telco_data\n",
    "from prepare import prep_telco"
   ]
  },
  {
   "cell_type": "code",
   "execution_count": 3,
   "id": "8924bbc5",
   "metadata": {},
   "outputs": [
    {
     "data": {
      "text/html": [
       "<div>\n",
       "<style scoped>\n",
       "    .dataframe tbody tr th:only-of-type {\n",
       "        vertical-align: middle;\n",
       "    }\n",
       "\n",
       "    .dataframe tbody tr th {\n",
       "        vertical-align: top;\n",
       "    }\n",
       "\n",
       "    .dataframe thead th {\n",
       "        text-align: right;\n",
       "    }\n",
       "</style>\n",
       "<table border=\"1\" class=\"dataframe\">\n",
       "  <thead>\n",
       "    <tr style=\"text-align: right;\">\n",
       "      <th></th>\n",
       "      <th>internet_service_type_id</th>\n",
       "      <th>customer_id</th>\n",
       "      <th>contract_type_id</th>\n",
       "      <th>paperless_billing</th>\n",
       "      <th>contract_type</th>\n",
       "      <th>payment_type_id</th>\n",
       "      <th>monthly_charges</th>\n",
       "      <th>total_charges</th>\n",
       "      <th>gender</th>\n",
       "      <th>senior_citizen</th>\n",
       "      <th>...</th>\n",
       "      <th>tech_support</th>\n",
       "      <th>streaming_tv</th>\n",
       "      <th>streaming_movies</th>\n",
       "      <th>contract_type_id.1</th>\n",
       "      <th>paperless_billing.1</th>\n",
       "      <th>payment_type_id.1</th>\n",
       "      <th>monthly_charges.1</th>\n",
       "      <th>total_charges.1</th>\n",
       "      <th>churn</th>\n",
       "      <th>internet_service_type</th>\n",
       "    </tr>\n",
       "  </thead>\n",
       "  <tbody>\n",
       "    <tr>\n",
       "      <th>0</th>\n",
       "      <td>2</td>\n",
       "      <td>0004-TLHLJ</td>\n",
       "      <td>1</td>\n",
       "      <td>Yes</td>\n",
       "      <td>Month-to-month</td>\n",
       "      <td>1</td>\n",
       "      <td>73.9</td>\n",
       "      <td>280.85</td>\n",
       "      <td>Male</td>\n",
       "      <td>0</td>\n",
       "      <td>...</td>\n",
       "      <td>No</td>\n",
       "      <td>No</td>\n",
       "      <td>No</td>\n",
       "      <td>1</td>\n",
       "      <td>Yes</td>\n",
       "      <td>1</td>\n",
       "      <td>73.9</td>\n",
       "      <td>280.85</td>\n",
       "      <td>Yes</td>\n",
       "      <td>Fiber optic</td>\n",
       "    </tr>\n",
       "    <tr>\n",
       "      <th>1</th>\n",
       "      <td>1</td>\n",
       "      <td>0017-DINOC</td>\n",
       "      <td>3</td>\n",
       "      <td>No</td>\n",
       "      <td>Two year</td>\n",
       "      <td>4</td>\n",
       "      <td>45.2</td>\n",
       "      <td>2460.55</td>\n",
       "      <td>Male</td>\n",
       "      <td>0</td>\n",
       "      <td>...</td>\n",
       "      <td>Yes</td>\n",
       "      <td>Yes</td>\n",
       "      <td>No</td>\n",
       "      <td>3</td>\n",
       "      <td>No</td>\n",
       "      <td>4</td>\n",
       "      <td>45.2</td>\n",
       "      <td>2460.55</td>\n",
       "      <td>No</td>\n",
       "      <td>DSL</td>\n",
       "    </tr>\n",
       "  </tbody>\n",
       "</table>\n",
       "<p>2 rows × 28 columns</p>\n",
       "</div>"
      ],
      "text/plain": [
       "   internet_service_type_id customer_id  contract_type_id paperless_billing  \\\n",
       "0                         2  0004-TLHLJ                 1               Yes   \n",
       "1                         1  0017-DINOC                 3                No   \n",
       "\n",
       "    contract_type  payment_type_id  monthly_charges total_charges gender  \\\n",
       "0  Month-to-month                1             73.9        280.85   Male   \n",
       "1        Two year                4             45.2       2460.55   Male   \n",
       "\n",
       "   senior_citizen  ... tech_support streaming_tv  streaming_movies  \\\n",
       "0               0  ...           No           No                No   \n",
       "1               0  ...          Yes          Yes                No   \n",
       "\n",
       "  contract_type_id.1 paperless_billing.1 payment_type_id.1 monthly_charges.1  \\\n",
       "0                  1                 Yes                 1              73.9   \n",
       "1                  3                  No                 4              45.2   \n",
       "\n",
       "  total_charges.1 churn internet_service_type  \n",
       "0          280.85   Yes           Fiber optic  \n",
       "1         2460.55    No                   DSL  \n",
       "\n",
       "[2 rows x 28 columns]"
      ]
     },
     "execution_count": 3,
     "metadata": {},
     "output_type": "execute_result"
    }
   ],
   "source": [
    "df = get_telco_data()\n",
    "df.head(2)"
   ]
  },
  {
   "cell_type": "code",
   "execution_count": 4,
   "id": "2a4a1f23",
   "metadata": {},
   "outputs": [
    {
     "name": "stdout",
     "output_type": "stream",
     "text": [
      "<class 'pandas.core.frame.DataFrame'>\n",
      "Int64Index: 7032 entries, 0 to 7042\n",
      "Data columns (total 44 columns):\n",
      " #   Column                                 Non-Null Count  Dtype  \n",
      "---  ------                                 --------------  -----  \n",
      " 0   paperless_billing                      7032 non-null   object \n",
      " 1   contract_type                          7032 non-null   object \n",
      " 2   monthly_charges                        7032 non-null   float64\n",
      " 3   total_charges                          7032 non-null   float64\n",
      " 4   gender                                 7032 non-null   object \n",
      " 5   senior_citizen                         7032 non-null   int64  \n",
      " 6   partner                                7032 non-null   object \n",
      " 7   dependents                             7032 non-null   object \n",
      " 8   tenure                                 7032 non-null   int64  \n",
      " 9   phone_service                          7032 non-null   object \n",
      " 10  multiple_lines                         7032 non-null   object \n",
      " 11  online_security                        7032 non-null   object \n",
      " 12  online_backup                          7032 non-null   object \n",
      " 13  device_protection                      7032 non-null   object \n",
      " 14  tech_support                           7032 non-null   object \n",
      " 15  streaming_tv                           7032 non-null   object \n",
      " 16  streaming_movies                       7032 non-null   object \n",
      " 17  contract_type_id.1                     7032 non-null   int64  \n",
      " 18  churn                                  7032 non-null   object \n",
      " 19  internet_service_type                  7032 non-null   object \n",
      " 20  gender_encoded                         7032 non-null   int64  \n",
      " 21  partner_encoded                        7032 non-null   int64  \n",
      " 22  dependents_encoded                     7032 non-null   int64  \n",
      " 23  phone_service_encoded                  7032 non-null   int64  \n",
      " 24  paperless_billing_encoded              7032 non-null   int64  \n",
      " 25  churn_encoded                          7032 non-null   int64  \n",
      " 26  multiple_lines_No phone service        7032 non-null   uint8  \n",
      " 27  multiple_lines_Yes                     7032 non-null   uint8  \n",
      " 28  online_security_No internet service    7032 non-null   uint8  \n",
      " 29  online_security_Yes                    7032 non-null   uint8  \n",
      " 30  online_backup_No internet service      7032 non-null   uint8  \n",
      " 31  online_backup_Yes                      7032 non-null   uint8  \n",
      " 32  device_protection_No internet service  7032 non-null   uint8  \n",
      " 33  device_protection_Yes                  7032 non-null   uint8  \n",
      " 34  tech_support_No internet service       7032 non-null   uint8  \n",
      " 35  tech_support_Yes                       7032 non-null   uint8  \n",
      " 36  streaming_tv_No internet service       7032 non-null   uint8  \n",
      " 37  streaming_tv_Yes                       7032 non-null   uint8  \n",
      " 38  streaming_movies_No internet service   7032 non-null   uint8  \n",
      " 39  streaming_movies_Yes                   7032 non-null   uint8  \n",
      " 40  contract_type_One year                 7032 non-null   uint8  \n",
      " 41  contract_type_Two year                 7032 non-null   uint8  \n",
      " 42  internet_service_type_Fiber optic      7032 non-null   uint8  \n",
      " 43  internet_service_type_None             7032 non-null   uint8  \n",
      "dtypes: float64(2), int64(9), object(15), uint8(18)\n",
      "memory usage: 1.6+ MB\n"
     ]
    }
   ],
   "source": [
    "df = prep_telco(df)\n",
    "df.info()"
   ]
  },
  {
   "cell_type": "code",
   "execution_count": 5,
   "id": "3229db31",
   "metadata": {},
   "outputs": [
    {
     "data": {
      "text/plain": [
       "['paperless_billing',\n",
       " 'contract_type',\n",
       " 'gender',\n",
       " 'partner',\n",
       " 'dependents',\n",
       " 'phone_service',\n",
       " 'multiple_lines',\n",
       " 'online_security',\n",
       " 'online_backup',\n",
       " 'device_protection',\n",
       " 'tech_support',\n",
       " 'streaming_tv',\n",
       " 'streaming_movies',\n",
       " 'internet_service_type',\n",
       " 'churn_encoded']"
      ]
     },
     "execution_count": 5,
     "metadata": {},
     "output_type": "execute_result"
    }
   ],
   "source": [
    "dropcols = [col for col in df.columns if df[col].dtype == 'object']\n",
    "dropcols.remove('churn')\n",
    "dropcols.append('churn_encoded')\n",
    "dropcols"
   ]
  },
  {
   "cell_type": "code",
   "execution_count": 6,
   "id": "12c01f69",
   "metadata": {},
   "outputs": [
    {
     "data": {
      "text/html": [
       "<div>\n",
       "<style scoped>\n",
       "    .dataframe tbody tr th:only-of-type {\n",
       "        vertical-align: middle;\n",
       "    }\n",
       "\n",
       "    .dataframe tbody tr th {\n",
       "        vertical-align: top;\n",
       "    }\n",
       "\n",
       "    .dataframe thead th {\n",
       "        text-align: right;\n",
       "    }\n",
       "</style>\n",
       "<table border=\"1\" class=\"dataframe\">\n",
       "  <thead>\n",
       "    <tr style=\"text-align: right;\">\n",
       "      <th></th>\n",
       "      <th>monthly_charges</th>\n",
       "      <th>total_charges</th>\n",
       "      <th>senior_citizen</th>\n",
       "      <th>tenure</th>\n",
       "      <th>contract_type_id.1</th>\n",
       "      <th>churn</th>\n",
       "      <th>gender_encoded</th>\n",
       "      <th>partner_encoded</th>\n",
       "      <th>dependents_encoded</th>\n",
       "      <th>phone_service_encoded</th>\n",
       "      <th>...</th>\n",
       "      <th>tech_support_No internet service</th>\n",
       "      <th>tech_support_Yes</th>\n",
       "      <th>streaming_tv_No internet service</th>\n",
       "      <th>streaming_tv_Yes</th>\n",
       "      <th>streaming_movies_No internet service</th>\n",
       "      <th>streaming_movies_Yes</th>\n",
       "      <th>contract_type_One year</th>\n",
       "      <th>contract_type_Two year</th>\n",
       "      <th>internet_service_type_Fiber optic</th>\n",
       "      <th>internet_service_type_None</th>\n",
       "    </tr>\n",
       "  </thead>\n",
       "  <tbody>\n",
       "    <tr>\n",
       "      <th>0</th>\n",
       "      <td>73.9</td>\n",
       "      <td>280.85</td>\n",
       "      <td>0</td>\n",
       "      <td>4</td>\n",
       "      <td>1</td>\n",
       "      <td>Yes</td>\n",
       "      <td>0</td>\n",
       "      <td>0</td>\n",
       "      <td>0</td>\n",
       "      <td>1</td>\n",
       "      <td>...</td>\n",
       "      <td>0</td>\n",
       "      <td>0</td>\n",
       "      <td>0</td>\n",
       "      <td>0</td>\n",
       "      <td>0</td>\n",
       "      <td>0</td>\n",
       "      <td>0</td>\n",
       "      <td>0</td>\n",
       "      <td>1</td>\n",
       "      <td>0</td>\n",
       "    </tr>\n",
       "    <tr>\n",
       "      <th>1</th>\n",
       "      <td>45.2</td>\n",
       "      <td>2460.55</td>\n",
       "      <td>0</td>\n",
       "      <td>54</td>\n",
       "      <td>3</td>\n",
       "      <td>No</td>\n",
       "      <td>0</td>\n",
       "      <td>0</td>\n",
       "      <td>0</td>\n",
       "      <td>0</td>\n",
       "      <td>...</td>\n",
       "      <td>0</td>\n",
       "      <td>1</td>\n",
       "      <td>0</td>\n",
       "      <td>1</td>\n",
       "      <td>0</td>\n",
       "      <td>0</td>\n",
       "      <td>0</td>\n",
       "      <td>1</td>\n",
       "      <td>0</td>\n",
       "      <td>0</td>\n",
       "    </tr>\n",
       "  </tbody>\n",
       "</table>\n",
       "<p>2 rows × 29 columns</p>\n",
       "</div>"
      ],
      "text/plain": [
       "   monthly_charges  total_charges  senior_citizen  tenure  contract_type_id.1  \\\n",
       "0             73.9         280.85               0       4                   1   \n",
       "1             45.2        2460.55               0      54                   3   \n",
       "\n",
       "  churn  gender_encoded  partner_encoded  dependents_encoded  \\\n",
       "0   Yes               0                0                   0   \n",
       "1    No               0                0                   0   \n",
       "\n",
       "   phone_service_encoded  ...  tech_support_No internet service  \\\n",
       "0                      1  ...                                 0   \n",
       "1                      0  ...                                 0   \n",
       "\n",
       "   tech_support_Yes  streaming_tv_No internet service  streaming_tv_Yes  \\\n",
       "0                 0                                 0                 0   \n",
       "1                 1                                 0                 1   \n",
       "\n",
       "   streaming_movies_No internet service  streaming_movies_Yes  \\\n",
       "0                                     0                     0   \n",
       "1                                     0                     0   \n",
       "\n",
       "   contract_type_One year  contract_type_Two year  \\\n",
       "0                       0                       0   \n",
       "1                       0                       1   \n",
       "\n",
       "   internet_service_type_Fiber optic  internet_service_type_None  \n",
       "0                                  1                           0  \n",
       "1                                  0                           0  \n",
       "\n",
       "[2 rows x 29 columns]"
      ]
     },
     "execution_count": 6,
     "metadata": {},
     "output_type": "execute_result"
    }
   ],
   "source": [
    "df = df.drop(columns=dropcols)\n",
    "df.head(2)"
   ]
  },
  {
   "cell_type": "code",
   "execution_count": 7,
   "id": "9ff02130",
   "metadata": {},
   "outputs": [
    {
     "data": {
      "text/plain": [
       "No     2891\n",
       "Yes    1046\n",
       "Name: churn, dtype: int64"
      ]
     },
     "execution_count": 7,
     "metadata": {},
     "output_type": "execute_result"
    }
   ],
   "source": [
    "df_train, df_validate, df_test = splitter(df, 'churn')\n",
    "df_train.churn.value_counts()"
   ]
  },
  {
   "cell_type": "code",
   "execution_count": 8,
   "id": "71d82db8",
   "metadata": {},
   "outputs": [
    {
     "data": {
      "text/plain": [
       "0.7343154686309372"
      ]
     },
     "execution_count": 8,
     "metadata": {},
     "output_type": "execute_result"
    }
   ],
   "source": [
    "2891/(2891+1046)"
   ]
  },
  {
   "cell_type": "markdown",
   "id": "abe94a2a",
   "metadata": {},
   "source": [
    "#### Baseline case is 'not churned' and the baseline accuracy is 73.43%."
   ]
  },
  {
   "cell_type": "code",
   "execution_count": 9,
   "id": "c88a098d",
   "metadata": {},
   "outputs": [],
   "source": [
    "X_train = df_train.drop(columns=['churn'])\n",
    "y_train = df_train.churn\n",
    "\n",
    "X_validate = df_validate.drop(columns=['churn'])\n",
    "y_validate = df_validate.churn\n",
    "\n",
    "X_test = df_test.drop(columns=['churn'])\n",
    "y_test = df_test.churn"
   ]
  },
  {
   "cell_type": "code",
   "execution_count": 10,
   "id": "4e47940a",
   "metadata": {},
   "outputs": [],
   "source": [
    "clf = DecisionTreeClassifier(max_depth = 3, random_state=123)\n",
    "clf = clf.fit(X_train, y_train)"
   ]
  },
  {
   "cell_type": "code",
   "execution_count": 11,
   "id": "207c88d8",
   "metadata": {},
   "outputs": [
    {
     "data": {
      "text/plain": [
       "[Text(446.4, 380.52, 'contract_type_id.1 <= 1.5\\ngini = 0.39\\nsamples = 3937\\nvalue = [2891, 1046]\\nclass = No'),\n",
       " Text(223.2, 271.8, 'internet_service_type_Fiber optic <= 0.5\\ngini = 0.49\\nsamples = 2161\\nvalue = [1233, 928]\\nclass = No'),\n",
       " Text(111.6, 163.07999999999998, 'tenure <= 5.5\\ngini = 0.409\\nsamples = 954\\nvalue = [681, 273]\\nclass = No'),\n",
       " Text(55.8, 54.360000000000014, 'gini = 0.497\\nsamples = 401\\nvalue = [217, 184]\\nclass = No'),\n",
       " Text(167.39999999999998, 54.360000000000014, 'gini = 0.27\\nsamples = 553\\nvalue = [464, 89]\\nclass = No'),\n",
       " Text(334.79999999999995, 163.07999999999998, 'total_charges <= 1163.45\\ngini = 0.496\\nsamples = 1207\\nvalue = [552, 655]\\nclass = Yes'),\n",
       " Text(279.0, 54.360000000000014, 'gini = 0.416\\nsamples = 543\\nvalue = [160, 383]\\nclass = Yes'),\n",
       " Text(390.59999999999997, 54.360000000000014, 'gini = 0.484\\nsamples = 664\\nvalue = [392, 272]\\nclass = No'),\n",
       " Text(669.5999999999999, 271.8, 'monthly_charges <= 99.95\\ngini = 0.124\\nsamples = 1776\\nvalue = [1658, 118]\\nclass = No'),\n",
       " Text(558.0, 163.07999999999998, 'contract_type_Two year <= 0.5\\ngini = 0.086\\nsamples = 1462\\nvalue = [1396, 66]\\nclass = No'),\n",
       " Text(502.2, 54.360000000000014, 'gini = 0.144\\nsamples = 693\\nvalue = [639, 54]\\nclass = No'),\n",
       " Text(613.8, 54.360000000000014, 'gini = 0.031\\nsamples = 769\\nvalue = [757, 12]\\nclass = No'),\n",
       " Text(781.1999999999999, 163.07999999999998, 'tenure <= 70.5\\ngini = 0.276\\nsamples = 314\\nvalue = [262, 52]\\nclass = No'),\n",
       " Text(725.4, 54.360000000000014, 'gini = 0.346\\nsamples = 225\\nvalue = [175, 50]\\nclass = No'),\n",
       " Text(837.0, 54.360000000000014, 'gini = 0.044\\nsamples = 89\\nvalue = [87, 2]\\nclass = No')]"
      ]
     },
     "execution_count": 11,
     "metadata": {},
     "output_type": "execute_result"
    },
    {
     "data": {
      "image/png": "[encoded data removed]",
      "text/plain": [
       "<Figure size 1152x576 with 1 Axes>"
      ]
     },
     "metadata": {
      "needs_background": "light"
     },
     "output_type": "display_data"
    }
   ],
   "source": [
    "plt.figure(figsize=(16, 8))\n",
    "plot_tree(clf, feature_names=X_train.columns, class_names=clf.classes_.astype(str), rounded=True)"
   ]
  },
  {
   "cell_type": "code",
   "execution_count": 12,
   "id": "d56e8c92",
   "metadata": {},
   "outputs": [
    {
     "data": {
      "text/plain": [
       "array(['No', 'Yes', 'No', 'Yes', 'No'], dtype=object)"
      ]
     },
     "execution_count": 12,
     "metadata": {},
     "output_type": "execute_result"
    }
   ],
   "source": [
    "y_pred = clf.predict(X_train)\n",
    "y_pred[0:5]"
   ]
  },
  {
   "cell_type": "code",
   "execution_count": 13,
   "id": "6759932d",
   "metadata": {},
   "outputs": [
    {
     "data": {
      "text/plain": [
       "array([[0.59036145, 0.40963855],\n",
       "       [0.2946593 , 0.7053407 ],\n",
       "       [0.92207792, 0.07792208],\n",
       "       [0.2946593 , 0.7053407 ],\n",
       "       [0.77777778, 0.22222222]])"
      ]
     },
     "execution_count": 13,
     "metadata": {},
     "output_type": "execute_result"
    }
   ],
   "source": [
    "y_pred_proba = clf.predict_proba(X_train)\n",
    "y_pred_proba[0:5]"
   ]
  },
  {
   "cell_type": "code",
   "execution_count": 14,
   "id": "6c50b0c0",
   "metadata": {},
   "outputs": [
    {
     "data": {
      "text/html": [
       "<div>\n",
       "<style scoped>\n",
       "    .dataframe tbody tr th:only-of-type {\n",
       "        vertical-align: middle;\n",
       "    }\n",
       "\n",
       "    .dataframe tbody tr th {\n",
       "        vertical-align: top;\n",
       "    }\n",
       "\n",
       "    .dataframe thead th {\n",
       "        text-align: right;\n",
       "    }\n",
       "</style>\n",
       "<table border=\"1\" class=\"dataframe\">\n",
       "  <thead>\n",
       "    <tr style=\"text-align: right;\">\n",
       "      <th></th>\n",
       "      <th>No</th>\n",
       "      <th>Yes</th>\n",
       "    </tr>\n",
       "  </thead>\n",
       "  <tbody>\n",
       "    <tr>\n",
       "      <th>No</th>\n",
       "      <td>2731</td>\n",
       "      <td>160</td>\n",
       "    </tr>\n",
       "    <tr>\n",
       "      <th>Yes</th>\n",
       "      <td>663</td>\n",
       "      <td>383</td>\n",
       "    </tr>\n",
       "  </tbody>\n",
       "</table>\n",
       "</div>"
      ],
      "text/plain": [
       "       No  Yes\n",
       "No   2731  160\n",
       "Yes   663  383"
      ]
     },
     "execution_count": 14,
     "metadata": {},
     "output_type": "execute_result"
    }
   ],
   "source": [
    "labels = sorted(y_train.unique())\n",
    "pd.DataFrame(confusion_matrix(y_train, y_pred), index=labels, columns=labels)"
   ]
  },
  {
   "cell_type": "markdown",
   "id": "3a432414",
   "metadata": {},
   "source": [
    "##### In training sample:"
   ]
  },
  {
   "cell_type": "code",
   "execution_count": 15,
   "id": "efd6f9b9",
   "metadata": {},
   "outputs": [
    {
     "name": "stdout",
     "output_type": "stream",
     "text": [
      "Accuracy of Decision Tree classifier on training set: 0.79\n"
     ]
    }
   ],
   "source": [
    "print('Accuracy of Decision Tree classifier on training set: {:.2f}'\n",
    "      .format(clf.score(X_train, y_train)))"
   ]
  },
  {
   "cell_type": "code",
   "execution_count": 16,
   "id": "8c52acf3",
   "metadata": {},
   "outputs": [
    {
     "name": "stdout",
     "output_type": "stream",
     "text": [
      "              precision    recall  f1-score   support\n",
      "\n",
      "          No       0.80      0.94      0.87      2891\n",
      "         Yes       0.71      0.37      0.48      1046\n",
      "\n",
      "    accuracy                           0.79      3937\n",
      "   macro avg       0.75      0.66      0.68      3937\n",
      "weighted avg       0.78      0.79      0.77      3937\n",
      "\n"
     ]
    }
   ],
   "source": [
    "y_pred = clf.predict(X_train)\n",
    "print(classification_report(y_train, y_pred))"
   ]
  },
  {
   "cell_type": "markdown",
   "id": "8444af2b",
   "metadata": {},
   "source": [
    "##### In validation sample:"
   ]
  },
  {
   "cell_type": "code",
   "execution_count": 18,
   "id": "4220599d",
   "metadata": {},
   "outputs": [
    {
     "name": "stdout",
     "output_type": "stream",
     "text": [
      "Accuracy of Decision Tree classifier on validation set: 0.79\n"
     ]
    }
   ],
   "source": [
    "print('Accuracy of Decision Tree classifier on validation set: {:.2f}'\n",
    "      .format(clf.score(X_validate, y_validate)))"
   ]
  },
  {
   "cell_type": "code",
   "execution_count": 19,
   "id": "388d6564",
   "metadata": {},
   "outputs": [
    {
     "name": "stdout",
     "output_type": "stream",
     "text": [
      "              precision    recall  f1-score   support\n",
      "\n",
      "          No       0.80      0.95      0.87      1239\n",
      "         Yes       0.71      0.37      0.48       449\n",
      "\n",
      "    accuracy                           0.79      1688\n",
      "   macro avg       0.76      0.66      0.68      1688\n",
      "weighted avg       0.78      0.79      0.77      1688\n",
      "\n"
     ]
    }
   ],
   "source": [
    "y_pred = clf.predict(X_validate)\n",
    "print(classification_report(y_validate, y_pred))"
   ]
  },
  {
   "cell_type": "markdown",
   "id": "ca148102",
   "metadata": {},
   "source": [
    "### Using max_depth = 7"
   ]
  },
  {
   "cell_type": "code",
   "execution_count": 47,
   "id": "0222cd1a",
   "metadata": {},
   "outputs": [],
   "source": [
    "clf = DecisionTreeClassifier(max_depth = 7, random_state=123)\n",
    "clf = clf.fit(X_train, y_train)"
   ]
  },
  {
   "cell_type": "code",
   "execution_count": 48,
   "id": "7b9eebc6",
   "metadata": {},
   "outputs": [
    {
     "data": {
      "text/plain": [
       "[Text(502.052380952381, 407.7, 'contract_type_id.1 <= 1.5\\ngini = 0.39\\nsamples = 3937\\nvalue = [2891, 1046]\\nclass = No'),\n",
       " Text(271.0285714285714, 353.34000000000003, 'internet_service_type_Fiber optic <= 0.5\\ngini = 0.49\\nsamples = 2161\\nvalue = [1233, 928]\\nclass = No'),\n",
       " Text(147.61904761904762, 298.98, 'tenure <= 5.5\\ngini = 0.409\\nsamples = 954\\nvalue = [681, 273]\\nclass = No'),\n",
       " Text(75.58095238095238, 244.62, 'device_protection_No internet service <= 0.5\\ngini = 0.497\\nsamples = 401\\nvalue = [217, 184]\\nclass = No'),\n",
       " Text(37.79047619047619, 190.26, 'total_charges <= 109.1\\ngini = 0.492\\nsamples = 250\\nvalue = [109, 141]\\nclass = Yes'),\n",
       " Text(18.895238095238096, 135.89999999999998, 'multiple_lines_No phone service <= 0.5\\ngini = 0.458\\nsamples = 149\\nvalue = [53, 96]\\nclass = Yes'),\n",
       " Text(9.447619047619048, 81.54000000000002, 'monthly_charges <= 45.625\\ngini = 0.485\\nsamples = 97\\nvalue = [40, 57]\\nclass = Yes'),\n",
       " Text(4.723809523809524, 27.180000000000007, 'gini = 0.493\\nsamples = 34\\nvalue = [19, 15]\\nclass = No'),\n",
       " Text(14.17142857142857, 27.180000000000007, 'gini = 0.444\\nsamples = 63\\nvalue = [21, 42]\\nclass = Yes'),\n",
       " Text(28.34285714285714, 81.54000000000002, 'paperless_billing_encoded <= 0.5\\ngini = 0.375\\nsamples = 52\\nvalue = [13, 39]\\nclass = Yes'),\n",
       " Text(23.61904761904762, 27.180000000000007, 'gini = 0.491\\nsamples = 23\\nvalue = [10, 13]\\nclass = Yes'),\n",
       " Text(33.06666666666667, 27.180000000000007, 'gini = 0.185\\nsamples = 29\\nvalue = [3, 26]\\nclass = Yes'),\n",
       " Text(56.68571428571428, 135.89999999999998, 'monthly_charges <= 55.525\\ngini = 0.494\\nsamples = 101\\nvalue = [56, 45]\\nclass = No'),\n",
       " Text(47.23809523809524, 81.54000000000002, 'monthly_charges <= 44.95\\ngini = 0.498\\nsamples = 66\\nvalue = [31, 35]\\nclass = Yes'),\n",
       " Text(42.51428571428571, 27.180000000000007, 'gini = 0.444\\nsamples = 24\\nvalue = [16, 8]\\nclass = No'),\n",
       " Text(51.96190476190476, 27.180000000000007, 'gini = 0.459\\nsamples = 42\\nvalue = [15, 27]\\nclass = Yes'),\n",
       " Text(66.13333333333334, 81.54000000000002, 'monthly_charges <= 65.475\\ngini = 0.408\\nsamples = 35\\nvalue = [25, 10]\\nclass = No'),\n",
       " Text(61.40952380952381, 27.180000000000007, 'gini = 0.293\\nsamples = 28\\nvalue = [23, 5]\\nclass = No'),\n",
       " Text(70.85714285714286, 27.180000000000007, 'gini = 0.408\\nsamples = 7\\nvalue = [2, 5]\\nclass = Yes'),\n",
       " Text(113.37142857142857, 190.26, 'total_charges <= 21.025\\ngini = 0.407\\nsamples = 151\\nvalue = [108, 43]\\nclass = No'),\n",
       " Text(94.47619047619048, 135.89999999999998, 'monthly_charges <= 20.475\\ngini = 0.487\\nsamples = 81\\nvalue = [47, 34]\\nclass = No'),\n",
       " Text(85.02857142857142, 81.54000000000002, 'total_charges <= 20.225\\ngini = 0.469\\nsamples = 72\\nvalue = [45, 27]\\nclass = No'),\n",
       " Text(80.3047619047619, 27.180000000000007, 'gini = 0.493\\nsamples = 61\\nvalue = [34, 27]\\nclass = No'),\n",
       " Text(89.75238095238096, 27.180000000000007, 'gini = 0.0\\nsamples = 11\\nvalue = [11, 0]\\nclass = No'),\n",
       " Text(103.92380952380952, 81.54000000000002, 'gender_encoded <= 0.5\\ngini = 0.346\\nsamples = 9\\nvalue = [2, 7]\\nclass = Yes'),\n",
       " Text(99.2, 27.180000000000007, 'gini = 0.444\\nsamples = 3\\nvalue = [2, 1]\\nclass = No'),\n",
       " Text(108.64761904761905, 27.180000000000007, 'gini = 0.0\\nsamples = 6\\nvalue = [0, 6]\\nclass = Yes'),\n",
       " Text(132.26666666666668, 135.89999999999998, 'total_charges <= 106.175\\ngini = 0.224\\nsamples = 70\\nvalue = [61, 9]\\nclass = No'),\n",
       " Text(122.81904761904762, 81.54000000000002, 'total_charges <= 76.975\\ngini = 0.195\\nsamples = 64\\nvalue = [57, 7]\\nclass = No'),\n",
       " Text(118.0952380952381, 27.180000000000007, 'gini = 0.254\\nsamples = 47\\nvalue = [40, 7]\\nclass = No'),\n",
       " Text(127.54285714285714, 27.180000000000007, 'gini = 0.0\\nsamples = 17\\nvalue = [17, 0]\\nclass = No'),\n",
       " Text(141.71428571428572, 81.54000000000002, 'monthly_charges <= 19.9\\ngini = 0.444\\nsamples = 6\\nvalue = [4, 2]\\nclass = No'),\n",
       " Text(136.9904761904762, 27.180000000000007, 'gini = 0.0\\nsamples = 1\\nvalue = [0, 1]\\nclass = Yes'),\n",
       " Text(146.43809523809523, 27.180000000000007, 'gini = 0.32\\nsamples = 5\\nvalue = [4, 1]\\nclass = No'),\n",
       " Text(219.65714285714287, 244.62, 'tenure <= 16.5\\ngini = 0.27\\nsamples = 553\\nvalue = [464, 89]\\nclass = No'),\n",
       " Text(188.95238095238096, 190.26, 'tenure <= 14.5\\ngini = 0.342\\nsamples = 247\\nvalue = [193, 54]\\nclass = No'),\n",
       " Text(170.05714285714285, 135.89999999999998, 'monthly_charges <= 29.875\\ngini = 0.31\\nsamples = 219\\nvalue = [177, 42]\\nclass = No'),\n",
       " Text(160.6095238095238, 81.54000000000002, 'monthly_charges <= 20.125\\ngini = 0.193\\nsamples = 74\\nvalue = [66, 8]\\nclass = No'),\n",
       " Text(155.8857142857143, 27.180000000000007, 'gini = 0.326\\nsamples = 39\\nvalue = [31, 8]\\nclass = No'),\n",
       " Text(165.33333333333334, 27.180000000000007, 'gini = 0.0\\nsamples = 35\\nvalue = [35, 0]\\nclass = No'),\n",
       " Text(179.50476190476192, 81.54000000000002, 'monthly_charges <= 30.65\\ngini = 0.359\\nsamples = 145\\nvalue = [111, 34]\\nclass = No'),\n",
       " Text(174.78095238095239, 27.180000000000007, 'gini = 0.0\\nsamples = 2\\nvalue = [0, 2]\\nclass = Yes'),\n",
       " Text(184.22857142857143, 27.180000000000007, 'gini = 0.347\\nsamples = 143\\nvalue = [111, 32]\\nclass = No'),\n",
       " Text(207.84761904761905, 135.89999999999998, 'dependents_encoded <= 0.5\\ngini = 0.49\\nsamples = 28\\nvalue = [16, 12]\\nclass = No'),\n",
       " Text(198.4, 81.54000000000002, 'total_charges <= 755.75\\ngini = 0.499\\nsamples = 21\\nvalue = [10, 11]\\nclass = Yes'),\n",
       " Text(193.67619047619047, 27.180000000000007, 'gini = 0.473\\nsamples = 13\\nvalue = [8, 5]\\nclass = No'),\n",
       " Text(203.12380952380954, 27.180000000000007, 'gini = 0.375\\nsamples = 8\\nvalue = [2, 6]\\nclass = Yes'),\n",
       " Text(217.2952380952381, 81.54000000000002, 'total_charges <= 304.725\\ngini = 0.245\\nsamples = 7\\nvalue = [6, 1]\\nclass = No'),\n",
       " Text(212.57142857142858, 27.180000000000007, 'gini = 0.5\\nsamples = 2\\nvalue = [1, 1]\\nclass = No'),\n",
       " Text(222.01904761904763, 27.180000000000007, 'gini = 0.0\\nsamples = 5\\nvalue = [5, 0]\\nclass = No'),\n",
       " Text(250.36190476190475, 190.26, 'multiple_lines_No phone service <= 0.5\\ngini = 0.203\\nsamples = 306\\nvalue = [271, 35]\\nclass = No'),\n",
       " Text(240.9142857142857, 135.89999999999998, 'total_charges <= 2286.725\\ngini = 0.143\\nsamples = 220\\nvalue = [203, 17]\\nclass = No'),\n",
       " Text(236.1904761904762, 81.54000000000002, 'total_charges <= 2248.025\\ngini = 0.173\\nsamples = 178\\nvalue = [161, 17]\\nclass = No'),\n",
       " Text(231.46666666666667, 27.180000000000007, 'gini = 0.156\\nsamples = 176\\nvalue = [161, 15]\\nclass = No'),\n",
       " Text(240.9142857142857, 27.180000000000007, 'gini = 0.0\\nsamples = 2\\nvalue = [0, 2]\\nclass = Yes'),\n",
       " Text(245.63809523809525, 81.54000000000002, 'gini = 0.0\\nsamples = 42\\nvalue = [42, 0]\\nclass = No'),\n",
       " Text(259.8095238095238, 135.89999999999998, 'tech_support_Yes <= 0.5\\ngini = 0.331\\nsamples = 86\\nvalue = [68, 18]\\nclass = No'),\n",
       " Text(255.0857142857143, 81.54000000000002, 'gender_encoded <= 0.5\\ngini = 0.408\\nsamples = 63\\nvalue = [45, 18]\\nclass = No'),\n",
       " Text(250.36190476190475, 27.180000000000007, 'gini = 0.271\\nsamples = 31\\nvalue = [26, 5]\\nclass = No'),\n",
       " Text(259.8095238095238, 27.180000000000007, 'gini = 0.482\\nsamples = 32\\nvalue = [19, 13]\\nclass = No'),\n",
       " Text(264.53333333333336, 81.54000000000002, 'gini = 0.0\\nsamples = 23\\nvalue = [23, 0]\\nclass = No'),\n",
       " Text(394.43809523809523, 298.98, 'total_charges <= 1163.45\\ngini = 0.496\\nsamples = 1207\\nvalue = [552, 655]\\nclass = Yes'),\n",
       " Text(327.12380952380954, 244.62, 'total_charges <= 133.125\\ngini = 0.416\\nsamples = 543\\nvalue = [160, 383]\\nclass = Yes'),\n",
       " Text(295.23809523809524, 190.26, 'tech_support_Yes <= 0.5\\ngini = 0.228\\nsamples = 137\\nvalue = [18, 119]\\nclass = Yes'),\n",
       " Text(283.42857142857144, 135.89999999999998, 'online_backup_Yes <= 0.5\\ngini = 0.203\\nsamples = 131\\nvalue = [15, 116]\\nclass = Yes'),\n",
       " Text(273.9809523809524, 81.54000000000002, 'total_charges <= 69.925\\ngini = 0.176\\nsamples = 123\\nvalue = [12, 111]\\nclass = Yes'),\n",
       " Text(269.25714285714287, 27.180000000000007, 'gini = 0.0\\nsamples = 22\\nvalue = [0, 22]\\nclass = Yes'),\n",
       " Text(278.70476190476194, 27.180000000000007, 'gini = 0.209\\nsamples = 101\\nvalue = [12, 89]\\nclass = Yes'),\n",
       " Text(292.87619047619046, 81.54000000000002, 'total_charges <= 74.65\\ngini = 0.469\\nsamples = 8\\nvalue = [3, 5]\\nclass = Yes'),\n",
       " Text(288.15238095238095, 27.180000000000007, 'gini = 0.0\\nsamples = 2\\nvalue = [2, 0]\\nclass = No'),\n",
       " Text(297.6, 27.180000000000007, 'gini = 0.278\\nsamples = 6\\nvalue = [1, 5]\\nclass = Yes'),\n",
       " Text(307.04761904761904, 135.89999999999998, 'total_charges <= 75.3\\ngini = 0.5\\nsamples = 6\\nvalue = [3, 3]\\nclass = No'),\n",
       " Text(302.32380952380953, 81.54000000000002, 'gini = 0.0\\nsamples = 2\\nvalue = [2, 0]\\nclass = No'),\n",
       " Text(311.7714285714286, 81.54000000000002, 'total_charges <= 93.775\\ngini = 0.375\\nsamples = 4\\nvalue = [1, 3]\\nclass = Yes'),\n",
       " Text(307.04761904761904, 27.180000000000007, 'gini = 0.0\\nsamples = 3\\nvalue = [0, 3]\\nclass = Yes'),\n",
       " Text(316.4952380952381, 27.180000000000007, 'gini = 0.0\\nsamples = 1\\nvalue = [1, 0]\\nclass = No'),\n",
       " Text(359.00952380952384, 190.26, 'monthly_charges <= 70.325\\ngini = 0.455\\nsamples = 406\\nvalue = [142, 264]\\nclass = Yes'),\n",
       " Text(340.1142857142857, 135.89999999999998, 'gender_encoded <= 0.5\\ngini = 0.418\\nsamples = 37\\nvalue = [26, 11]\\nclass = No'),\n",
       " Text(330.6666666666667, 81.54000000000002, 'tenure <= 6.5\\ngini = 0.255\\nsamples = 20\\nvalue = [17, 3]\\nclass = No'),\n",
       " Text(325.9428571428571, 27.180000000000007, 'gini = 0.0\\nsamples = 9\\nvalue = [9, 0]\\nclass = No'),\n",
       " Text(335.3904761904762, 27.180000000000007, 'gini = 0.397\\nsamples = 11\\nvalue = [8, 3]\\nclass = No'),\n",
       " Text(349.56190476190477, 81.54000000000002, 'total_charges <= 901.725\\ngini = 0.498\\nsamples = 17\\nvalue = [9, 8]\\nclass = No'),\n",
       " Text(344.83809523809526, 27.180000000000007, 'gini = 0.48\\nsamples = 15\\nvalue = [9, 6]\\nclass = No'),\n",
       " Text(354.2857142857143, 27.180000000000007, 'gini = 0.0\\nsamples = 2\\nvalue = [0, 2]\\nclass = Yes'),\n",
       " Text(377.9047619047619, 135.89999999999998, 'multiple_lines_Yes <= 0.5\\ngini = 0.431\\nsamples = 369\\nvalue = [116, 253]\\nclass = Yes'),\n",
       " Text(368.45714285714286, 81.54000000000002, 'streaming_tv_Yes <= 0.5\\ngini = 0.474\\nsamples = 181\\nvalue = [70, 111]\\nclass = Yes'),\n",
       " Text(363.73333333333335, 27.180000000000007, 'gini = 0.496\\nsamples = 101\\nvalue = [46, 55]\\nclass = Yes'),\n",
       " Text(373.18095238095236, 27.180000000000007, 'gini = 0.42\\nsamples = 80\\nvalue = [24, 56]\\nclass = Yes'),\n",
       " Text(387.35238095238094, 81.54000000000002, 'online_security_Yes <= 0.5\\ngini = 0.37\\nsamples = 188\\nvalue = [46, 142]\\nclass = Yes'),\n",
       " Text(382.62857142857143, 27.180000000000007, 'gini = 0.338\\nsamples = 172\\nvalue = [37, 135]\\nclass = Yes'),\n",
       " Text(392.0761904761905, 27.180000000000007, 'gini = 0.492\\nsamples = 16\\nvalue = [9, 7]\\nclass = No'),\n",
       " Text(461.752380952381, 244.62, 'streaming_tv_Yes <= 0.5\\ngini = 0.484\\nsamples = 664\\nvalue = [392, 272]\\nclass = No'),\n",
       " Text(432.22857142857146, 190.26, 'tenure <= 57.5\\ngini = 0.445\\nsamples = 281\\nvalue = [187, 94]\\nclass = No'),\n",
       " Text(415.6952380952381, 135.89999999999998, 'senior_citizen <= 0.5\\ngini = 0.464\\nsamples = 254\\nvalue = [161, 93]\\nclass = No'),\n",
       " Text(406.2476190476191, 81.54000000000002, 'total_charges <= 1451.5\\ngini = 0.421\\nsamples = 179\\nvalue = [125, 54]\\nclass = No'),\n",
       " Text(401.5238095238095, 27.180000000000007, 'gini = 0.147\\nsamples = 25\\nvalue = [23, 2]\\nclass = No'),\n",
       " Text(410.9714285714286, 27.180000000000007, 'gini = 0.447\\nsamples = 154\\nvalue = [102, 52]\\nclass = No'),\n",
       " Text(425.14285714285717, 81.54000000000002, 'multiple_lines_Yes <= 0.5\\ngini = 0.499\\nsamples = 75\\nvalue = [36, 39]\\nclass = Yes'),\n",
       " Text(420.4190476190476, 27.180000000000007, 'gini = 0.469\\nsamples = 32\\nvalue = [20, 12]\\nclass = No'),\n",
       " Text(429.8666666666667, 27.180000000000007, 'gini = 0.467\\nsamples = 43\\nvalue = [16, 27]\\nclass = Yes'),\n",
       " Text(448.76190476190476, 135.89999999999998, 'monthly_charges <= 80.55\\ngini = 0.071\\nsamples = 27\\nvalue = [26, 1]\\nclass = No'),\n",
       " Text(444.03809523809525, 81.54000000000002, 'gender_encoded <= 0.5\\ngini = 0.278\\nsamples = 6\\nvalue = [5, 1]\\nclass = No'),\n",
       " Text(439.31428571428575, 27.180000000000007, 'gini = 0.0\\nsamples = 5\\nvalue = [5, 0]\\nclass = No'),\n",
       " Text(448.76190476190476, 27.180000000000007, 'gini = 0.0\\nsamples = 1\\nvalue = [0, 1]\\nclass = Yes'),\n",
       " Text(453.48571428571427, 81.54000000000002, 'gini = 0.0\\nsamples = 21\\nvalue = [21, 0]\\nclass = No'),\n",
       " Text(491.2761904761905, 190.26, 'total_charges <= 3624.75\\ngini = 0.498\\nsamples = 383\\nvalue = [205, 178]\\nclass = No'),\n",
       " Text(472.3809523809524, 135.89999999999998, 'paperless_billing_encoded <= 0.5\\ngini = 0.498\\nsamples = 214\\nvalue = [100, 114]\\nclass = Yes'),\n",
       " Text(462.93333333333334, 81.54000000000002, 'monthly_charges <= 104.375\\ngini = 0.476\\nsamples = 46\\nvalue = [28, 18]\\nclass = No'),\n",
       " Text(458.20952380952383, 27.180000000000007, 'gini = 0.439\\nsamples = 40\\nvalue = [27, 13]\\nclass = No'),\n",
       " Text(467.65714285714284, 27.180000000000007, 'gini = 0.278\\nsamples = 6\\nvalue = [1, 5]\\nclass = Yes'),\n",
       " Text(481.8285714285714, 81.54000000000002, 'total_charges <= 2185.625\\ngini = 0.49\\nsamples = 168\\nvalue = [72, 96]\\nclass = Yes'),\n",
       " Text(477.1047619047619, 27.180000000000007, 'gini = 0.498\\nsamples = 77\\nvalue = [41, 36]\\nclass = No'),\n",
       " Text(486.552380952381, 27.180000000000007, 'gini = 0.449\\nsamples = 91\\nvalue = [31, 60]\\nclass = Yes'),\n",
       " Text(510.1714285714286, 135.89999999999998, 'total_charges <= 3992.525\\ngini = 0.471\\nsamples = 169\\nvalue = [105, 64]\\nclass = No'),\n",
       " Text(500.7238095238095, 81.54000000000002, 'monthly_charges <= 109.675\\ngini = 0.285\\nsamples = 29\\nvalue = [24, 5]\\nclass = No'),\n",
       " Text(496.0, 27.180000000000007, 'gini = 0.245\\nsamples = 28\\nvalue = [24, 4]\\nclass = No'),\n",
       " Text(505.44761904761907, 27.180000000000007, 'gini = 0.0\\nsamples = 1\\nvalue = [0, 1]\\nclass = Yes'),\n",
       " Text(519.6190476190476, 81.54000000000002, 'total_charges <= 4823.375\\ngini = 0.488\\nsamples = 140\\nvalue = [81, 59]\\nclass = No'),\n",
       " Text(514.8952380952381, 27.180000000000007, 'gini = 0.488\\nsamples = 45\\nvalue = [19, 26]\\nclass = Yes'),\n",
       " Text(524.3428571428572, 27.180000000000007, 'gini = 0.453\\nsamples = 95\\nvalue = [62, 33]\\nclass = No'),\n",
       " Text(733.0761904761905, 353.34000000000003, 'monthly_charges <= 99.95\\ngini = 0.124\\nsamples = 1776\\nvalue = [1658, 118]\\nclass = No'),\n",
       " Text(620.0, 298.98, 'contract_type_One year <= 0.5\\ngini = 0.086\\nsamples = 1462\\nvalue = [1396, 66]\\nclass = No'),\n",
       " Text(572.7619047619048, 244.62, 'senior_citizen <= 0.5\\ngini = 0.031\\nsamples = 769\\nvalue = [757, 12]\\nclass = No'),\n",
       " Text(559.7714285714286, 190.26, 'total_charges <= 6859.275\\ngini = 0.025\\nsamples = 725\\nvalue = [716, 9]\\nclass = No'),\n",
       " Text(547.9619047619047, 135.89999999999998, 'internet_service_type_Fiber optic <= 0.5\\ngini = 0.022\\nsamples = 718\\nvalue = [710, 8]\\nclass = No'),\n",
       " Text(538.5142857142857, 81.54000000000002, 'tenure <= 52.5\\ngini = 0.018\\nsamples = 671\\nvalue = [665, 6]\\nclass = No'),\n",
       " Text(533.7904761904762, 27.180000000000007, 'gini = 0.0\\nsamples = 234\\nvalue = [234, 0]\\nclass = No'),\n",
       " Text(543.2380952380953, 27.180000000000007, 'gini = 0.027\\nsamples = 437\\nvalue = [431, 6]\\nclass = No'),\n",
       " Text(557.4095238095239, 81.54000000000002, 'total_charges <= 3331.25\\ngini = 0.081\\nsamples = 47\\nvalue = [45, 2]\\nclass = No'),\n",
       " Text(552.6857142857143, 27.180000000000007, 'gini = 0.375\\nsamples = 4\\nvalue = [3, 1]\\nclass = No'),\n",
       " Text(562.1333333333333, 27.180000000000007, 'gini = 0.045\\nsamples = 43\\nvalue = [42, 1]\\nclass = No'),\n",
       " Text(571.5809523809523, 135.89999999999998, 'online_security_Yes <= 0.5\\ngini = 0.245\\nsamples = 7\\nvalue = [6, 1]\\nclass = No'),\n",
       " Text(566.8571428571429, 81.54000000000002, 'gini = 0.0\\nsamples = 1\\nvalue = [0, 1]\\nclass = Yes'),\n",
       " Text(576.3047619047619, 81.54000000000002, 'gini = 0.0\\nsamples = 6\\nvalue = [6, 0]\\nclass = No'),\n",
       " Text(585.7523809523809, 190.26, 'streaming_tv_Yes <= 0.5\\ngini = 0.127\\nsamples = 44\\nvalue = [41, 3]\\nclass = No'),\n",
       " Text(581.0285714285715, 135.89999999999998, 'gini = 0.0\\nsamples = 24\\nvalue = [24, 0]\\nclass = No'),\n",
       " Text(590.4761904761905, 135.89999999999998, 'gender_encoded <= 0.5\\ngini = 0.255\\nsamples = 20\\nvalue = [17, 3]\\nclass = No'),\n",
       " Text(585.7523809523809, 81.54000000000002, 'gini = 0.0\\nsamples = 10\\nvalue = [10, 0]\\nclass = No'),\n",
       " Text(595.2, 81.54000000000002, 'monthly_charges <= 82.325\\ngini = 0.42\\nsamples = 10\\nvalue = [7, 3]\\nclass = No'),\n",
       " Text(590.4761904761905, 27.180000000000007, 'gini = 0.444\\nsamples = 3\\nvalue = [1, 2]\\nclass = Yes'),\n",
       " Text(599.9238095238095, 27.180000000000007, 'gini = 0.245\\nsamples = 7\\nvalue = [6, 1]\\nclass = No'),\n",
       " Text(667.2380952380953, 244.62, 'streaming_movies_Yes <= 0.5\\ngini = 0.144\\nsamples = 693\\nvalue = [639, 54]\\nclass = No'),\n",
       " Text(635.3523809523809, 190.26, 'monthly_charges <= 31.9\\ngini = 0.079\\nsamples = 462\\nvalue = [443, 19]\\nclass = No'),\n",
       " Text(623.5428571428572, 135.89999999999998, 'tenure <= 44.5\\ngini = 0.045\\nsamples = 215\\nvalue = [210, 5]\\nclass = No'),\n",
       " Text(614.0952380952381, 81.54000000000002, 'total_charges <= 231.75\\ngini = 0.026\\nsamples = 154\\nvalue = [152, 2]\\nclass = No'),\n",
       " Text(609.3714285714286, 27.180000000000007, 'gini = 0.108\\nsamples = 35\\nvalue = [33, 2]\\nclass = No'),\n",
       " Text(618.8190476190476, 27.180000000000007, 'gini = 0.0\\nsamples = 119\\nvalue = [119, 0]\\nclass = No'),\n",
       " Text(632.9904761904762, 81.54000000000002, 'tenure <= 45.5\\ngini = 0.094\\nsamples = 61\\nvalue = [58, 3]\\nclass = No'),\n",
       " Text(628.2666666666667, 27.180000000000007, 'gini = 0.444\\nsamples = 3\\nvalue = [2, 1]\\nclass = No'),\n",
       " Text(637.7142857142858, 27.180000000000007, 'gini = 0.067\\nsamples = 58\\nvalue = [56, 2]\\nclass = No'),\n",
       " Text(647.1619047619048, 135.89999999999998, 'monthly_charges <= 33.575\\ngini = 0.107\\nsamples = 247\\nvalue = [233, 14]\\nclass = No'),\n",
       " Text(642.4380952380952, 81.54000000000002, 'gini = 0.0\\nsamples = 1\\nvalue = [0, 1]\\nclass = Yes'),\n",
       " Text(651.8857142857142, 81.54000000000002, 'total_charges <= 338.4\\ngini = 0.1\\nsamples = 246\\nvalue = [233, 13]\\nclass = No'),\n",
       " Text(647.1619047619048, 27.180000000000007, 'gini = 0.5\\nsamples = 2\\nvalue = [1, 1]\\nclass = No'),\n",
       " Text(656.6095238095238, 27.180000000000007, 'gini = 0.094\\nsamples = 244\\nvalue = [232, 12]\\nclass = No'),\n",
       " Text(699.1238095238095, 190.26, 'total_charges <= 3280.725\\ngini = 0.257\\nsamples = 231\\nvalue = [196, 35]\\nclass = No'),\n",
       " Text(680.2285714285714, 135.89999999999998, 'total_charges <= 2351.625\\ngini = 0.339\\nsamples = 120\\nvalue = [94, 26]\\nclass = No'),\n",
       " Text(670.7809523809524, 81.54000000000002, 'monthly_charges <= 81.85\\ngini = 0.198\\nsamples = 63\\nvalue = [56, 7]\\nclass = No'),\n",
       " Text(666.0571428571428, 27.180000000000007, 'gini = 0.109\\nsamples = 52\\nvalue = [49, 3]\\nclass = No'),\n",
       " Text(675.504761904762, 27.180000000000007, 'gini = 0.463\\nsamples = 11\\nvalue = [7, 4]\\nclass = No'),\n",
       " Text(689.6761904761905, 81.54000000000002, 'total_charges <= 2414.75\\ngini = 0.444\\nsamples = 57\\nvalue = [38, 19]\\nclass = No'),\n",
       " Text(684.952380952381, 27.180000000000007, 'gini = 0.0\\nsamples = 3\\nvalue = [0, 3]\\nclass = Yes'),\n",
       " Text(694.4, 27.180000000000007, 'gini = 0.417\\nsamples = 54\\nvalue = [38, 16]\\nclass = No'),\n",
       " Text(718.0190476190477, 135.89999999999998, 'total_charges <= 6506.4\\ngini = 0.149\\nsamples = 111\\nvalue = [102, 9]\\nclass = No'),\n",
       " Text(708.5714285714286, 81.54000000000002, 'total_charges <= 3709.9\\ngini = 0.137\\nsamples = 108\\nvalue = [100, 8]\\nclass = No'),\n",
       " Text(703.8476190476191, 27.180000000000007, 'gini = 0.0\\nsamples = 21\\nvalue = [21, 0]\\nclass = No'),\n",
       " Text(713.2952380952381, 27.180000000000007, 'gini = 0.167\\nsamples = 87\\nvalue = [79, 8]\\nclass = No'),\n",
       " Text(727.4666666666667, 81.54000000000002, 'streaming_tv_Yes <= 0.5\\ngini = 0.444\\nsamples = 3\\nvalue = [2, 1]\\nclass = No'),\n",
       " Text(722.7428571428571, 27.180000000000007, 'gini = 0.0\\nsamples = 1\\nvalue = [0, 1]\\nclass = Yes'),\n",
       " Text(732.1904761904763, 27.180000000000007, 'gini = 0.0\\nsamples = 2\\nvalue = [2, 0]\\nclass = No'),\n",
       " Text(846.152380952381, 298.98, 'tenure <= 70.5\\ngini = 0.276\\nsamples = 314\\nvalue = [262, 52]\\nclass = No'),\n",
       " Text(808.952380952381, 244.62, 'dependents_encoded <= 0.5\\ngini = 0.346\\nsamples = 225\\nvalue = [175, 50]\\nclass = No'),\n",
       " Text(774.7047619047619, 190.26, 'monthly_charges <= 105.45\\ngini = 0.395\\nsamples = 159\\nvalue = [116, 43]\\nclass = No'),\n",
       " Text(755.8095238095239, 135.89999999999998, 'monthly_charges <= 100.1\\ngini = 0.313\\nsamples = 67\\nvalue = [54, 13]\\nclass = No'),\n",
       " Text(746.3619047619047, 81.54000000000002, 'device_protection_Yes <= 0.5\\ngini = 0.444\\nsamples = 3\\nvalue = [1, 2]\\nclass = Yes'),\n",
       " Text(741.6380952380953, 27.180000000000007, 'gini = 0.0\\nsamples = 1\\nvalue = [1, 0]\\nclass = No'),\n",
       " Text(751.0857142857143, 27.180000000000007, 'gini = 0.0\\nsamples = 2\\nvalue = [0, 2]\\nclass = Yes'),\n",
       " Text(765.2571428571429, 81.54000000000002, 'online_backup_Yes <= 0.5\\ngini = 0.285\\nsamples = 64\\nvalue = [53, 11]\\nclass = No'),\n",
       " Text(760.5333333333333, 27.180000000000007, 'gini = 0.062\\nsamples = 31\\nvalue = [30, 1]\\nclass = No'),\n",
       " Text(769.9809523809524, 27.180000000000007, 'gini = 0.422\\nsamples = 33\\nvalue = [23, 10]\\nclass = No'),\n",
       " Text(793.6, 135.89999999999998, 'monthly_charges <= 106.625\\ngini = 0.44\\nsamples = 92\\nvalue = [62, 30]\\nclass = No'),\n",
       " Text(784.152380952381, 81.54000000000002, 'monthly_charges <= 105.825\\ngini = 0.444\\nsamples = 18\\nvalue = [6, 12]\\nclass = Yes'),\n",
       " Text(779.4285714285714, 27.180000000000007, 'gini = 0.49\\nsamples = 7\\nvalue = [4, 3]\\nclass = No'),\n",
       " Text(788.8761904761905, 27.180000000000007, 'gini = 0.298\\nsamples = 11\\nvalue = [2, 9]\\nclass = Yes'),\n",
       " Text(803.047619047619, 81.54000000000002, 'monthly_charges <= 117.475\\ngini = 0.368\\nsamples = 74\\nvalue = [56, 18]\\nclass = No'),\n",
       " Text(798.3238095238096, 27.180000000000007, 'gini = 0.357\\nsamples = 73\\nvalue = [56, 17]\\nclass = No'),\n",
       " Text(807.7714285714286, 27.180000000000007, 'gini = 0.0\\nsamples = 1\\nvalue = [0, 1]\\nclass = Yes'),\n",
       " Text(843.2, 190.26, 'total_charges <= 7694.85\\ngini = 0.19\\nsamples = 66\\nvalue = [59, 7]\\nclass = No'),\n",
       " Text(831.3904761904762, 135.89999999999998, 'monthly_charges <= 102.75\\ngini = 0.15\\nsamples = 61\\nvalue = [56, 5]\\nclass = No'),\n",
       " Text(821.9428571428572, 81.54000000000002, 'tenure <= 45.0\\ngini = 0.42\\nsamples = 10\\nvalue = [7, 3]\\nclass = No'),\n",
       " Text(817.2190476190476, 27.180000000000007, 'gini = 0.0\\nsamples = 4\\nvalue = [4, 0]\\nclass = No'),\n",
       " Text(826.6666666666666, 27.180000000000007, 'gini = 0.5\\nsamples = 6\\nvalue = [3, 3]\\nclass = No'),\n",
       " Text(840.8380952380952, 81.54000000000002, 'monthly_charges <= 107.55\\ngini = 0.075\\nsamples = 51\\nvalue = [49, 2]\\nclass = No'),\n",
       " Text(836.1142857142858, 27.180000000000007, 'gini = 0.0\\nsamples = 27\\nvalue = [27, 0]\\nclass = No'),\n",
       " Text(845.5619047619048, 27.180000000000007, 'gini = 0.153\\nsamples = 24\\nvalue = [22, 2]\\nclass = No'),\n",
       " Text(855.0095238095238, 135.89999999999998, 'total_charges <= 7893.275\\ngini = 0.48\\nsamples = 5\\nvalue = [3, 2]\\nclass = No'),\n",
       " Text(850.2857142857143, 81.54000000000002, 'gini = 0.0\\nsamples = 2\\nvalue = [0, 2]\\nclass = Yes'),\n",
       " Text(859.7333333333333, 81.54000000000002, 'gini = 0.0\\nsamples = 3\\nvalue = [3, 0]\\nclass = No'),\n",
       " Text(883.3523809523809, 244.62, 'total_charges <= 8678.625\\ngini = 0.044\\nsamples = 89\\nvalue = [87, 2]\\nclass = No'),\n",
       " Text(878.6285714285715, 190.26, 'tenure <= 71.5\\ngini = 0.022\\nsamples = 88\\nvalue = [87, 1]\\nclass = No'),\n",
       " Text(873.9047619047619, 135.89999999999998, 'online_security_Yes <= 0.5\\ngini = 0.1\\nsamples = 19\\nvalue = [18, 1]\\nclass = No'),\n",
       " Text(869.1809523809524, 81.54000000000002, 'monthly_charges <= 107.7\\ngini = 0.245\\nsamples = 7\\nvalue = [6, 1]\\nclass = No'),\n",
       " Text(864.4571428571429, 27.180000000000007, 'gini = 0.0\\nsamples = 4\\nvalue = [4, 0]\\nclass = No'),\n",
       " Text(873.9047619047619, 27.180000000000007, 'gini = 0.444\\nsamples = 3\\nvalue = [2, 1]\\nclass = No'),\n",
       " Text(878.6285714285715, 81.54000000000002, 'gini = 0.0\\nsamples = 12\\nvalue = [12, 0]\\nclass = No'),\n",
       " Text(883.3523809523809, 135.89999999999998, 'gini = 0.0\\nsamples = 69\\nvalue = [69, 0]\\nclass = No'),\n",
       " Text(888.0761904761905, 190.26, 'gini = 0.0\\nsamples = 1\\nvalue = [0, 1]\\nclass = Yes')]"
      ]
     },
     "execution_count": 48,
     "metadata": {},
     "output_type": "execute_result"
    },
    {
     "data": {
      "image/png": "[encoded data removed]",
      "text/plain": [
       "<Figure size 1152x576 with 1 Axes>"
      ]
     },
     "metadata": {
      "needs_background": "light"
     },
     "output_type": "display_data"
    }
   ],
   "source": [
    "plt.figure(figsize=(16, 8))\n",
    "plot_tree(clf, feature_names=X_train.columns, class_names=clf.classes_.astype(str), rounded=True)"
   ]
  },
  {
   "cell_type": "code",
   "execution_count": 49,
   "id": "cb595fbe",
   "metadata": {},
   "outputs": [
    {
     "data": {
      "text/plain": [
       "array(['No', 'Yes', 'No', 'No', 'No'], dtype=object)"
      ]
     },
     "execution_count": 49,
     "metadata": {},
     "output_type": "execute_result"
    }
   ],
   "source": [
    "y_pred = clf.predict(X_train)\n",
    "y_pred[0:5]"
   ]
  },
  {
   "cell_type": "code",
   "execution_count": 50,
   "id": "ca9d82cc",
   "metadata": {},
   "outputs": [
    {
     "data": {
      "text/plain": [
       "array([[0.53246753, 0.46753247],\n",
       "       [0.45544554, 0.54455446],\n",
       "       [1.        , 0.        ],\n",
       "       [0.72727273, 0.27272727],\n",
       "       [0.76712329, 0.23287671]])"
      ]
     },
     "execution_count": 50,
     "metadata": {},
     "output_type": "execute_result"
    }
   ],
   "source": [
    "y_pred_proba = clf.predict_proba(X_train)\n",
    "y_pred_proba[0:5]"
   ]
  },
  {
   "cell_type": "code",
   "execution_count": 51,
   "id": "49dff442",
   "metadata": {},
   "outputs": [
    {
     "data": {
      "text/html": [
       "<div>\n",
       "<style scoped>\n",
       "    .dataframe tbody tr th:only-of-type {\n",
       "        vertical-align: middle;\n",
       "    }\n",
       "\n",
       "    .dataframe tbody tr th {\n",
       "        vertical-align: top;\n",
       "    }\n",
       "\n",
       "    .dataframe thead th {\n",
       "        text-align: right;\n",
       "    }\n",
       "</style>\n",
       "<table border=\"1\" class=\"dataframe\">\n",
       "  <thead>\n",
       "    <tr style=\"text-align: right;\">\n",
       "      <th></th>\n",
       "      <th>No</th>\n",
       "      <th>Yes</th>\n",
       "    </tr>\n",
       "  </thead>\n",
       "  <tbody>\n",
       "    <tr>\n",
       "      <th>No</th>\n",
       "      <td>2648</td>\n",
       "      <td>243</td>\n",
       "    </tr>\n",
       "    <tr>\n",
       "      <th>Yes</th>\n",
       "      <td>406</td>\n",
       "      <td>640</td>\n",
       "    </tr>\n",
       "  </tbody>\n",
       "</table>\n",
       "</div>"
      ],
      "text/plain": [
       "       No  Yes\n",
       "No   2648  243\n",
       "Yes   406  640"
      ]
     },
     "execution_count": 51,
     "metadata": {},
     "output_type": "execute_result"
    }
   ],
   "source": [
    "labels = sorted(y_train.unique())\n",
    "pd.DataFrame(confusion_matrix(y_train, y_pred), index=labels, columns=labels)"
   ]
  },
  {
   "cell_type": "markdown",
   "id": "efe2c6df",
   "metadata": {},
   "source": [
    "##### In training sample:"
   ]
  },
  {
   "cell_type": "code",
   "execution_count": 52,
   "id": "08a5d752",
   "metadata": {},
   "outputs": [
    {
     "name": "stdout",
     "output_type": "stream",
     "text": [
      "Accuracy of Decision Tree classifier on training set: 0.84\n"
     ]
    }
   ],
   "source": [
    "print('Accuracy of Decision Tree classifier on training set: {:.2f}'\n",
    "      .format(clf.score(X_train, y_train)))"
   ]
  },
  {
   "cell_type": "code",
   "execution_count": 53,
   "id": "455c8d55",
   "metadata": {},
   "outputs": [
    {
     "name": "stdout",
     "output_type": "stream",
     "text": [
      "              precision    recall  f1-score   support\n",
      "\n",
      "          No       0.87      0.92      0.89      2891\n",
      "         Yes       0.72      0.61      0.66      1046\n",
      "\n",
      "    accuracy                           0.84      3937\n",
      "   macro avg       0.80      0.76      0.78      3937\n",
      "weighted avg       0.83      0.84      0.83      3937\n",
      "\n"
     ]
    }
   ],
   "source": [
    "y_pred = clf.predict(X_train)\n",
    "print(classification_report(y_train, y_pred))"
   ]
  },
  {
   "cell_type": "markdown",
   "id": "2b3caed3",
   "metadata": {},
   "source": [
    "##### In validation sample:"
   ]
  },
  {
   "cell_type": "code",
   "execution_count": 54,
   "id": "541d38d1",
   "metadata": {},
   "outputs": [
    {
     "name": "stdout",
     "output_type": "stream",
     "text": [
      "Accuracy of Decision Tree classifier on validation set: 0.77\n"
     ]
    }
   ],
   "source": [
    "print('Accuracy of Decision Tree classifier on validation set: {:.2f}'\n",
    "      .format(clf.score(X_validate, y_validate)))"
   ]
  },
  {
   "cell_type": "code",
   "execution_count": 55,
   "id": "cad97188",
   "metadata": {},
   "outputs": [
    {
     "name": "stdout",
     "output_type": "stream",
     "text": [
      "              precision    recall  f1-score   support\n",
      "\n",
      "          No       0.83      0.87      0.85      1239\n",
      "         Yes       0.58      0.51      0.54       449\n",
      "\n",
      "    accuracy                           0.77      1688\n",
      "   macro avg       0.70      0.69      0.69      1688\n",
      "weighted avg       0.76      0.77      0.76      1688\n",
      "\n"
     ]
    }
   ],
   "source": [
    "y_pred = clf.predict(X_validate)\n",
    "print(classification_report(y_validate, y_pred))"
   ]
  },
  {
   "cell_type": "markdown",
   "id": "b030f3ee",
   "metadata": {},
   "source": [
    "### Comparison at different max levels:"
   ]
  },
  {
   "cell_type": "code",
   "execution_count": 58,
   "id": "bc1dfdc8",
   "metadata": {},
   "outputs": [
    {
     "name": "stdout",
     "output_type": "stream",
     "text": [
      "Depth = 1\n",
      "Accuracy of Decision Tree classifier on training set: 0.73\n",
      "Accuracy of Decision Tree classifier on validation set: 0.73\n",
      "Depth = 2\n",
      "Accuracy of Decision Tree classifier on training set: 0.76\n",
      "Accuracy of Decision Tree classifier on validation set: 0.77\n",
      "Depth = 3\n",
      "Accuracy of Decision Tree classifier on training set: 0.79\n",
      "Accuracy of Decision Tree classifier on validation set: 0.79\n",
      "Depth = 4\n",
      "Accuracy of Decision Tree classifier on training set: 0.80\n",
      "Accuracy of Decision Tree classifier on validation set: 0.78\n",
      "Depth = 5\n",
      "Accuracy of Decision Tree classifier on training set: 0.81\n",
      "Accuracy of Decision Tree classifier on validation set: 0.78\n",
      "Depth = 6\n",
      "Accuracy of Decision Tree classifier on training set: 0.82\n",
      "Accuracy of Decision Tree classifier on validation set: 0.78\n",
      "Depth = 7\n",
      "Accuracy of Decision Tree classifier on training set: 0.84\n",
      "Accuracy of Decision Tree classifier on validation set: 0.77\n",
      "Depth = 8\n",
      "Accuracy of Decision Tree classifier on training set: 0.85\n",
      "Accuracy of Decision Tree classifier on validation set: 0.76\n"
     ]
    }
   ],
   "source": [
    "for i in range(1,9):\n",
    "    clf = DecisionTreeClassifier(max_depth = i, random_state=123)\n",
    "    clf = clf.fit(X_train, y_train)\n",
    "    print(f'Depth = {i}')\n",
    "    print('Accuracy of Decision Tree classifier on training set: {:.2f}'\n",
    "      .format(clf.score(X_train, y_train)))\n",
    "    print('Accuracy of Decision Tree classifier on validation set: {:.2f}'\n",
    "      .format(clf.score(X_validate, y_validate)))"
   ]
  }
 ],
 "metadata": {
  "kernelspec": {
   "display_name": "Python 3 (ipykernel)",
   "language": "python",
   "name": "python3"
  },
  "language_info": {
   "codemirror_mode": {
    "name": "ipython",
    "version": 3
   },
   "file_extension": ".py",
   "mimetype": "text/x-python",
   "name": "python",
   "nbconvert_exporter": "python",
   "pygments_lexer": "ipython3",
   "version": "3.9.7"
  }
 },
 "nbformat": 4,
 "nbformat_minor": 5
}
