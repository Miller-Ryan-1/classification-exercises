{
 "cells": [
  {
   "cell_type": "code",
   "execution_count": 1,
   "id": "c2743135",
   "metadata": {},
   "outputs": [],
   "source": [
    "import pandas as pd\n",
    "import numpy as np\n",
    "import seaborn as sns\n",
    "\n",
    "import warnings\n",
    "warnings.filterwarnings(\"ignore\")\n",
    "\n",
    "from sklearn.tree import DecisionTreeClassifier, plot_tree\n",
    "from sklearn.metrics import classification_report\n",
    "from sklearn.metrics import confusion_matrix\n",
    "\n",
    "import matplotlib.pyplot as plt\n",
    "import seaborn as sns\n",
    "\n",
    "from acquire import get_titanic_data\n",
    "from prepare import prep_titanic\n",
    "from splitter import splitter"
   ]
  },
  {
   "cell_type": "markdown",
   "id": "45f2368b",
   "metadata": {},
   "source": [
    "# I. Titanic Data - Decision Tree"
   ]
  },
  {
   "cell_type": "code",
   "execution_count": null,
   "id": "f6ecc3bc",
   "metadata": {},
   "outputs": [],
   "source": [
    "df = get_titanic_data()\n",
    "df.head(2)"
   ]
  },
  {
   "cell_type": "code",
   "execution_count": null,
   "id": "3cdf5fac",
   "metadata": {},
   "outputs": [],
   "source": [
    "df = prep_titanic(df)\n",
    "df.drop(columns='age', inplace=True)\n",
    "df.head(2)"
   ]
  },
  {
   "cell_type": "markdown",
   "id": "69182fcc",
   "metadata": {},
   "source": [
    "### 1. What is your baseline prediction?  Baseline accuracy?"
   ]
  },
  {
   "cell_type": "code",
   "execution_count": null,
   "id": "63ff8a5b",
   "metadata": {},
   "outputs": [],
   "source": [
    "df_train, df_validate, df_test = splitter(df, 'survived')\n",
    "df_train.survived.value_counts()"
   ]
  },
  {
   "cell_type": "code",
   "execution_count": null,
   "id": "6e8db506",
   "metadata": {},
   "outputs": [],
   "source": [
    "307/(307+191)"
   ]
  },
  {
   "cell_type": "markdown",
   "id": "45f39f6a",
   "metadata": {},
   "source": [
    "Baseline prediction is died, which is accurate 61.65% of the time."
   ]
  },
  {
   "cell_type": "markdown",
   "id": "25147243",
   "metadata": {},
   "source": [
    "### 2. Fit the decision tree classifier to your training sample and transform (i.e. make predictions on the training sample)"
   ]
  },
  {
   "cell_type": "code",
   "execution_count": null,
   "id": "dd70e251",
   "metadata": {},
   "outputs": [],
   "source": [
    "X_train = df_train.drop(columns=['survived'])\n",
    "y_train = df_train.survived\n",
    "\n",
    "X_validate = df_validate.drop(columns=['survived'])\n",
    "y_validate = df_validate.survived\n",
    "\n",
    "X_test = df_test.drop(columns=['survived'])\n",
    "y_test = df_test.survived"
   ]
  },
  {
   "cell_type": "code",
   "execution_count": null,
   "id": "a4507569",
   "metadata": {},
   "outputs": [],
   "source": [
    "clf = DecisionTreeClassifier(max_depth=3, random_state=123)\n",
    "clf = clf.fit(X_train, y_train)"
   ]
  },
  {
   "cell_type": "code",
   "execution_count": null,
   "id": "f64edc96",
   "metadata": {},
   "outputs": [],
   "source": [
    "plt.figure(figsize=(16, 8))\n",
    "plot_tree(clf, feature_names=X_train.columns, class_names=clf.classes_.astype(str), rounded=True)"
   ]
  },
  {
   "cell_type": "markdown",
   "id": "f27d22bd",
   "metadata": {},
   "source": [
    "### 3. Evaluate your in-sample results using the model score, confusion matrix, and classification report."
   ]
  },
  {
   "cell_type": "code",
   "execution_count": null,
   "id": "a5a71d2e",
   "metadata": {},
   "outputs": [],
   "source": [
    "y_pred = clf.predict(X_train)\n",
    "y_pred[10:15]"
   ]
  },
  {
   "cell_type": "code",
   "execution_count": null,
   "id": "0f553974",
   "metadata": {},
   "outputs": [],
   "source": [
    "y_pred_proba = clf.predict_proba(X_train)\n",
    "y_pred_proba[10:15]"
   ]
  },
  {
   "cell_type": "code",
   "execution_count": null,
   "id": "c19ba535",
   "metadata": {},
   "outputs": [],
   "source": [
    "confusion_matrix(y_train, y_pred)"
   ]
  },
  {
   "cell_type": "code",
   "execution_count": null,
   "id": "0d21221c",
   "metadata": {},
   "outputs": [],
   "source": [
    "pd.DataFrame(confusion_matrix(y_train, y_pred), index=['died','survived'], columns=['died','survived'])"
   ]
  },
  {
   "cell_type": "markdown",
   "id": "0177ffa9",
   "metadata": {},
   "source": [
    "### 4. Compute: Accuracy, true positive rate, false positive rate, true negative rate, false negative rate, precision, recall, f1-score, and support."
   ]
  },
  {
   "cell_type": "markdown",
   "id": "6e7a8f77",
   "metadata": {},
   "source": [
    "In sample:"
   ]
  },
  {
   "cell_type": "code",
   "execution_count": null,
   "id": "df8e72aa",
   "metadata": {},
   "outputs": [],
   "source": [
    "print('Accuracy of Decision Tree classifier on training set: {:.2f}'\n",
    "      .format(clf.score(X_train, y_train)))"
   ]
  },
  {
   "cell_type": "code",
   "execution_count": null,
   "id": "bb7b774d",
   "metadata": {},
   "outputs": [],
   "source": [
    "print(classification_report(y_train, y_pred))"
   ]
  },
  {
   "cell_type": "markdown",
   "id": "720d02e1",
   "metadata": {},
   "source": [
    "Validate:"
   ]
  },
  {
   "cell_type": "code",
   "execution_count": null,
   "id": "ed1ae1a5",
   "metadata": {},
   "outputs": [],
   "source": [
    "print('Accuracy of Decision Tree classifier on validate set: {:.2f}'\n",
    "     .format(clf.score(X_validate, y_validate)))"
   ]
  },
  {
   "cell_type": "code",
   "execution_count": null,
   "id": "214a79e3",
   "metadata": {},
   "outputs": [],
   "source": [
    "y_pred = clf.predict(X_validate)\n",
    "\n",
    "print(classification_report(y_validate, y_pred))"
   ]
  },
  {
   "cell_type": "markdown",
   "id": "327371df",
   "metadata": {},
   "source": [
    "### 5. Run through steps 2-4 using a different max_depth value."
   ]
  },
  {
   "cell_type": "markdown",
   "id": "d95c3b1c",
   "metadata": {},
   "source": [
    "Using max_depth = 7:"
   ]
  },
  {
   "cell_type": "markdown",
   "id": "a996aa47",
   "metadata": {},
   "source": [
    "Train:"
   ]
  },
  {
   "cell_type": "code",
   "execution_count": null,
   "id": "bbb80a73",
   "metadata": {},
   "outputs": [],
   "source": [
    "clf = DecisionTreeClassifier(max_depth=7, random_state=123)\n",
    "clf = clf.fit(X_train, y_train)"
   ]
  },
  {
   "cell_type": "code",
   "execution_count": null,
   "id": "968d6f91",
   "metadata": {},
   "outputs": [],
   "source": [
    "plt.figure(figsize=(16, 8))\n",
    "plot_tree(clf, feature_names=X_train.columns, class_names=clf.classes_.astype(str), rounded=True)"
   ]
  },
  {
   "cell_type": "code",
   "execution_count": null,
   "id": "a0530a4f",
   "metadata": {},
   "outputs": [],
   "source": [
    "print('Accuracy of Decision Tree classifier on training set: {:.2f}'\n",
    "      .format(clf.score(X_train, y_train)))"
   ]
  },
  {
   "cell_type": "code",
   "execution_count": null,
   "id": "2810d831",
   "metadata": {},
   "outputs": [],
   "source": [
    "y_pred = clf.predict(X_train)\n",
    "print(classification_report(y_train, y_pred))"
   ]
  },
  {
   "cell_type": "markdown",
   "id": "19f5df8e",
   "metadata": {},
   "source": [
    "Validate:"
   ]
  },
  {
   "cell_type": "code",
   "execution_count": null,
   "id": "dc4d20cb",
   "metadata": {},
   "outputs": [],
   "source": [
    "print('Accuracy of Decision Tree classifier on validation set: {:.2f}'\n",
    "      .format(clf.score(X_validate, y_validate)))"
   ]
  },
  {
   "cell_type": "code",
   "execution_count": null,
   "id": "b680ae64",
   "metadata": {},
   "outputs": [],
   "source": [
    "y_pred = clf.predict(X_validate)\n",
    "\n",
    "print(classification_report(y_validate, y_pred))"
   ]
  },
  {
   "cell_type": "markdown",
   "id": "e1d961eb",
   "metadata": {},
   "source": [
    "### 6. Which model performs better on your in-sample data?"
   ]
  },
  {
   "cell_type": "markdown",
   "id": "29e0c32c",
   "metadata": {},
   "source": [
    "The max_steps = 7 is better on in-sample data (as expected, more granular)."
   ]
  },
  {
   "cell_type": "markdown",
   "id": "6a01c863",
   "metadata": {},
   "source": [
    "### 7. Which model performs best on your out-of-sample data, the validate set?"
   ]
  },
  {
   "cell_type": "markdown",
   "id": "5f42a2b8",
   "metadata": {},
   "source": [
    "The max_steps = 3 is better on the validate data."
   ]
  },
  {
   "cell_type": "markdown",
   "id": "cd54b1f7",
   "metadata": {},
   "source": [
    "# II. Telco Data - Decision Tree"
   ]
  },
  {
   "cell_type": "code",
   "execution_count": 2,
   "id": "b38fc021",
   "metadata": {},
   "outputs": [],
   "source": [
    "from acquire import get_telco_data\n",
    "from prepare import prep_telco"
   ]
  },
  {
   "cell_type": "code",
   "execution_count": 3,
   "id": "c2baec40",
   "metadata": {},
   "outputs": [
    {
     "data": {
      "text/html": [
       "<div>\n",
       "<style scoped>\n",
       "    .dataframe tbody tr th:only-of-type {\n",
       "        vertical-align: middle;\n",
       "    }\n",
       "\n",
       "    .dataframe tbody tr th {\n",
       "        vertical-align: top;\n",
       "    }\n",
       "\n",
       "    .dataframe thead th {\n",
       "        text-align: right;\n",
       "    }\n",
       "</style>\n",
       "<table border=\"1\" class=\"dataframe\">\n",
       "  <thead>\n",
       "    <tr style=\"text-align: right;\">\n",
       "      <th></th>\n",
       "      <th>internet_service_type_id</th>\n",
       "      <th>customer_id</th>\n",
       "      <th>contract_type_id</th>\n",
       "      <th>paperless_billing</th>\n",
       "      <th>contract_type</th>\n",
       "      <th>payment_type_id</th>\n",
       "      <th>monthly_charges</th>\n",
       "      <th>total_charges</th>\n",
       "      <th>gender</th>\n",
       "      <th>senior_citizen</th>\n",
       "      <th>...</th>\n",
       "      <th>tech_support</th>\n",
       "      <th>streaming_tv</th>\n",
       "      <th>streaming_movies</th>\n",
       "      <th>contract_type_id.1</th>\n",
       "      <th>paperless_billing.1</th>\n",
       "      <th>payment_type_id.1</th>\n",
       "      <th>monthly_charges.1</th>\n",
       "      <th>total_charges.1</th>\n",
       "      <th>churn</th>\n",
       "      <th>internet_service_type</th>\n",
       "    </tr>\n",
       "  </thead>\n",
       "  <tbody>\n",
       "    <tr>\n",
       "      <th>0</th>\n",
       "      <td>2</td>\n",
       "      <td>0004-TLHLJ</td>\n",
       "      <td>1</td>\n",
       "      <td>Yes</td>\n",
       "      <td>Month-to-month</td>\n",
       "      <td>1</td>\n",
       "      <td>73.9</td>\n",
       "      <td>280.85</td>\n",
       "      <td>Male</td>\n",
       "      <td>0</td>\n",
       "      <td>...</td>\n",
       "      <td>No</td>\n",
       "      <td>No</td>\n",
       "      <td>No</td>\n",
       "      <td>1</td>\n",
       "      <td>Yes</td>\n",
       "      <td>1</td>\n",
       "      <td>73.9</td>\n",
       "      <td>280.85</td>\n",
       "      <td>Yes</td>\n",
       "      <td>Fiber optic</td>\n",
       "    </tr>\n",
       "    <tr>\n",
       "      <th>1</th>\n",
       "      <td>1</td>\n",
       "      <td>0017-DINOC</td>\n",
       "      <td>3</td>\n",
       "      <td>No</td>\n",
       "      <td>Two year</td>\n",
       "      <td>4</td>\n",
       "      <td>45.2</td>\n",
       "      <td>2460.55</td>\n",
       "      <td>Male</td>\n",
       "      <td>0</td>\n",
       "      <td>...</td>\n",
       "      <td>Yes</td>\n",
       "      <td>Yes</td>\n",
       "      <td>No</td>\n",
       "      <td>3</td>\n",
       "      <td>No</td>\n",
       "      <td>4</td>\n",
       "      <td>45.2</td>\n",
       "      <td>2460.55</td>\n",
       "      <td>No</td>\n",
       "      <td>DSL</td>\n",
       "    </tr>\n",
       "  </tbody>\n",
       "</table>\n",
       "<p>2 rows × 28 columns</p>\n",
       "</div>"
      ],
      "text/plain": [
       "   internet_service_type_id customer_id  contract_type_id paperless_billing  \\\n",
       "0                         2  0004-TLHLJ                 1               Yes   \n",
       "1                         1  0017-DINOC                 3                No   \n",
       "\n",
       "    contract_type  payment_type_id  monthly_charges total_charges gender  \\\n",
       "0  Month-to-month                1             73.9        280.85   Male   \n",
       "1        Two year                4             45.2       2460.55   Male   \n",
       "\n",
       "   senior_citizen  ... tech_support streaming_tv  streaming_movies  \\\n",
       "0               0  ...           No           No                No   \n",
       "1               0  ...          Yes          Yes                No   \n",
       "\n",
       "  contract_type_id.1 paperless_billing.1 payment_type_id.1 monthly_charges.1  \\\n",
       "0                  1                 Yes                 1              73.9   \n",
       "1                  3                  No                 4              45.2   \n",
       "\n",
       "  total_charges.1 churn internet_service_type  \n",
       "0          280.85   Yes           Fiber optic  \n",
       "1         2460.55    No                   DSL  \n",
       "\n",
       "[2 rows x 28 columns]"
      ]
     },
     "execution_count": 3,
     "metadata": {},
     "output_type": "execute_result"
    }
   ],
   "source": [
    "df = get_telco_data()\n",
    "df.head(2)"
   ]
  },
  {
   "cell_type": "code",
   "execution_count": 4,
   "id": "a54d2a1f",
   "metadata": {},
   "outputs": [
    {
     "name": "stdout",
     "output_type": "stream",
     "text": [
      "<class 'pandas.core.frame.DataFrame'>\n",
      "Int64Index: 7032 entries, 0 to 7042\n",
      "Data columns (total 44 columns):\n",
      " #   Column                                 Non-Null Count  Dtype  \n",
      "---  ------                                 --------------  -----  \n",
      " 0   paperless_billing                      7032 non-null   object \n",
      " 1   contract_type                          7032 non-null   object \n",
      " 2   monthly_charges                        7032 non-null   float64\n",
      " 3   total_charges                          7032 non-null   float64\n",
      " 4   gender                                 7032 non-null   object \n",
      " 5   senior_citizen                         7032 non-null   int64  \n",
      " 6   partner                                7032 non-null   object \n",
      " 7   dependents                             7032 non-null   object \n",
      " 8   tenure                                 7032 non-null   int64  \n",
      " 9   phone_service                          7032 non-null   object \n",
      " 10  multiple_lines                         7032 non-null   object \n",
      " 11  online_security                        7032 non-null   object \n",
      " 12  online_backup                          7032 non-null   object \n",
      " 13  device_protection                      7032 non-null   object \n",
      " 14  tech_support                           7032 non-null   object \n",
      " 15  streaming_tv                           7032 non-null   object \n",
      " 16  streaming_movies                       7032 non-null   object \n",
      " 17  contract_type_id.1                     7032 non-null   int64  \n",
      " 18  churn                                  7032 non-null   object \n",
      " 19  internet_service_type                  7032 non-null   object \n",
      " 20  gender_encoded                         7032 non-null   int64  \n",
      " 21  partner_encoded                        7032 non-null   int64  \n",
      " 22  dependents_encoded                     7032 non-null   int64  \n",
      " 23  phone_service_encoded                  7032 non-null   int64  \n",
      " 24  paperless_billing_encoded              7032 non-null   int64  \n",
      " 25  churn_encoded                          7032 non-null   int64  \n",
      " 26  multiple_lines_No phone service        7032 non-null   uint8  \n",
      " 27  multiple_lines_Yes                     7032 non-null   uint8  \n",
      " 28  online_security_No internet service    7032 non-null   uint8  \n",
      " 29  online_security_Yes                    7032 non-null   uint8  \n",
      " 30  online_backup_No internet service      7032 non-null   uint8  \n",
      " 31  online_backup_Yes                      7032 non-null   uint8  \n",
      " 32  device_protection_No internet service  7032 non-null   uint8  \n",
      " 33  device_protection_Yes                  7032 non-null   uint8  \n",
      " 34  tech_support_No internet service       7032 non-null   uint8  \n",
      " 35  tech_support_Yes                       7032 non-null   uint8  \n",
      " 36  streaming_tv_No internet service       7032 non-null   uint8  \n",
      " 37  streaming_tv_Yes                       7032 non-null   uint8  \n",
      " 38  streaming_movies_No internet service   7032 non-null   uint8  \n",
      " 39  streaming_movies_Yes                   7032 non-null   uint8  \n",
      " 40  contract_type_One year                 7032 non-null   uint8  \n",
      " 41  contract_type_Two year                 7032 non-null   uint8  \n",
      " 42  internet_service_type_Fiber optic      7032 non-null   uint8  \n",
      " 43  internet_service_type_None             7032 non-null   uint8  \n",
      "dtypes: float64(2), int64(9), object(15), uint8(18)\n",
      "memory usage: 1.6+ MB\n"
     ]
    }
   ],
   "source": [
    "df = prep_telco(df)\n",
    "df.info()"
   ]
  },
  {
   "cell_type": "code",
   "execution_count": 5,
   "id": "12378110",
   "metadata": {},
   "outputs": [
    {
     "data": {
      "text/plain": [
       "['paperless_billing',\n",
       " 'contract_type',\n",
       " 'gender',\n",
       " 'partner',\n",
       " 'dependents',\n",
       " 'phone_service',\n",
       " 'multiple_lines',\n",
       " 'online_security',\n",
       " 'online_backup',\n",
       " 'device_protection',\n",
       " 'tech_support',\n",
       " 'streaming_tv',\n",
       " 'streaming_movies',\n",
       " 'internet_service_type',\n",
       " 'churn_encoded']"
      ]
     },
     "execution_count": 5,
     "metadata": {},
     "output_type": "execute_result"
    }
   ],
   "source": [
    "dropcols = [col for col in df.columns if df[col].dtype == 'object']\n",
    "dropcols.remove('churn')\n",
    "dropcols.append('churn_encoded')\n",
    "dropcols"
   ]
  },
  {
   "cell_type": "code",
   "execution_count": 6,
   "id": "90ee5107",
   "metadata": {},
   "outputs": [
    {
     "data": {
      "text/html": [
       "<div>\n",
       "<style scoped>\n",
       "    .dataframe tbody tr th:only-of-type {\n",
       "        vertical-align: middle;\n",
       "    }\n",
       "\n",
       "    .dataframe tbody tr th {\n",
       "        vertical-align: top;\n",
       "    }\n",
       "\n",
       "    .dataframe thead th {\n",
       "        text-align: right;\n",
       "    }\n",
       "</style>\n",
       "<table border=\"1\" class=\"dataframe\">\n",
       "  <thead>\n",
       "    <tr style=\"text-align: right;\">\n",
       "      <th></th>\n",
       "      <th>monthly_charges</th>\n",
       "      <th>total_charges</th>\n",
       "      <th>senior_citizen</th>\n",
       "      <th>tenure</th>\n",
       "      <th>contract_type_id.1</th>\n",
       "      <th>churn</th>\n",
       "      <th>gender_encoded</th>\n",
       "      <th>partner_encoded</th>\n",
       "      <th>dependents_encoded</th>\n",
       "      <th>phone_service_encoded</th>\n",
       "      <th>...</th>\n",
       "      <th>tech_support_No internet service</th>\n",
       "      <th>tech_support_Yes</th>\n",
       "      <th>streaming_tv_No internet service</th>\n",
       "      <th>streaming_tv_Yes</th>\n",
       "      <th>streaming_movies_No internet service</th>\n",
       "      <th>streaming_movies_Yes</th>\n",
       "      <th>contract_type_One year</th>\n",
       "      <th>contract_type_Two year</th>\n",
       "      <th>internet_service_type_Fiber optic</th>\n",
       "      <th>internet_service_type_None</th>\n",
       "    </tr>\n",
       "  </thead>\n",
       "  <tbody>\n",
       "    <tr>\n",
       "      <th>0</th>\n",
       "      <td>73.9</td>\n",
       "      <td>280.85</td>\n",
       "      <td>0</td>\n",
       "      <td>4</td>\n",
       "      <td>1</td>\n",
       "      <td>Yes</td>\n",
       "      <td>0</td>\n",
       "      <td>0</td>\n",
       "      <td>0</td>\n",
       "      <td>1</td>\n",
       "      <td>...</td>\n",
       "      <td>0</td>\n",
       "      <td>0</td>\n",
       "      <td>0</td>\n",
       "      <td>0</td>\n",
       "      <td>0</td>\n",
       "      <td>0</td>\n",
       "      <td>0</td>\n",
       "      <td>0</td>\n",
       "      <td>1</td>\n",
       "      <td>0</td>\n",
       "    </tr>\n",
       "    <tr>\n",
       "      <th>1</th>\n",
       "      <td>45.2</td>\n",
       "      <td>2460.55</td>\n",
       "      <td>0</td>\n",
       "      <td>54</td>\n",
       "      <td>3</td>\n",
       "      <td>No</td>\n",
       "      <td>0</td>\n",
       "      <td>0</td>\n",
       "      <td>0</td>\n",
       "      <td>0</td>\n",
       "      <td>...</td>\n",
       "      <td>0</td>\n",
       "      <td>1</td>\n",
       "      <td>0</td>\n",
       "      <td>1</td>\n",
       "      <td>0</td>\n",
       "      <td>0</td>\n",
       "      <td>0</td>\n",
       "      <td>1</td>\n",
       "      <td>0</td>\n",
       "      <td>0</td>\n",
       "    </tr>\n",
       "  </tbody>\n",
       "</table>\n",
       "<p>2 rows × 29 columns</p>\n",
       "</div>"
      ],
      "text/plain": [
       "   monthly_charges  total_charges  senior_citizen  tenure  contract_type_id.1  \\\n",
       "0             73.9         280.85               0       4                   1   \n",
       "1             45.2        2460.55               0      54                   3   \n",
       "\n",
       "  churn  gender_encoded  partner_encoded  dependents_encoded  \\\n",
       "0   Yes               0                0                   0   \n",
       "1    No               0                0                   0   \n",
       "\n",
       "   phone_service_encoded  ...  tech_support_No internet service  \\\n",
       "0                      1  ...                                 0   \n",
       "1                      0  ...                                 0   \n",
       "\n",
       "   tech_support_Yes  streaming_tv_No internet service  streaming_tv_Yes  \\\n",
       "0                 0                                 0                 0   \n",
       "1                 1                                 0                 1   \n",
       "\n",
       "   streaming_movies_No internet service  streaming_movies_Yes  \\\n",
       "0                                     0                     0   \n",
       "1                                     0                     0   \n",
       "\n",
       "   contract_type_One year  contract_type_Two year  \\\n",
       "0                       0                       0   \n",
       "1                       0                       1   \n",
       "\n",
       "   internet_service_type_Fiber optic  internet_service_type_None  \n",
       "0                                  1                           0  \n",
       "1                                  0                           0  \n",
       "\n",
       "[2 rows x 29 columns]"
      ]
     },
     "execution_count": 6,
     "metadata": {},
     "output_type": "execute_result"
    }
   ],
   "source": [
    "df = df.drop(columns=dropcols)\n",
    "df.head(2)"
   ]
  },
  {
   "cell_type": "code",
   "execution_count": 7,
   "id": "f797147f",
   "metadata": {},
   "outputs": [
    {
     "data": {
      "text/plain": [
       "No     2891\n",
       "Yes    1046\n",
       "Name: churn, dtype: int64"
      ]
     },
     "execution_count": 7,
     "metadata": {},
     "output_type": "execute_result"
    }
   ],
   "source": [
    "df_train, df_validate, df_test = splitter(df, 'churn')\n",
    "df_train.churn.value_counts()"
   ]
  },
  {
   "cell_type": "code",
   "execution_count": 8,
   "id": "8f9109ac",
   "metadata": {},
   "outputs": [
    {
     "data": {
      "text/plain": [
       "0.7343154686309372"
      ]
     },
     "execution_count": 8,
     "metadata": {},
     "output_type": "execute_result"
    }
   ],
   "source": [
    "2891/(2891+1046)"
   ]
  },
  {
   "cell_type": "markdown",
   "id": "12c3285c",
   "metadata": {},
   "source": [
    "Baseline case is 'not churned' and the baseline accuracy is 73.43%."
   ]
  },
  {
   "cell_type": "code",
   "execution_count": 9,
   "id": "20453310",
   "metadata": {},
   "outputs": [],
   "source": [
    "X_train = df_train.drop(columns=['churn'])\n",
    "y_train = df_train.churn\n",
    "\n",
    "X_validate = df_validate.drop(columns=['churn'])\n",
    "y_validate = df_validate.churn\n",
    "\n",
    "X_test = df_test.drop(columns=['churn'])\n",
    "y_test = df_test.churn"
   ]
  },
  {
   "cell_type": "code",
   "execution_count": 10,
   "id": "3a0cba5a",
   "metadata": {},
   "outputs": [],
   "source": [
    "clf = DecisionTreeClassifier(max_depth = 3, random_state=123)\n",
    "clf = clf.fit(X_train, y_train)"
   ]
  },
  {
   "cell_type": "code",
   "execution_count": 11,
   "id": "8905bd89",
   "metadata": {},
   "outputs": [
    {
     "data": {
      "text/plain": [
       "[Text(446.4, 380.52, 'contract_type_id.1 <= 1.5\\ngini = 0.39\\nsamples = 3937\\nvalue = [2891, 1046]\\nclass = No'),\n",
       " Text(223.2, 271.8, 'internet_service_type_Fiber optic <= 0.5\\ngini = 0.49\\nsamples = 2161\\nvalue = [1233, 928]\\nclass = No'),\n",
       " Text(111.6, 163.07999999999998, 'tenure <= 5.5\\ngini = 0.409\\nsamples = 954\\nvalue = [681, 273]\\nclass = No'),\n",
       " Text(55.8, 54.360000000000014, 'gini = 0.497\\nsamples = 401\\nvalue = [217, 184]\\nclass = No'),\n",
       " Text(167.39999999999998, 54.360000000000014, 'gini = 0.27\\nsamples = 553\\nvalue = [464, 89]\\nclass = No'),\n",
       " Text(334.79999999999995, 163.07999999999998, 'total_charges <= 1163.45\\ngini = 0.496\\nsamples = 1207\\nvalue = [552, 655]\\nclass = Yes'),\n",
       " Text(279.0, 54.360000000000014, 'gini = 0.416\\nsamples = 543\\nvalue = [160, 383]\\nclass = Yes'),\n",
       " Text(390.59999999999997, 54.360000000000014, 'gini = 0.484\\nsamples = 664\\nvalue = [392, 272]\\nclass = No'),\n",
       " Text(669.5999999999999, 271.8, 'monthly_charges <= 99.95\\ngini = 0.124\\nsamples = 1776\\nvalue = [1658, 118]\\nclass = No'),\n",
       " Text(558.0, 163.07999999999998, 'contract_type_Two year <= 0.5\\ngini = 0.086\\nsamples = 1462\\nvalue = [1396, 66]\\nclass = No'),\n",
       " Text(502.2, 54.360000000000014, 'gini = 0.144\\nsamples = 693\\nvalue = [639, 54]\\nclass = No'),\n",
       " Text(613.8, 54.360000000000014, 'gini = 0.031\\nsamples = 769\\nvalue = [757, 12]\\nclass = No'),\n",
       " Text(781.1999999999999, 163.07999999999998, 'tenure <= 70.5\\ngini = 0.276\\nsamples = 314\\nvalue = [262, 52]\\nclass = No'),\n",
       " Text(725.4, 54.360000000000014, 'gini = 0.346\\nsamples = 225\\nvalue = [175, 50]\\nclass = No'),\n",
       " Text(837.0, 54.360000000000014, 'gini = 0.044\\nsamples = 89\\nvalue = [87, 2]\\nclass = No')]"
      ]
     },
     "execution_count": 11,
     "metadata": {},
     "output_type": "execute_result"
    },
    {
     "data": {
      "image/png": "[encoded data removed]",
      "text/plain": [
       "<Figure size 1152x576 with 1 Axes>"
      ]
     },
     "metadata": {
      "needs_background": "light"
     },
     "output_type": "display_data"
    }
   ],
   "source": [
    "plt.figure(figsize=(16, 8))\n",
    "plot_tree(clf, feature_names=X_train.columns, class_names=clf.classes_.astype(str), rounded=True)"
   ]
  },
  {
   "cell_type": "code",
   "execution_count": 12,
   "id": "934d8c93",
   "metadata": {},
   "outputs": [
    {
     "data": {
      "text/plain": [
       "array(['No', 'Yes', 'No', 'Yes', 'No'], dtype=object)"
      ]
     },
     "execution_count": 12,
     "metadata": {},
     "output_type": "execute_result"
    }
   ],
   "source": [
    "y_pred = clf.predict(X_train)\n",
    "y_pred[0:5]"
   ]
  },
  {
   "cell_type": "code",
   "execution_count": 13,
   "id": "8ced2579",
   "metadata": {},
   "outputs": [
    {
     "data": {
      "text/plain": [
       "array([[0.59036145, 0.40963855],\n",
       "       [0.2946593 , 0.7053407 ],\n",
       "       [0.92207792, 0.07792208],\n",
       "       [0.2946593 , 0.7053407 ],\n",
       "       [0.77777778, 0.22222222]])"
      ]
     },
     "execution_count": 13,
     "metadata": {},
     "output_type": "execute_result"
    }
   ],
   "source": [
    "y_pred_proba = clf.predict_proba(X_train)\n",
    "y_pred_proba[0:5]"
   ]
  },
  {
   "cell_type": "code",
   "execution_count": 15,
   "id": "ba222a4d",
   "metadata": {},
   "outputs": [
    {
     "data": {
      "text/html": [
       "<div>\n",
       "<style scoped>\n",
       "    .dataframe tbody tr th:only-of-type {\n",
       "        vertical-align: middle;\n",
       "    }\n",
       "\n",
       "    .dataframe tbody tr th {\n",
       "        vertical-align: top;\n",
       "    }\n",
       "\n",
       "    .dataframe thead th {\n",
       "        text-align: right;\n",
       "    }\n",
       "</style>\n",
       "<table border=\"1\" class=\"dataframe\">\n",
       "  <thead>\n",
       "    <tr style=\"text-align: right;\">\n",
       "      <th></th>\n",
       "      <th>No</th>\n",
       "      <th>Yes</th>\n",
       "    </tr>\n",
       "  </thead>\n",
       "  <tbody>\n",
       "    <tr>\n",
       "      <th>No</th>\n",
       "      <td>2731</td>\n",
       "      <td>160</td>\n",
       "    </tr>\n",
       "    <tr>\n",
       "      <th>Yes</th>\n",
       "      <td>663</td>\n",
       "      <td>383</td>\n",
       "    </tr>\n",
       "  </tbody>\n",
       "</table>\n",
       "</div>"
      ],
      "text/plain": [
       "       No  Yes\n",
       "No   2731  160\n",
       "Yes   663  383"
      ]
     },
     "execution_count": 15,
     "metadata": {},
     "output_type": "execute_result"
    }
   ],
   "source": [
    "labels = sorted(y_train.unique())\n",
    "pd.DataFrame(confusion_matrix(y_train, y_pred), index=labels, columns=labels)"
   ]
  },
  {
   "cell_type": "markdown",
   "id": "714821f9",
   "metadata": {},
   "source": [
    "In training sample:"
   ]
  },
  {
   "cell_type": "code",
   "execution_count": 16,
   "id": "07d15fb8",
   "metadata": {},
   "outputs": [
    {
     "name": "stdout",
     "output_type": "stream",
     "text": [
      "Accuracy of Decision Tree classifier on training set: 0.79\n"
     ]
    }
   ],
   "source": [
    "print('Accuracy of Decision Tree classifier on training set: {:.2f}'\n",
    "      .format(clf.score(X_train, y_train)))"
   ]
  },
  {
   "cell_type": "code",
   "execution_count": 17,
   "id": "56a5c1f1",
   "metadata": {},
   "outputs": [
    {
     "name": "stdout",
     "output_type": "stream",
     "text": [
      "              precision    recall  f1-score   support\n",
      "\n",
      "          No       0.80      0.94      0.87      2891\n",
      "         Yes       0.71      0.37      0.48      1046\n",
      "\n",
      "    accuracy                           0.79      3937\n",
      "   macro avg       0.75      0.66      0.68      3937\n",
      "weighted avg       0.78      0.79      0.77      3937\n",
      "\n"
     ]
    }
   ],
   "source": [
    "y_pred = clf.predict(X_train)\n",
    "print(classification_report(y_train, y_pred))"
   ]
  },
  {
   "cell_type": "markdown",
   "id": "aa8c6a5b",
   "metadata": {},
   "source": [
    "In validation sample:"
   ]
  },
  {
   "cell_type": "code",
   "execution_count": 18,
   "id": "91b0eb2f",
   "metadata": {},
   "outputs": [
    {
     "name": "stdout",
     "output_type": "stream",
     "text": [
      "Accuracy of Decision Tree classifier on validation set: 0.79\n"
     ]
    }
   ],
   "source": [
    "print('Accuracy of Decision Tree classifier on validation set: {:.2f}'\n",
    "      .format(clf.score(X_validate, y_validate)))"
   ]
  },
  {
   "cell_type": "code",
   "execution_count": 19,
   "id": "c78061b3",
   "metadata": {},
   "outputs": [
    {
     "name": "stdout",
     "output_type": "stream",
     "text": [
      "              precision    recall  f1-score   support\n",
      "\n",
      "          No       0.80      0.95      0.87      1239\n",
      "         Yes       0.71      0.37      0.48       449\n",
      "\n",
      "    accuracy                           0.79      1688\n",
      "   macro avg       0.76      0.66      0.68      1688\n",
      "weighted avg       0.78      0.79      0.77      1688\n",
      "\n"
     ]
    }
   ],
   "source": [
    "y_pred = clf.predict(X_validate)\n",
    "print(classification_report(y_validate, y_pred))"
   ]
  }
 ],
 "metadata": {
  "kernelspec": {
   "display_name": "Python 3 (ipykernel)",
   "language": "python",
   "name": "python3"
  },
  "language_info": {
   "codemirror_mode": {
    "name": "ipython",
    "version": 3
   },
   "file_extension": ".py",
   "mimetype": "text/x-python",
   "name": "python",
   "nbconvert_exporter": "python",
   "pygments_lexer": "ipython3",
   "version": "3.9.7"
  }
 },
 "nbformat": 4,
 "nbformat_minor": 5
}
