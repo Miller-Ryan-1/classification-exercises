{
 "cells": [
  {
   "cell_type": "code",
   "execution_count": null,
   "id": "21b22c63",
   "metadata": {},
   "outputs": [],
   "source": [
    "# Self Notes:\n",
    "# 1) Sec III - Answer number 5!\n",
    "# 2) Sec III - Tighten up and seperate out the confusion matrix formula - perhaps generalize it\n",
    "# 3) Sec III - Get a better grip and practice creating dataframes with results"
   ]
  },
  {
   "cell_type": "code",
   "execution_count": 1,
   "id": "d9274bd4",
   "metadata": {},
   "outputs": [],
   "source": [
    "import pandas as pd\n",
    "import numpy as np\n",
    "import seaborn as sns\n",
    "\n",
    "import warnings\n",
    "warnings.filterwarnings(\"ignore\")\n",
    "\n",
    "from sklearn.tree import DecisionTreeClassifier, plot_tree\n",
    "from sklearn.metrics import classification_report\n",
    "from sklearn.metrics import confusion_matrix\n",
    "\n",
    "import matplotlib.pyplot as plt\n",
    "import seaborn as sns\n",
    "\n",
    "from acquire import get_titanic_data\n",
    "from prepare import prep_titanic\n",
    "from splitter import splitter"
   ]
  },
  {
   "cell_type": "markdown",
   "id": "e98d748c",
   "metadata": {},
   "source": [
    "# I. Decision Tree - Titanic Data"
   ]
  },
  {
   "cell_type": "code",
   "execution_count": 2,
   "id": "27ae288f",
   "metadata": {},
   "outputs": [
    {
     "data": {
      "text/html": [
       "<div>\n",
       "<style scoped>\n",
       "    .dataframe tbody tr th:only-of-type {\n",
       "        vertical-align: middle;\n",
       "    }\n",
       "\n",
       "    .dataframe tbody tr th {\n",
       "        vertical-align: top;\n",
       "    }\n",
       "\n",
       "    .dataframe thead th {\n",
       "        text-align: right;\n",
       "    }\n",
       "</style>\n",
       "<table border=\"1\" class=\"dataframe\">\n",
       "  <thead>\n",
       "    <tr style=\"text-align: right;\">\n",
       "      <th></th>\n",
       "      <th>passenger_id</th>\n",
       "      <th>survived</th>\n",
       "      <th>pclass</th>\n",
       "      <th>sex</th>\n",
       "      <th>age</th>\n",
       "      <th>sibsp</th>\n",
       "      <th>parch</th>\n",
       "      <th>fare</th>\n",
       "      <th>embarked</th>\n",
       "      <th>class</th>\n",
       "      <th>deck</th>\n",
       "      <th>embark_town</th>\n",
       "      <th>alone</th>\n",
       "    </tr>\n",
       "  </thead>\n",
       "  <tbody>\n",
       "    <tr>\n",
       "      <th>0</th>\n",
       "      <td>0</td>\n",
       "      <td>0</td>\n",
       "      <td>3</td>\n",
       "      <td>male</td>\n",
       "      <td>22.0</td>\n",
       "      <td>1</td>\n",
       "      <td>0</td>\n",
       "      <td>7.2500</td>\n",
       "      <td>S</td>\n",
       "      <td>Third</td>\n",
       "      <td>NaN</td>\n",
       "      <td>Southampton</td>\n",
       "      <td>0</td>\n",
       "    </tr>\n",
       "    <tr>\n",
       "      <th>1</th>\n",
       "      <td>1</td>\n",
       "      <td>1</td>\n",
       "      <td>1</td>\n",
       "      <td>female</td>\n",
       "      <td>38.0</td>\n",
       "      <td>1</td>\n",
       "      <td>0</td>\n",
       "      <td>71.2833</td>\n",
       "      <td>C</td>\n",
       "      <td>First</td>\n",
       "      <td>C</td>\n",
       "      <td>Cherbourg</td>\n",
       "      <td>0</td>\n",
       "    </tr>\n",
       "  </tbody>\n",
       "</table>\n",
       "</div>"
      ],
      "text/plain": [
       "   passenger_id  survived  pclass     sex   age  sibsp  parch     fare  \\\n",
       "0             0         0       3    male  22.0      1      0   7.2500   \n",
       "1             1         1       1  female  38.0      1      0  71.2833   \n",
       "\n",
       "  embarked  class deck  embark_town  alone  \n",
       "0        S  Third  NaN  Southampton      0  \n",
       "1        C  First    C    Cherbourg      0  "
      ]
     },
     "execution_count": 2,
     "metadata": {},
     "output_type": "execute_result"
    }
   ],
   "source": [
    "df = get_titanic_data()\n",
    "df.head(2)"
   ]
  },
  {
   "cell_type": "code",
   "execution_count": 3,
   "id": "773107c2",
   "metadata": {},
   "outputs": [
    {
     "data": {
      "text/html": [
       "<div>\n",
       "<style scoped>\n",
       "    .dataframe tbody tr th:only-of-type {\n",
       "        vertical-align: middle;\n",
       "    }\n",
       "\n",
       "    .dataframe tbody tr th {\n",
       "        vertical-align: top;\n",
       "    }\n",
       "\n",
       "    .dataframe thead th {\n",
       "        text-align: right;\n",
       "    }\n",
       "</style>\n",
       "<table border=\"1\" class=\"dataframe\">\n",
       "  <thead>\n",
       "    <tr style=\"text-align: right;\">\n",
       "      <th></th>\n",
       "      <th>survived</th>\n",
       "      <th>pclass</th>\n",
       "      <th>Siblings/Spouses</th>\n",
       "      <th>Parents/Children</th>\n",
       "      <th>fare</th>\n",
       "      <th>alone</th>\n",
       "      <th>sex_male</th>\n",
       "      <th>embark_town_Queenstown</th>\n",
       "      <th>embark_town_Southampton</th>\n",
       "    </tr>\n",
       "  </thead>\n",
       "  <tbody>\n",
       "    <tr>\n",
       "      <th>0</th>\n",
       "      <td>0</td>\n",
       "      <td>3</td>\n",
       "      <td>1</td>\n",
       "      <td>0</td>\n",
       "      <td>7.2500</td>\n",
       "      <td>0</td>\n",
       "      <td>1</td>\n",
       "      <td>0</td>\n",
       "      <td>1</td>\n",
       "    </tr>\n",
       "    <tr>\n",
       "      <th>1</th>\n",
       "      <td>1</td>\n",
       "      <td>1</td>\n",
       "      <td>1</td>\n",
       "      <td>0</td>\n",
       "      <td>71.2833</td>\n",
       "      <td>0</td>\n",
       "      <td>0</td>\n",
       "      <td>0</td>\n",
       "      <td>0</td>\n",
       "    </tr>\n",
       "  </tbody>\n",
       "</table>\n",
       "</div>"
      ],
      "text/plain": [
       "   survived  pclass  Siblings/Spouses  Parents/Children     fare  alone  \\\n",
       "0         0       3                 1                 0   7.2500      0   \n",
       "1         1       1                 1                 0  71.2833      0   \n",
       "\n",
       "   sex_male  embark_town_Queenstown  embark_town_Southampton  \n",
       "0         1                       0                        1  \n",
       "1         0                       0                        0  "
      ]
     },
     "execution_count": 3,
     "metadata": {},
     "output_type": "execute_result"
    }
   ],
   "source": [
    "df = prep_titanic(df)\n",
    "df.drop(columns='age', inplace=True)\n",
    "df.head(2)"
   ]
  },
  {
   "cell_type": "markdown",
   "id": "3a5df40b",
   "metadata": {},
   "source": [
    "## 1. What is your baseline prediction?  Baseline accuracy?"
   ]
  },
  {
   "cell_type": "code",
   "execution_count": 4,
   "id": "3e56a0d2",
   "metadata": {},
   "outputs": [
    {
     "data": {
      "text/plain": [
       "0    307\n",
       "1    191\n",
       "Name: survived, dtype: int64"
      ]
     },
     "execution_count": 4,
     "metadata": {},
     "output_type": "execute_result"
    }
   ],
   "source": [
    "df_train, df_validate, df_test = splitter(df, 'survived')\n",
    "df_train.survived.value_counts()"
   ]
  },
  {
   "cell_type": "code",
   "execution_count": 5,
   "id": "d9815c53",
   "metadata": {},
   "outputs": [
    {
     "data": {
      "text/plain": [
       "0.6164658634538153"
      ]
     },
     "execution_count": 5,
     "metadata": {},
     "output_type": "execute_result"
    }
   ],
   "source": [
    "307/(307+191)"
   ]
  },
  {
   "cell_type": "markdown",
   "id": "ffe2ab7a",
   "metadata": {},
   "source": [
    "#### Baseline prediction is died, which is accurate 61.65% of the time."
   ]
  },
  {
   "cell_type": "markdown",
   "id": "93957f70",
   "metadata": {},
   "source": [
    "## 2. Fit the decision tree classifier to your training sample and transform (i.e. make predictions on the training sample)"
   ]
  },
  {
   "cell_type": "code",
   "execution_count": 6,
   "id": "b1eba3e1",
   "metadata": {},
   "outputs": [],
   "source": [
    "X_train = df_train.drop(columns=['survived'])\n",
    "y_train = df_train.survived\n",
    "\n",
    "X_validate = df_validate.drop(columns=['survived'])\n",
    "y_validate = df_validate.survived\n",
    "\n",
    "X_test = df_test.drop(columns=['survived'])\n",
    "y_test = df_test.survived"
   ]
  },
  {
   "cell_type": "code",
   "execution_count": null,
   "id": "77410a3d",
   "metadata": {},
   "outputs": [],
   "source": [
    "clf = DecisionTreeClassifier(max_depth=3, random_state=123)\n",
    "clf = clf.fit(X_train, y_train)\n",
    "# this is tpyiall where y_pred = clf.predict(X_train) would live as part of the \"3 lines of code\""
   ]
  },
  {
   "cell_type": "code",
   "execution_count": null,
   "id": "8052c26c",
   "metadata": {},
   "outputs": [],
   "source": [
    "# plotting figure unecessary but good for funsies or stakeholder visuals at times\n",
    "plt.figure(figsize=(16, 8))\n",
    "plot_tree(clf, feature_names=X_train.columns, class_names=clf.classes_.astype(str), rounded=True)"
   ]
  },
  {
   "cell_type": "markdown",
   "id": "c224efcb",
   "metadata": {},
   "source": [
    "## 3. Evaluate your in-sample results using the model score, confusion matrix, and classification report."
   ]
  },
  {
   "cell_type": "code",
   "execution_count": null,
   "id": "62225931",
   "metadata": {},
   "outputs": [],
   "source": [
    "y_pred = clf.predict(X_train)\n",
    "y_pred[10:15]"
   ]
  },
  {
   "cell_type": "code",
   "execution_count": null,
   "id": "67ffd8e1",
   "metadata": {},
   "outputs": [],
   "source": [
    "y_pred_proba = clf.predict_proba(X_train)\n",
    "y_pred_proba[10:15]"
   ]
  },
  {
   "cell_type": "code",
   "execution_count": null,
   "id": "8b94318e",
   "metadata": {},
   "outputs": [],
   "source": [
    "# unecessary/redundant - found in dataframe you create below already\n",
    "confusion_matrix(y_train, y_pred)"
   ]
  },
  {
   "cell_type": "code",
   "execution_count": null,
   "id": "9ec50c0f",
   "metadata": {},
   "outputs": [],
   "source": [
    "pd.DataFrame(confusion_matrix(y_train, y_pred), index=['died','survived'], columns=['died','survived'])"
   ]
  },
  {
   "cell_type": "markdown",
   "id": "41cedbda",
   "metadata": {},
   "source": [
    "## 4. Compute: Accuracy, true positive rate, false positive rate, true negative rate, false negative rate, precision, recall, f1-score, and support."
   ]
  },
  {
   "cell_type": "markdown",
   "id": "f28a0e5a",
   "metadata": {},
   "source": [
    "##### In sample:"
   ]
  },
  {
   "cell_type": "code",
   "execution_count": null,
   "id": "69f7ae8f",
   "metadata": {},
   "outputs": [],
   "source": [
    "print('Accuracy of Decision Tree classifier on training set: {:.2f}'\n",
    "      .format(clf.score(X_train, y_train)))"
   ]
  },
  {
   "cell_type": "code",
   "execution_count": null,
   "id": "51a55be5",
   "metadata": {},
   "outputs": [],
   "source": [
    "report = classification_report(y_train, y_pred)\n",
    "print(report)"
   ]
  },
  {
   "cell_type": "markdown",
   "id": "3a747738",
   "metadata": {},
   "source": [
    "##### Validate:"
   ]
  },
  {
   "cell_type": "code",
   "execution_count": null,
   "id": "2d83d92b",
   "metadata": {},
   "outputs": [],
   "source": [
    "print('Accuracy of Decision Tree classifier on validate set: {:.2f}'\n",
    "     .format(clf.score(X_validate, y_validate)))"
   ]
  },
  {
   "cell_type": "code",
   "execution_count": null,
   "id": "e3a3fe0e",
   "metadata": {},
   "outputs": [],
   "source": [
    "y_pred = clf.predict(X_validate)\n",
    "\n",
    "print(classification_report(y_validate, y_pred))"
   ]
  },
  {
   "cell_type": "code",
   "execution_count": null,
   "id": "25305314",
   "metadata": {},
   "outputs": [],
   "source": [
    "# Make function that creates a fun and pretty table when you have time."
   ]
  },
  {
   "cell_type": "markdown",
   "id": "cc8d352f",
   "metadata": {},
   "source": [
    "## 5. Run through steps 2-4 using a different max_depth value."
   ]
  },
  {
   "cell_type": "markdown",
   "id": "9493cbb8",
   "metadata": {},
   "source": [
    "### Using max_depth = 7:"
   ]
  },
  {
   "cell_type": "markdown",
   "id": "62bb3fbd",
   "metadata": {},
   "source": [
    "##### Train:"
   ]
  },
  {
   "cell_type": "code",
   "execution_count": null,
   "id": "f7a756dd",
   "metadata": {},
   "outputs": [],
   "source": [
    "clf = DecisionTreeClassifier(max_depth=7, random_state=123)\n",
    "clf = clf.fit(X_train, y_train)"
   ]
  },
  {
   "cell_type": "code",
   "execution_count": null,
   "id": "5208435d",
   "metadata": {},
   "outputs": [],
   "source": [
    "plt.figure(figsize=(16, 8))\n",
    "plot_tree(clf, feature_names=X_train.columns, class_names=clf.classes_.astype(str), rounded=True)"
   ]
  },
  {
   "cell_type": "code",
   "execution_count": null,
   "id": "67b2d324",
   "metadata": {},
   "outputs": [],
   "source": [
    "print('Accuracy of Decision Tree classifier on training set: {:.2f}'\n",
    "      .format(clf.score(X_train, y_train)))"
   ]
  },
  {
   "cell_type": "code",
   "execution_count": null,
   "id": "edd3e569",
   "metadata": {},
   "outputs": [],
   "source": [
    "y_pred = clf.predict(X_train)\n",
    "print(classification_report(y_train, y_pred))"
   ]
  },
  {
   "cell_type": "markdown",
   "id": "04dd3132",
   "metadata": {},
   "source": [
    "##### Validate:"
   ]
  },
  {
   "cell_type": "code",
   "execution_count": null,
   "id": "f8992355",
   "metadata": {},
   "outputs": [],
   "source": [
    "print('Accuracy of Decision Tree classifier on validation set: {:.2f}'\n",
    "      .format(clf.score(X_validate, y_validate)))"
   ]
  },
  {
   "cell_type": "code",
   "execution_count": null,
   "id": "a09bcfc9",
   "metadata": {},
   "outputs": [],
   "source": [
    "y_pred = clf.predict(X_validate)\n",
    "\n",
    "print(classification_report(y_validate, y_pred))"
   ]
  },
  {
   "cell_type": "markdown",
   "id": "a271e000",
   "metadata": {},
   "source": [
    "## 6. Which model performs better on your in-sample data?"
   ]
  },
  {
   "cell_type": "markdown",
   "id": "82296167",
   "metadata": {},
   "source": [
    "The max_steps = 7 is better on in-sample data (as expected, more granular)."
   ]
  },
  {
   "cell_type": "markdown",
   "id": "6c49d863",
   "metadata": {},
   "source": [
    "## 7. Which model performs best on your out-of-sample data, the validate set?"
   ]
  },
  {
   "cell_type": "markdown",
   "id": "06852b54",
   "metadata": {},
   "source": [
    "The max_steps = 3 is better on the validate data."
   ]
  },
  {
   "cell_type": "markdown",
   "id": "53705d05",
   "metadata": {},
   "source": [
    "# II. Decision Tree - Telco Data"
   ]
  },
  {
   "cell_type": "code",
   "execution_count": null,
   "id": "bf1ced0b",
   "metadata": {},
   "outputs": [],
   "source": [
    "from acquire import get_telco_data\n",
    "from prepare import prep_telco"
   ]
  },
  {
   "cell_type": "code",
   "execution_count": null,
   "id": "9af954f4",
   "metadata": {},
   "outputs": [],
   "source": [
    "df = get_telco_data()\n",
    "df.head(2)"
   ]
  },
  {
   "cell_type": "code",
   "execution_count": null,
   "id": "95f57553",
   "metadata": {},
   "outputs": [],
   "source": [
    "df = prep_telco(df)\n",
    "df.info()"
   ]
  },
  {
   "cell_type": "code",
   "execution_count": null,
   "id": "aab52fd2",
   "metadata": {},
   "outputs": [],
   "source": [
    "dropcols = [col for col in df.columns if df[col].dtype == 'object']\n",
    "dropcols.remove('churn')\n",
    "dropcols.append('churn_encoded')\n",
    "dropcols"
   ]
  },
  {
   "cell_type": "code",
   "execution_count": null,
   "id": "5a421e52",
   "metadata": {},
   "outputs": [],
   "source": [
    "df = df.drop(columns=dropcols)\n",
    "df.head(2)"
   ]
  },
  {
   "cell_type": "code",
   "execution_count": null,
   "id": "4027b8bb",
   "metadata": {},
   "outputs": [],
   "source": [
    "df_train, df_validate, df_test = splitter(df, 'churn')\n",
    "df_train.churn.value_counts()"
   ]
  },
  {
   "cell_type": "code",
   "execution_count": null,
   "id": "d15e31e7",
   "metadata": {},
   "outputs": [],
   "source": [
    "#Note: Work more on establishing the baseline with code.  Esp since often a categorical!\n",
    "2891/(2891+1046)"
   ]
  },
  {
   "cell_type": "markdown",
   "id": "a4afc1f2",
   "metadata": {},
   "source": [
    "#### Baseline case is 'not churned' and the baseline accuracy is 73.43%."
   ]
  },
  {
   "cell_type": "code",
   "execution_count": null,
   "id": "31ab9a9d",
   "metadata": {},
   "outputs": [],
   "source": [
    "#Note - you can also drop all the columns in X-data, including churn, in the drop(columns)\n",
    "# The way you did it here was redundant!\n",
    "X_train = df_train.drop(columns=['churn'])\n",
    "y_train = df_train.churn\n",
    "\n",
    "X_validate = df_validate.drop(columns=['churn'])\n",
    "y_validate = df_validate.churn\n",
    "\n",
    "X_test = df_test.drop(columns=['churn'])\n",
    "y_test = df_test.churn"
   ]
  },
  {
   "cell_type": "code",
   "execution_count": null,
   "id": "1c481317",
   "metadata": {},
   "outputs": [],
   "source": [
    "clf = DecisionTreeClassifier(max_depth = 3, random_state=123)\n",
    "clf = clf.fit(X_train, y_train)"
   ]
  },
  {
   "cell_type": "code",
   "execution_count": null,
   "id": "be69b6ca",
   "metadata": {},
   "outputs": [],
   "source": [
    "plt.figure(figsize=(16, 8))\n",
    "plot_tree(clf, feature_names=X_train.columns, class_names=clf.classes_.astype(str), rounded=True)"
   ]
  },
  {
   "cell_type": "code",
   "execution_count": null,
   "id": "539a3b75",
   "metadata": {},
   "outputs": [],
   "source": [
    "y_pred = clf.predict(X_train)\n",
    "y_pred[0:5]"
   ]
  },
  {
   "cell_type": "code",
   "execution_count": null,
   "id": "563a6263",
   "metadata": {},
   "outputs": [],
   "source": [
    "y_pred_proba = clf.predict_proba(X_train)\n",
    "y_pred_proba[0:5]"
   ]
  },
  {
   "cell_type": "code",
   "execution_count": null,
   "id": "b6aadca6",
   "metadata": {},
   "outputs": [],
   "source": [
    "labels = sorted(y_train.unique())\n",
    "pd.DataFrame(confusion_matrix(y_train, y_pred), index=labels, columns=labels)"
   ]
  },
  {
   "cell_type": "markdown",
   "id": "6492abc1",
   "metadata": {},
   "source": [
    "##### In training sample:"
   ]
  },
  {
   "cell_type": "code",
   "execution_count": null,
   "id": "4b789613",
   "metadata": {},
   "outputs": [],
   "source": [
    "print('Accuracy of Decision Tree classifier on training set: {:.2f}'\n",
    "      .format(clf.score(X_train, y_train)))"
   ]
  },
  {
   "cell_type": "code",
   "execution_count": null,
   "id": "42a39b16",
   "metadata": {},
   "outputs": [],
   "source": [
    "y_pred = clf.predict(X_train)\n",
    "print(classification_report(y_train, y_pred))"
   ]
  },
  {
   "cell_type": "markdown",
   "id": "4a3dac14",
   "metadata": {},
   "source": [
    "##### In validation sample:"
   ]
  },
  {
   "cell_type": "code",
   "execution_count": null,
   "id": "86031fe5",
   "metadata": {},
   "outputs": [],
   "source": [
    "print('Accuracy of Decision Tree classifier on validation set: {:.2f}'\n",
    "      .format(clf.score(X_validate, y_validate)))"
   ]
  },
  {
   "cell_type": "code",
   "execution_count": null,
   "id": "2a1fbc65",
   "metadata": {},
   "outputs": [],
   "source": [
    "y_pred = clf.predict(X_validate)\n",
    "print(classification_report(y_validate, y_pred))"
   ]
  },
  {
   "cell_type": "markdown",
   "id": "77271539",
   "metadata": {},
   "source": [
    "### Using max_depth = 7"
   ]
  },
  {
   "cell_type": "code",
   "execution_count": null,
   "id": "53d10441",
   "metadata": {},
   "outputs": [],
   "source": [
    "clf = DecisionTreeClassifier(max_depth = 7, random_state=123)\n",
    "clf = clf.fit(X_train, y_train)"
   ]
  },
  {
   "cell_type": "code",
   "execution_count": null,
   "id": "e54d1ee4",
   "metadata": {},
   "outputs": [],
   "source": [
    "plt.figure(figsize=(16, 8))\n",
    "plot_tree(clf, feature_names=X_train.columns, class_names=clf.classes_.astype(str), rounded=True)"
   ]
  },
  {
   "cell_type": "code",
   "execution_count": null,
   "id": "94a74f49",
   "metadata": {},
   "outputs": [],
   "source": [
    "y_pred = clf.predict(X_train)\n",
    "y_pred[0:5]"
   ]
  },
  {
   "cell_type": "code",
   "execution_count": null,
   "id": "54822ff1",
   "metadata": {},
   "outputs": [],
   "source": [
    "y_pred_proba = clf.predict_proba(X_train)\n",
    "y_pred_proba[0:5]"
   ]
  },
  {
   "cell_type": "code",
   "execution_count": null,
   "id": "e7eace28",
   "metadata": {},
   "outputs": [],
   "source": [
    "labels = sorted(y_train.unique())\n",
    "pd.DataFrame(confusion_matrix(y_train, y_pred), index=labels, columns=labels)"
   ]
  },
  {
   "cell_type": "markdown",
   "id": "60c15a9a",
   "metadata": {},
   "source": [
    "##### In training sample:"
   ]
  },
  {
   "cell_type": "code",
   "execution_count": null,
   "id": "aee5f654",
   "metadata": {},
   "outputs": [],
   "source": [
    "print('Accuracy of Decision Tree classifier on training set: {:.2f}'\n",
    "      .format(clf.score(X_train, y_train)))"
   ]
  },
  {
   "cell_type": "code",
   "execution_count": null,
   "id": "88fb7082",
   "metadata": {},
   "outputs": [],
   "source": [
    "y_pred = clf.predict(X_train)\n",
    "print(classification_report(y_train, y_pred))"
   ]
  },
  {
   "cell_type": "markdown",
   "id": "c23f14f9",
   "metadata": {},
   "source": [
    "##### In validation sample:"
   ]
  },
  {
   "cell_type": "code",
   "execution_count": null,
   "id": "bcd302f0",
   "metadata": {},
   "outputs": [],
   "source": [
    "print('Accuracy of Decision Tree classifier on validation set: {:.2f}'\n",
    "      .format(clf.score(X_validate, y_validate)))"
   ]
  },
  {
   "cell_type": "code",
   "execution_count": null,
   "id": "e73aaf8d",
   "metadata": {},
   "outputs": [],
   "source": [
    "y_pred = clf.predict(X_validate)\n",
    "print(classification_report(y_validate, y_pred))"
   ]
  },
  {
   "cell_type": "markdown",
   "id": "2d6e2f9b",
   "metadata": {},
   "source": [
    "### Comparison at different max levels:"
   ]
  },
  {
   "cell_type": "code",
   "execution_count": null,
   "id": "e20281dd",
   "metadata": {},
   "outputs": [],
   "source": [
    "for i in range(1,9):\n",
    "    clf = DecisionTreeClassifier(max_depth = i, random_state=123)\n",
    "    clf = clf.fit(X_train, y_train)\n",
    "    print(f'Depth = {i}')\n",
    "    print('Accuracy of Decision Tree classifier on training set: {:.2f}'\n",
    "      .format(clf.score(X_train, y_train)))\n",
    "    print('Accuracy of Decision Tree classifier on validation set: {:.2f}'\n",
    "      .format(clf.score(X_validate, y_validate)))"
   ]
  },
  {
   "cell_type": "markdown",
   "id": "96cab9f8",
   "metadata": {},
   "source": [
    "#### Model performs best on validation set at a Depth of 3."
   ]
  },
  {
   "cell_type": "code",
   "execution_count": null,
   "id": "79a85817",
   "metadata": {},
   "outputs": [],
   "source": [
    "# Note: Remember you are not necessarily optimizing for accuracy, could be looking at recall or precision (or even F1)\n",
    "# A good way to assess train v. validation is by minimizing the distance between the outcome of interest"
   ]
  },
  {
   "cell_type": "markdown",
   "id": "ca57842c",
   "metadata": {},
   "source": [
    "# III. Random Forest - Titanic Data"
   ]
  },
  {
   "cell_type": "markdown",
   "id": "2873f1c2",
   "metadata": {},
   "source": [
    "##### Note: Used acquire, prep and splitting functions found in first exercise above."
   ]
  },
  {
   "cell_type": "markdown",
   "id": "66bf0cf7",
   "metadata": {},
   "source": [
    "## 1. Fit the Random Forest classifier to your training sample and transform (i.e. make predictions on the training sample) setting the random_state accordingly and setting min_samples_leaf = 1 and max_depth = 10."
   ]
  },
  {
   "cell_type": "code",
   "execution_count": 25,
   "id": "54e20b07",
   "metadata": {},
   "outputs": [],
   "source": [
    "from sklearn.ensemble import RandomForestClassifier\n",
    "rf = RandomForestClassifier(max_depth=10, \n",
    "                            min_samples_leaf = 1,\n",
    "                            random_state=123)"
   ]
  },
  {
   "cell_type": "code",
   "execution_count": 26,
   "id": "0dbde82f",
   "metadata": {},
   "outputs": [],
   "source": [
    "rf = rf.fit(X_train, y_train)"
   ]
  },
  {
   "cell_type": "code",
   "execution_count": 27,
   "id": "884c6c83",
   "metadata": {},
   "outputs": [
    {
     "name": "stdout",
     "output_type": "stream",
     "text": [
      "Index(['pclass', 'Siblings/Spouses', 'Parents/Children', 'fare', 'alone',\n",
      "       'sex_male', 'embark_town_Queenstown', 'embark_town_Southampton'],\n",
      "      dtype='object')\n",
      "[0.10004896 0.06919781 0.05286698 0.38308923 0.02330269 0.32808955\n",
      " 0.01527994 0.02812485]\n"
     ]
    }
   ],
   "source": [
    "print(X_train.columns)\n",
    "print(rf.feature_importances_)"
   ]
  },
  {
   "cell_type": "markdown",
   "id": "fe6da4c2",
   "metadata": {},
   "source": [
    "## 2. Evaluate your results using the model score, confusion matrix, and classification report."
   ]
  },
  {
   "cell_type": "markdown",
   "id": "eb0cf95a",
   "metadata": {},
   "source": [
    "### Training data:"
   ]
  },
  {
   "cell_type": "code",
   "execution_count": 28,
   "id": "c94a935d",
   "metadata": {},
   "outputs": [
    {
     "name": "stdout",
     "output_type": "stream",
     "text": [
      "Accuracy of random forest classifier on training set: 0.94\n"
     ]
    }
   ],
   "source": [
    "print('Accuracy of random forest classifier on training set: {:.2f}'\n",
    "     .format(rf.score(X_train, y_train)))"
   ]
  },
  {
   "cell_type": "code",
   "execution_count": null,
   "id": "374aca8c",
   "metadata": {},
   "outputs": [],
   "source": [
    "labels = ['died','survived']\n",
    "y_pred_train = rf.predict(X_train)\n",
    "dfrftr = pd.DataFrame(confusion_matrix(y_train, y_pred), index=labels, columns=labels)\n",
    "dfrftr"
   ]
  },
  {
   "cell_type": "code",
   "execution_count": null,
   "id": "b8d2688e",
   "metadata": {},
   "outputs": [],
   "source": [
    "print(classification_report(y_train, y_pred))"
   ]
  },
  {
   "cell_type": "code",
   "execution_count": null,
   "id": "539f3dc5",
   "metadata": {},
   "outputs": [],
   "source": [
    "pd.DataFrame(classification_report(y_train, y_pred, output_dict=True))"
   ]
  },
  {
   "cell_type": "markdown",
   "id": "32ab9120",
   "metadata": {},
   "source": [
    "### Validation Data:"
   ]
  },
  {
   "cell_type": "code",
   "execution_count": null,
   "id": "71ec41fc",
   "metadata": {},
   "outputs": [],
   "source": [
    "print('Accuracy of random forest classifier on training set: {:.2f}'\n",
    "     .format(rf.score(X_validate, y_validate)))"
   ]
  },
  {
   "cell_type": "code",
   "execution_count": null,
   "id": "e86659a7",
   "metadata": {},
   "outputs": [],
   "source": [
    "y_pred_validate = rf.predict(X_validate)\n",
    "dfrfv = pd.DataFrame(confusion_matrix(y_validate, y_pred_validate), index=labels, columns=labels)\n",
    "dfrfv"
   ]
  },
  {
   "cell_type": "code",
   "execution_count": null,
   "id": "35f5118a",
   "metadata": {},
   "outputs": [],
   "source": [
    "print(classification_report(y_validate, y_pred_validate))"
   ]
  },
  {
   "cell_type": "markdown",
   "id": "7b0e5229",
   "metadata": {},
   "source": [
    "## 3. Print and clearly label the following: Accuracy, true positive rate, false positive rate, true negative rate, false negative rate, precision, recall, f1-score, and support."
   ]
  },
  {
   "cell_type": "code",
   "execution_count": 91,
   "id": "73a506fb",
   "metadata": {},
   "outputs": [],
   "source": [
    "def matrix_results(df, TP='NW', actual='rows'):\n",
    "    if TP=='NW':\n",
    "        if actual=='rows':\n",
    "            true_positive = df.iloc[0,0]\n",
    "            false_positive = df.iloc[1,0]\n",
    "            true_negative = df.iloc[1,1]\n",
    "            false_negative = df.iloc[0,1]\n",
    "        elif actual=='columns':\n",
    "            true_positive = df.iloc[0,0]\n",
    "            false_positive = df.iloc[0,1]\n",
    "            true_negative = df.iloc[1,1]\n",
    "            false_negative = df.iloc[1,0]\n",
    "        else:\n",
    "            print('''If actual results (from training data) is in columns, please include \"actual = 'columns'\" in the function parameters''')\n",
    "            return\n",
    "    elif TP=='SE':\n",
    "        if actual=='rows':\n",
    "            true_positive = df.iloc[1,1]\n",
    "            false_positive = df.iloc[0,1]\n",
    "            true_negative = df.iloc[0,0]\n",
    "            false_negative = df.iloc[1,0]\n",
    "        elif actual=='columns':\n",
    "            true_positive = df.iloc[1,1]\n",
    "            false_positive = df.iloc[1,0]\n",
    "            true_negative = df.iloc[0,0]\n",
    "            false_negative = df.iloc[0,1]\n",
    "        else:\n",
    "            print('''If actual results (from training data) is in columns, please include \" actual = 'columns' \" in the function parameters''')\n",
    "            return\n",
    "    else:\n",
    "        print('''If True Positive is in the bottom right quadrant, please include \" TP = 'SE' \" in the function parameters''')\n",
    "        return\n",
    "    precision = true_positive / (true_positive + false_positive)\n",
    "    recall = true_positive / (true_positive + false_negative)\n",
    "    accuracy = (true_positive + true_negative) / (true_positive + true_negative + false_positive + false_negative)\n",
    "    f1_score = (2*precision*recall)/(precision + recall)\n",
    "    support_pos = true_positive + false_negative\n",
    "    support_neg = true_negative + false_positive\n",
    "#     print(f'True Positive = {true_positive}')\n",
    "#     print(f'False Positive = {false_positive}')\n",
    "#     print(f'True Negative = {true_negative}')\n",
    "#     print(f'False Negative = {false_negative}')\n",
    "#     print(f'Precision = {precision:.2f}')\n",
    "#     print(f'Recall = {recall:.2f}')\n",
    "#     print(f'Accuracy = {accuracy:.2f}')\n",
    "#     print(f'F1 Score = {f1_score:.2f}')\n",
    "#     print(f'Support, Positive = {support_pos}')\n",
    "#     print(f'Support, Negative = {support_neg}')\n",
    "    return {'true_positive':true_positive, 'false_positive':false_positive, 'true_negative':true_negative, 'false_negative':false_negative, 'precision':precision, 'recall':recall, 'accuracy':accuracy, 'f1_score':f1_score, 'support_pos':support_pos, 'support_neg':support_neg}"
   ]
  },
  {
   "cell_type": "code",
   "execution_count": null,
   "id": "f599be2d",
   "metadata": {},
   "outputs": [],
   "source": [
    "print('Training Data Results:')\n",
    "matrix_results(dfrftr)\n",
    "print('\\n----------\\n')\n",
    "print('Validation Data Results:')\n",
    "matrix_results(dfrfv)"
   ]
  },
  {
   "cell_type": "code",
   "execution_count": null,
   "id": "f83a86ff",
   "metadata": {},
   "outputs": [],
   "source": [
    "pd.DataFrame(matrix_results(dfrftr))"
   ]
  },
  {
   "cell_type": "markdown",
   "id": "41f533cd",
   "metadata": {},
   "source": [
    "## 4. Run through steps increasing your min_samples_leaf and decreasing your max_depth."
   ]
  },
  {
   "cell_type": "code",
   "execution_count": null,
   "id": "ea8fdee5",
   "metadata": {},
   "outputs": [],
   "source": [
    "for i in range(10,0,-1):\n",
    "    for j in range(1,10):\n",
    "        rf = RandomForestClassifier(max_depth=i, min_samples_leaf = j,random_state=123)\n",
    "        rf = rf.fit(X_train, y_train)\n",
    "        y_pred_train = rf.predict(X_train)\n",
    "        y_pred_validate = rf.predict(X_validate)\n",
    "        print(f'Depth = {i}, Leaves = {j}')\n",
    "        print('Accuracy of random forest classifier on training set: {:.2f}'.format(rf.score(X_train, y_train)))\n",
    "        print('Accuracy of random forest classifier on validation set: {:.2f}'.format(rf.score(X_validate, y_validate)))\n",
    "#         print('Training Report:')\n",
    "#         print(classification_report(y_train, y_pred_train))\n",
    "#         print('Validation Report:')\n",
    "#         print(classification_report(y_validate, y_pred_validate))\n",
    "#         print('\\n----------\\n')"
   ]
  },
  {
   "cell_type": "markdown",
   "id": "55ac38e2",
   "metadata": {},
   "source": [
    "## 5. What are the differences in the evaluation metrics? Which performs better on your in-sample data? Why?"
   ]
  },
  {
   "cell_type": "code",
   "execution_count": null,
   "id": "21d70c07",
   "metadata": {},
   "outputs": [],
   "source": [
    "# ANSWER"
   ]
  },
  {
   "cell_type": "markdown",
   "id": "71688501",
   "metadata": {},
   "source": [
    "# KNN - Titanic Data"
   ]
  },
  {
   "cell_type": "markdown",
   "id": "cc8f0ebd",
   "metadata": {},
   "source": [
    "#### Acquired, prepped and split above in section I.\n",
    "-Baseline is 'died' with an accuracy of 61.65%"
   ]
  },
  {
   "cell_type": "markdown",
   "id": "7624691f",
   "metadata": {},
   "source": [
    "## 1. Fit a K-Nearest Neighbors classifier to your training sample and transform (i.e. make predictions on the training sample)"
   ]
  },
  {
   "cell_type": "code",
   "execution_count": 72,
   "id": "faec0a04",
   "metadata": {},
   "outputs": [],
   "source": [
    "from sklearn.neighbors import KNeighborsClassifier\n",
    "knn = KNeighborsClassifier()"
   ]
  },
  {
   "cell_type": "code",
   "execution_count": 73,
   "id": "e7fe6813",
   "metadata": {},
   "outputs": [],
   "source": [
    "knn = knn.fit(X_train, y_train)"
   ]
  },
  {
   "cell_type": "code",
   "execution_count": 74,
   "id": "4aa33b81",
   "metadata": {},
   "outputs": [],
   "source": [
    "y_pred = knn.predict(X_train)\n",
    "y_pred_proba = knn.predict_proba(X_train)"
   ]
  },
  {
   "cell_type": "markdown",
   "id": "478d972d",
   "metadata": {},
   "source": [
    "## 2. Evaluate your results using the model score, confusion matrix, and classification report."
   ]
  },
  {
   "cell_type": "markdown",
   "id": "4d17f64b",
   "metadata": {},
   "source": [
    "Model Score:"
   ]
  },
  {
   "cell_type": "code",
   "execution_count": 75,
   "id": "fe8bb399",
   "metadata": {},
   "outputs": [
    {
     "data": {
      "text/plain": [
       "0.8072289156626506"
      ]
     },
     "execution_count": 75,
     "metadata": {},
     "output_type": "execute_result"
    }
   ],
   "source": [
    "knn.score(X_train, y_train)"
   ]
  },
  {
   "cell_type": "markdown",
   "id": "879ae6a4",
   "metadata": {},
   "source": [
    "Confusion Matrix:"
   ]
  },
  {
   "cell_type": "code",
   "execution_count": 76,
   "id": "2896da27",
   "metadata": {},
   "outputs": [
    {
     "data": {
      "text/html": [
       "<div>\n",
       "<style scoped>\n",
       "    .dataframe tbody tr th:only-of-type {\n",
       "        vertical-align: middle;\n",
       "    }\n",
       "\n",
       "    .dataframe tbody tr th {\n",
       "        vertical-align: top;\n",
       "    }\n",
       "\n",
       "    .dataframe thead th {\n",
       "        text-align: right;\n",
       "    }\n",
       "</style>\n",
       "<table border=\"1\" class=\"dataframe\">\n",
       "  <thead>\n",
       "    <tr style=\"text-align: right;\">\n",
       "      <th></th>\n",
       "      <th>died</th>\n",
       "      <th>survived</th>\n",
       "    </tr>\n",
       "  </thead>\n",
       "  <tbody>\n",
       "    <tr>\n",
       "      <th>died</th>\n",
       "      <td>265</td>\n",
       "      <td>42</td>\n",
       "    </tr>\n",
       "    <tr>\n",
       "      <th>survived</th>\n",
       "      <td>54</td>\n",
       "      <td>137</td>\n",
       "    </tr>\n",
       "  </tbody>\n",
       "</table>\n",
       "</div>"
      ],
      "text/plain": [
       "          died  survived\n",
       "died       265        42\n",
       "survived    54       137"
      ]
     },
     "execution_count": 76,
     "metadata": {},
     "output_type": "execute_result"
    }
   ],
   "source": [
    "labels = ['died','survived']\n",
    "results = pd.DataFrame(confusion_matrix(y_train, y_pred), index=labels, columns=labels)\n",
    "results"
   ]
  },
  {
   "cell_type": "code",
   "execution_count": 77,
   "id": "8da5fe6c",
   "metadata": {},
   "outputs": [
    {
     "name": "stdout",
     "output_type": "stream",
     "text": [
      "              precision    recall  f1-score   support\n",
      "\n",
      "           0       0.83      0.86      0.85       307\n",
      "           1       0.77      0.72      0.74       191\n",
      "\n",
      "    accuracy                           0.81       498\n",
      "   macro avg       0.80      0.79      0.79       498\n",
      "weighted avg       0.81      0.81      0.81       498\n",
      "\n"
     ]
    },
    {
     "data": {
      "text/html": [
       "<div>\n",
       "<style scoped>\n",
       "    .dataframe tbody tr th:only-of-type {\n",
       "        vertical-align: middle;\n",
       "    }\n",
       "\n",
       "    .dataframe tbody tr th {\n",
       "        vertical-align: top;\n",
       "    }\n",
       "\n",
       "    .dataframe thead th {\n",
       "        text-align: right;\n",
       "    }\n",
       "</style>\n",
       "<table border=\"1\" class=\"dataframe\">\n",
       "  <thead>\n",
       "    <tr style=\"text-align: right;\">\n",
       "      <th></th>\n",
       "      <th>0</th>\n",
       "      <th>1</th>\n",
       "      <th>accuracy</th>\n",
       "      <th>macro avg</th>\n",
       "      <th>weighted avg</th>\n",
       "    </tr>\n",
       "  </thead>\n",
       "  <tbody>\n",
       "    <tr>\n",
       "      <th>precision</th>\n",
       "      <td>0.830721</td>\n",
       "      <td>0.765363</td>\n",
       "      <td>0.807229</td>\n",
       "      <td>0.798042</td>\n",
       "      <td>0.805654</td>\n",
       "    </tr>\n",
       "    <tr>\n",
       "      <th>recall</th>\n",
       "      <td>0.863192</td>\n",
       "      <td>0.717277</td>\n",
       "      <td>0.807229</td>\n",
       "      <td>0.790235</td>\n",
       "      <td>0.807229</td>\n",
       "    </tr>\n",
       "    <tr>\n",
       "      <th>f1-score</th>\n",
       "      <td>0.846645</td>\n",
       "      <td>0.740541</td>\n",
       "      <td>0.807229</td>\n",
       "      <td>0.793593</td>\n",
       "      <td>0.805951</td>\n",
       "    </tr>\n",
       "    <tr>\n",
       "      <th>support</th>\n",
       "      <td>307.000000</td>\n",
       "      <td>191.000000</td>\n",
       "      <td>0.807229</td>\n",
       "      <td>498.000000</td>\n",
       "      <td>498.000000</td>\n",
       "    </tr>\n",
       "  </tbody>\n",
       "</table>\n",
       "</div>"
      ],
      "text/plain": [
       "                    0           1  accuracy   macro avg  weighted avg\n",
       "precision    0.830721    0.765363  0.807229    0.798042      0.805654\n",
       "recall       0.863192    0.717277  0.807229    0.790235      0.807229\n",
       "f1-score     0.846645    0.740541  0.807229    0.793593      0.805951\n",
       "support    307.000000  191.000000  0.807229  498.000000    498.000000"
      ]
     },
     "execution_count": 77,
     "metadata": {},
     "output_type": "execute_result"
    }
   ],
   "source": [
    "print(classification_report(y_train, y_pred))\n",
    "pd.DataFrame(classification_report(y_train, y_pred, output_dict=True))"
   ]
  },
  {
   "cell_type": "markdown",
   "id": "5d75e8e7",
   "metadata": {},
   "source": [
    "## 3. Print and clearly label the following: Accuracy, true positive rate, false positive rate, true negative rate, false negative rate, precision, recall, f1-score, and support."
   ]
  },
  {
   "cell_type": "code",
   "execution_count": 79,
   "id": "bfd65b86",
   "metadata": {},
   "outputs": [
    {
     "name": "stdout",
     "output_type": "stream",
     "text": [
      "True Positive = 265\n",
      "False Positive = 54\n",
      "True Negative = 137\n",
      "False Negative = 42\n",
      "Precision = 0.83\n",
      "Recall = 0.86\n",
      "Accuracy = 0.81\n",
      "F1 Score = 0.85\n",
      "Support, Positive = 307\n",
      "Support, Negative = 191\n"
     ]
    },
    {
     "data": {
      "text/plain": [
       "{'true_positive': 265,\n",
       " 'false_positive': 54,\n",
       " 'true_negative': 137,\n",
       " 'false_negative': 42,\n",
       " 'precision': 0.8307210031347962,\n",
       " 'recall': 0.8631921824104235,\n",
       " 'accuracy': 0.8072289156626506,\n",
       " 'f1_score': 0.8466453674121405,\n",
       " 'support_pos': 307,\n",
       " 'support_neg': 191}"
      ]
     },
     "execution_count": 79,
     "metadata": {},
     "output_type": "execute_result"
    }
   ],
   "source": [
    "#pd.DataFrame(matrix_results(results).values(), columns=matrix_results(results).keys())\n",
    "matrix_results(results)"
   ]
  },
  {
   "cell_type": "markdown",
   "id": "f197cfdc",
   "metadata": {},
   "source": [
    "## 4. Run through steps 2-3 setting k to 10"
   ]
  },
  {
   "cell_type": "code",
   "execution_count": 80,
   "id": "8611c479",
   "metadata": {},
   "outputs": [
    {
     "data": {
      "text/plain": [
       "0.7831325301204819"
      ]
     },
     "execution_count": 80,
     "metadata": {},
     "output_type": "execute_result"
    }
   ],
   "source": [
    "knn = KNeighborsClassifier(n_neighbors=10)\n",
    "knn = knn.fit(X_train, y_train)\n",
    "y_pred = knn.predict(X_train)\n",
    "knn.score(X_train, y_train)"
   ]
  },
  {
   "cell_type": "code",
   "execution_count": 81,
   "id": "ed9d57dc",
   "metadata": {},
   "outputs": [
    {
     "data": {
      "text/html": [
       "<div>\n",
       "<style scoped>\n",
       "    .dataframe tbody tr th:only-of-type {\n",
       "        vertical-align: middle;\n",
       "    }\n",
       "\n",
       "    .dataframe tbody tr th {\n",
       "        vertical-align: top;\n",
       "    }\n",
       "\n",
       "    .dataframe thead th {\n",
       "        text-align: right;\n",
       "    }\n",
       "</style>\n",
       "<table border=\"1\" class=\"dataframe\">\n",
       "  <thead>\n",
       "    <tr style=\"text-align: right;\">\n",
       "      <th></th>\n",
       "      <th>died</th>\n",
       "      <th>survived</th>\n",
       "    </tr>\n",
       "  </thead>\n",
       "  <tbody>\n",
       "    <tr>\n",
       "      <th>died</th>\n",
       "      <td>267</td>\n",
       "      <td>40</td>\n",
       "    </tr>\n",
       "    <tr>\n",
       "      <th>survived</th>\n",
       "      <td>68</td>\n",
       "      <td>123</td>\n",
       "    </tr>\n",
       "  </tbody>\n",
       "</table>\n",
       "</div>"
      ],
      "text/plain": [
       "          died  survived\n",
       "died       267        40\n",
       "survived    68       123"
      ]
     },
     "execution_count": 81,
     "metadata": {},
     "output_type": "execute_result"
    }
   ],
   "source": [
    "labels = ['died','survived']\n",
    "results = pd.DataFrame(confusion_matrix(y_train, y_pred), index=labels, columns=labels)\n",
    "results"
   ]
  },
  {
   "cell_type": "code",
   "execution_count": 83,
   "id": "377d6068",
   "metadata": {},
   "outputs": [
    {
     "name": "stdout",
     "output_type": "stream",
     "text": [
      "              precision    recall  f1-score   support\n",
      "\n",
      "           0       0.80      0.87      0.83       307\n",
      "           1       0.75      0.64      0.69       191\n",
      "\n",
      "    accuracy                           0.78       498\n",
      "   macro avg       0.78      0.76      0.76       498\n",
      "weighted avg       0.78      0.78      0.78       498\n",
      "\n"
     ]
    },
    {
     "data": {
      "text/html": [
       "<div>\n",
       "<style scoped>\n",
       "    .dataframe tbody tr th:only-of-type {\n",
       "        vertical-align: middle;\n",
       "    }\n",
       "\n",
       "    .dataframe tbody tr th {\n",
       "        vertical-align: top;\n",
       "    }\n",
       "\n",
       "    .dataframe thead th {\n",
       "        text-align: right;\n",
       "    }\n",
       "</style>\n",
       "<table border=\"1\" class=\"dataframe\">\n",
       "  <thead>\n",
       "    <tr style=\"text-align: right;\">\n",
       "      <th></th>\n",
       "      <th>0</th>\n",
       "      <th>1</th>\n",
       "      <th>accuracy</th>\n",
       "      <th>macro avg</th>\n",
       "      <th>weighted avg</th>\n",
       "    </tr>\n",
       "  </thead>\n",
       "  <tbody>\n",
       "    <tr>\n",
       "      <th>precision</th>\n",
       "      <td>0.797015</td>\n",
       "      <td>0.754601</td>\n",
       "      <td>0.783133</td>\n",
       "      <td>0.775808</td>\n",
       "      <td>0.780748</td>\n",
       "    </tr>\n",
       "    <tr>\n",
       "      <th>recall</th>\n",
       "      <td>0.869707</td>\n",
       "      <td>0.643979</td>\n",
       "      <td>0.783133</td>\n",
       "      <td>0.756843</td>\n",
       "      <td>0.783133</td>\n",
       "    </tr>\n",
       "    <tr>\n",
       "      <th>f1-score</th>\n",
       "      <td>0.831776</td>\n",
       "      <td>0.694915</td>\n",
       "      <td>0.783133</td>\n",
       "      <td>0.763345</td>\n",
       "      <td>0.779285</td>\n",
       "    </tr>\n",
       "    <tr>\n",
       "      <th>support</th>\n",
       "      <td>307.000000</td>\n",
       "      <td>191.000000</td>\n",
       "      <td>0.783133</td>\n",
       "      <td>498.000000</td>\n",
       "      <td>498.000000</td>\n",
       "    </tr>\n",
       "  </tbody>\n",
       "</table>\n",
       "</div>"
      ],
      "text/plain": [
       "                    0           1  accuracy   macro avg  weighted avg\n",
       "precision    0.797015    0.754601  0.783133    0.775808      0.780748\n",
       "recall       0.869707    0.643979  0.783133    0.756843      0.783133\n",
       "f1-score     0.831776    0.694915  0.783133    0.763345      0.779285\n",
       "support    307.000000  191.000000  0.783133  498.000000    498.000000"
      ]
     },
     "execution_count": 83,
     "metadata": {},
     "output_type": "execute_result"
    }
   ],
   "source": [
    "print(classification_report(y_train, y_pred))\n",
    "pd.DataFrame(classification_report(y_train, y_pred, output_dict=True))"
   ]
  },
  {
   "cell_type": "code",
   "execution_count": 84,
   "id": "745847c1",
   "metadata": {},
   "outputs": [
    {
     "name": "stdout",
     "output_type": "stream",
     "text": [
      "True Positive = 267\n",
      "False Positive = 68\n",
      "True Negative = 123\n",
      "False Negative = 40\n",
      "Precision = 0.80\n",
      "Recall = 0.87\n",
      "Accuracy = 0.78\n",
      "F1 Score = 0.83\n",
      "Support, Positive = 307\n",
      "Support, Negative = 191\n"
     ]
    },
    {
     "data": {
      "text/plain": [
       "{'true_positive': 267,\n",
       " 'false_positive': 68,\n",
       " 'true_negative': 123,\n",
       " 'false_negative': 40,\n",
       " 'precision': 0.7970149253731343,\n",
       " 'recall': 0.8697068403908795,\n",
       " 'accuracy': 0.7831325301204819,\n",
       " 'f1_score': 0.8317757009345794,\n",
       " 'support_pos': 307,\n",
       " 'support_neg': 191}"
      ]
     },
     "execution_count": 84,
     "metadata": {},
     "output_type": "execute_result"
    }
   ],
   "source": [
    "matrix_results(results)"
   ]
  },
  {
   "cell_type": "markdown",
   "id": "eafa239e",
   "metadata": {},
   "source": [
    "## 5. Run through steps 2-3 setting k to 20"
   ]
  },
  {
   "cell_type": "code",
   "execution_count": 85,
   "id": "8d141c98",
   "metadata": {},
   "outputs": [
    {
     "data": {
      "text/plain": [
       "0.7369477911646586"
      ]
     },
     "execution_count": 85,
     "metadata": {},
     "output_type": "execute_result"
    }
   ],
   "source": [
    "knn = KNeighborsClassifier(n_neighbors=20)\n",
    "knn = knn.fit(X_train, y_train)\n",
    "y_pred = knn.predict(X_train)\n",
    "knn.score(X_train, y_train)"
   ]
  },
  {
   "cell_type": "code",
   "execution_count": 86,
   "id": "ce3bc09e",
   "metadata": {},
   "outputs": [
    {
     "data": {
      "text/html": [
       "<div>\n",
       "<style scoped>\n",
       "    .dataframe tbody tr th:only-of-type {\n",
       "        vertical-align: middle;\n",
       "    }\n",
       "\n",
       "    .dataframe tbody tr th {\n",
       "        vertical-align: top;\n",
       "    }\n",
       "\n",
       "    .dataframe thead th {\n",
       "        text-align: right;\n",
       "    }\n",
       "</style>\n",
       "<table border=\"1\" class=\"dataframe\">\n",
       "  <thead>\n",
       "    <tr style=\"text-align: right;\">\n",
       "      <th></th>\n",
       "      <th>died</th>\n",
       "      <th>survived</th>\n",
       "    </tr>\n",
       "  </thead>\n",
       "  <tbody>\n",
       "    <tr>\n",
       "      <th>died</th>\n",
       "      <td>263</td>\n",
       "      <td>44</td>\n",
       "    </tr>\n",
       "    <tr>\n",
       "      <th>survived</th>\n",
       "      <td>87</td>\n",
       "      <td>104</td>\n",
       "    </tr>\n",
       "  </tbody>\n",
       "</table>\n",
       "</div>"
      ],
      "text/plain": [
       "          died  survived\n",
       "died       263        44\n",
       "survived    87       104"
      ]
     },
     "execution_count": 86,
     "metadata": {},
     "output_type": "execute_result"
    }
   ],
   "source": [
    "labels = ['died','survived']\n",
    "results = pd.DataFrame(confusion_matrix(y_train, y_pred), index=labels, columns=labels)\n",
    "results"
   ]
  },
  {
   "cell_type": "code",
   "execution_count": 89,
   "id": "fa23a2c7",
   "metadata": {},
   "outputs": [
    {
     "name": "stdout",
     "output_type": "stream",
     "text": [
      "              precision    recall  f1-score   support\n",
      "\n",
      "           0       0.75      0.86      0.80       307\n",
      "           1       0.70      0.54      0.61       191\n",
      "\n",
      "    accuracy                           0.74       498\n",
      "   macro avg       0.73      0.70      0.71       498\n",
      "weighted avg       0.73      0.74      0.73       498\n",
      "\n"
     ]
    },
    {
     "data": {
      "text/html": [
       "<div>\n",
       "<style scoped>\n",
       "    .dataframe tbody tr th:only-of-type {\n",
       "        vertical-align: middle;\n",
       "    }\n",
       "\n",
       "    .dataframe tbody tr th {\n",
       "        vertical-align: top;\n",
       "    }\n",
       "\n",
       "    .dataframe thead th {\n",
       "        text-align: right;\n",
       "    }\n",
       "</style>\n",
       "<table border=\"1\" class=\"dataframe\">\n",
       "  <thead>\n",
       "    <tr style=\"text-align: right;\">\n",
       "      <th></th>\n",
       "      <th>0</th>\n",
       "      <th>1</th>\n",
       "      <th>accuracy</th>\n",
       "      <th>macro avg</th>\n",
       "      <th>weighted avg</th>\n",
       "    </tr>\n",
       "  </thead>\n",
       "  <tbody>\n",
       "    <tr>\n",
       "      <th>precision</th>\n",
       "      <td>0.75</td>\n",
       "      <td>0.70</td>\n",
       "      <td>0.74</td>\n",
       "      <td>0.73</td>\n",
       "      <td>0.73</td>\n",
       "    </tr>\n",
       "    <tr>\n",
       "      <th>recall</th>\n",
       "      <td>0.86</td>\n",
       "      <td>0.54</td>\n",
       "      <td>0.74</td>\n",
       "      <td>0.70</td>\n",
       "      <td>0.74</td>\n",
       "    </tr>\n",
       "    <tr>\n",
       "      <th>f1-score</th>\n",
       "      <td>0.80</td>\n",
       "      <td>0.61</td>\n",
       "      <td>0.74</td>\n",
       "      <td>0.71</td>\n",
       "      <td>0.73</td>\n",
       "    </tr>\n",
       "    <tr>\n",
       "      <th>support</th>\n",
       "      <td>307.00</td>\n",
       "      <td>191.00</td>\n",
       "      <td>0.74</td>\n",
       "      <td>498.00</td>\n",
       "      <td>498.00</td>\n",
       "    </tr>\n",
       "  </tbody>\n",
       "</table>\n",
       "</div>"
      ],
      "text/plain": [
       "                0       1  accuracy  macro avg  weighted avg\n",
       "precision    0.75    0.70      0.74       0.73          0.73\n",
       "recall       0.86    0.54      0.74       0.70          0.74\n",
       "f1-score     0.80    0.61      0.74       0.71          0.73\n",
       "support    307.00  191.00      0.74     498.00        498.00"
      ]
     },
     "execution_count": 89,
     "metadata": {},
     "output_type": "execute_result"
    }
   ],
   "source": [
    "print(classification_report(y_train, y_pred))\n",
    "pd.DataFrame(classification_report(y_train, y_pred, output_dict=True)).round(2)"
   ]
  },
  {
   "cell_type": "code",
   "execution_count": 88,
   "id": "5fafc722",
   "metadata": {},
   "outputs": [
    {
     "name": "stdout",
     "output_type": "stream",
     "text": [
      "True Positive = 263\n",
      "False Positive = 87\n",
      "True Negative = 104\n",
      "False Negative = 44\n",
      "Precision = 0.75\n",
      "Recall = 0.86\n",
      "Accuracy = 0.74\n",
      "F1 Score = 0.80\n",
      "Support, Positive = 307\n",
      "Support, Negative = 191\n"
     ]
    },
    {
     "data": {
      "text/plain": [
       "{'true_positive': 263,\n",
       " 'false_positive': 87,\n",
       " 'true_negative': 104,\n",
       " 'false_negative': 44,\n",
       " 'precision': 0.7514285714285714,\n",
       " 'recall': 0.8566775244299675,\n",
       " 'accuracy': 0.7369477911646586,\n",
       " 'f1_score': 0.8006088280060883,\n",
       " 'support_pos': 307,\n",
       " 'support_neg': 191}"
      ]
     },
     "execution_count": 88,
     "metadata": {},
     "output_type": "execute_result"
    }
   ],
   "source": [
    "matrix_results(results)"
   ]
  },
  {
   "cell_type": "markdown",
   "id": "15b603a3",
   "metadata": {},
   "source": [
    "##### Trying to loop through all k for train data:"
   ]
  },
  {
   "cell_type": "code",
   "execution_count": 103,
   "id": "f3ca415f",
   "metadata": {},
   "outputs": [
    {
     "data": {
      "text/html": [
       "<div>\n",
       "<style scoped>\n",
       "    .dataframe tbody tr th:only-of-type {\n",
       "        vertical-align: middle;\n",
       "    }\n",
       "\n",
       "    .dataframe tbody tr th {\n",
       "        vertical-align: top;\n",
       "    }\n",
       "\n",
       "    .dataframe thead th {\n",
       "        text-align: right;\n",
       "    }\n",
       "</style>\n",
       "<table border=\"1\" class=\"dataframe\">\n",
       "  <thead>\n",
       "    <tr style=\"text-align: right;\">\n",
       "      <th></th>\n",
       "      <th>true_positive</th>\n",
       "      <th>false_positive</th>\n",
       "      <th>true_negative</th>\n",
       "      <th>false_negative</th>\n",
       "      <th>precision</th>\n",
       "      <th>recall</th>\n",
       "      <th>accuracy</th>\n",
       "      <th>f1_score</th>\n",
       "      <th>support_pos</th>\n",
       "      <th>support_neg</th>\n",
       "    </tr>\n",
       "    <tr>\n",
       "      <th>k</th>\n",
       "      <th></th>\n",
       "      <th></th>\n",
       "      <th></th>\n",
       "      <th></th>\n",
       "      <th></th>\n",
       "      <th></th>\n",
       "      <th></th>\n",
       "      <th></th>\n",
       "      <th></th>\n",
       "      <th></th>\n",
       "    </tr>\n",
       "  </thead>\n",
       "  <tbody>\n",
       "    <tr>\n",
       "      <th>1</th>\n",
       "      <td>297</td>\n",
       "      <td>21</td>\n",
       "      <td>170</td>\n",
       "      <td>10</td>\n",
       "      <td>0.93</td>\n",
       "      <td>0.97</td>\n",
       "      <td>0.94</td>\n",
       "      <td>0.95</td>\n",
       "      <td>307</td>\n",
       "      <td>191</td>\n",
       "    </tr>\n",
       "    <tr>\n",
       "      <th>2</th>\n",
       "      <td>305</td>\n",
       "      <td>67</td>\n",
       "      <td>124</td>\n",
       "      <td>2</td>\n",
       "      <td>0.82</td>\n",
       "      <td>0.99</td>\n",
       "      <td>0.86</td>\n",
       "      <td>0.90</td>\n",
       "      <td>307</td>\n",
       "      <td>191</td>\n",
       "    </tr>\n",
       "    <tr>\n",
       "      <th>3</th>\n",
       "      <td>279</td>\n",
       "      <td>40</td>\n",
       "      <td>151</td>\n",
       "      <td>28</td>\n",
       "      <td>0.87</td>\n",
       "      <td>0.91</td>\n",
       "      <td>0.86</td>\n",
       "      <td>0.89</td>\n",
       "      <td>307</td>\n",
       "      <td>191</td>\n",
       "    </tr>\n",
       "    <tr>\n",
       "      <th>4</th>\n",
       "      <td>286</td>\n",
       "      <td>70</td>\n",
       "      <td>121</td>\n",
       "      <td>21</td>\n",
       "      <td>0.80</td>\n",
       "      <td>0.93</td>\n",
       "      <td>0.82</td>\n",
       "      <td>0.86</td>\n",
       "      <td>307</td>\n",
       "      <td>191</td>\n",
       "    </tr>\n",
       "    <tr>\n",
       "      <th>5</th>\n",
       "      <td>265</td>\n",
       "      <td>54</td>\n",
       "      <td>137</td>\n",
       "      <td>42</td>\n",
       "      <td>0.83</td>\n",
       "      <td>0.86</td>\n",
       "      <td>0.81</td>\n",
       "      <td>0.85</td>\n",
       "      <td>307</td>\n",
       "      <td>191</td>\n",
       "    </tr>\n",
       "    <tr>\n",
       "      <th>6</th>\n",
       "      <td>276</td>\n",
       "      <td>71</td>\n",
       "      <td>120</td>\n",
       "      <td>31</td>\n",
       "      <td>0.80</td>\n",
       "      <td>0.90</td>\n",
       "      <td>0.80</td>\n",
       "      <td>0.84</td>\n",
       "      <td>307</td>\n",
       "      <td>191</td>\n",
       "    </tr>\n",
       "    <tr>\n",
       "      <th>7</th>\n",
       "      <td>255</td>\n",
       "      <td>55</td>\n",
       "      <td>136</td>\n",
       "      <td>52</td>\n",
       "      <td>0.82</td>\n",
       "      <td>0.83</td>\n",
       "      <td>0.79</td>\n",
       "      <td>0.83</td>\n",
       "      <td>307</td>\n",
       "      <td>191</td>\n",
       "    </tr>\n",
       "    <tr>\n",
       "      <th>8</th>\n",
       "      <td>267</td>\n",
       "      <td>68</td>\n",
       "      <td>123</td>\n",
       "      <td>40</td>\n",
       "      <td>0.80</td>\n",
       "      <td>0.87</td>\n",
       "      <td>0.78</td>\n",
       "      <td>0.83</td>\n",
       "      <td>307</td>\n",
       "      <td>191</td>\n",
       "    </tr>\n",
       "    <tr>\n",
       "      <th>9</th>\n",
       "      <td>262</td>\n",
       "      <td>58</td>\n",
       "      <td>133</td>\n",
       "      <td>45</td>\n",
       "      <td>0.82</td>\n",
       "      <td>0.85</td>\n",
       "      <td>0.79</td>\n",
       "      <td>0.84</td>\n",
       "      <td>307</td>\n",
       "      <td>191</td>\n",
       "    </tr>\n",
       "    <tr>\n",
       "      <th>10</th>\n",
       "      <td>267</td>\n",
       "      <td>68</td>\n",
       "      <td>123</td>\n",
       "      <td>40</td>\n",
       "      <td>0.80</td>\n",
       "      <td>0.87</td>\n",
       "      <td>0.78</td>\n",
       "      <td>0.83</td>\n",
       "      <td>307</td>\n",
       "      <td>191</td>\n",
       "    </tr>\n",
       "    <tr>\n",
       "      <th>11</th>\n",
       "      <td>259</td>\n",
       "      <td>59</td>\n",
       "      <td>132</td>\n",
       "      <td>48</td>\n",
       "      <td>0.81</td>\n",
       "      <td>0.84</td>\n",
       "      <td>0.79</td>\n",
       "      <td>0.83</td>\n",
       "      <td>307</td>\n",
       "      <td>191</td>\n",
       "    </tr>\n",
       "    <tr>\n",
       "      <th>12</th>\n",
       "      <td>263</td>\n",
       "      <td>71</td>\n",
       "      <td>120</td>\n",
       "      <td>44</td>\n",
       "      <td>0.79</td>\n",
       "      <td>0.86</td>\n",
       "      <td>0.77</td>\n",
       "      <td>0.82</td>\n",
       "      <td>307</td>\n",
       "      <td>191</td>\n",
       "    </tr>\n",
       "    <tr>\n",
       "      <th>13</th>\n",
       "      <td>253</td>\n",
       "      <td>64</td>\n",
       "      <td>127</td>\n",
       "      <td>54</td>\n",
       "      <td>0.80</td>\n",
       "      <td>0.82</td>\n",
       "      <td>0.76</td>\n",
       "      <td>0.81</td>\n",
       "      <td>307</td>\n",
       "      <td>191</td>\n",
       "    </tr>\n",
       "    <tr>\n",
       "      <th>14</th>\n",
       "      <td>271</td>\n",
       "      <td>80</td>\n",
       "      <td>111</td>\n",
       "      <td>36</td>\n",
       "      <td>0.77</td>\n",
       "      <td>0.88</td>\n",
       "      <td>0.77</td>\n",
       "      <td>0.82</td>\n",
       "      <td>307</td>\n",
       "      <td>191</td>\n",
       "    </tr>\n",
       "    <tr>\n",
       "      <th>15</th>\n",
       "      <td>261</td>\n",
       "      <td>72</td>\n",
       "      <td>119</td>\n",
       "      <td>46</td>\n",
       "      <td>0.78</td>\n",
       "      <td>0.85</td>\n",
       "      <td>0.76</td>\n",
       "      <td>0.82</td>\n",
       "      <td>307</td>\n",
       "      <td>191</td>\n",
       "    </tr>\n",
       "    <tr>\n",
       "      <th>16</th>\n",
       "      <td>269</td>\n",
       "      <td>81</td>\n",
       "      <td>110</td>\n",
       "      <td>38</td>\n",
       "      <td>0.77</td>\n",
       "      <td>0.88</td>\n",
       "      <td>0.76</td>\n",
       "      <td>0.82</td>\n",
       "      <td>307</td>\n",
       "      <td>191</td>\n",
       "    </tr>\n",
       "    <tr>\n",
       "      <th>17</th>\n",
       "      <td>263</td>\n",
       "      <td>76</td>\n",
       "      <td>115</td>\n",
       "      <td>44</td>\n",
       "      <td>0.78</td>\n",
       "      <td>0.86</td>\n",
       "      <td>0.76</td>\n",
       "      <td>0.81</td>\n",
       "      <td>307</td>\n",
       "      <td>191</td>\n",
       "    </tr>\n",
       "    <tr>\n",
       "      <th>18</th>\n",
       "      <td>265</td>\n",
       "      <td>84</td>\n",
       "      <td>107</td>\n",
       "      <td>42</td>\n",
       "      <td>0.76</td>\n",
       "      <td>0.86</td>\n",
       "      <td>0.75</td>\n",
       "      <td>0.81</td>\n",
       "      <td>307</td>\n",
       "      <td>191</td>\n",
       "    </tr>\n",
       "    <tr>\n",
       "      <th>19</th>\n",
       "      <td>257</td>\n",
       "      <td>80</td>\n",
       "      <td>111</td>\n",
       "      <td>50</td>\n",
       "      <td>0.76</td>\n",
       "      <td>0.84</td>\n",
       "      <td>0.74</td>\n",
       "      <td>0.80</td>\n",
       "      <td>307</td>\n",
       "      <td>191</td>\n",
       "    </tr>\n",
       "    <tr>\n",
       "      <th>20</th>\n",
       "      <td>263</td>\n",
       "      <td>87</td>\n",
       "      <td>104</td>\n",
       "      <td>44</td>\n",
       "      <td>0.75</td>\n",
       "      <td>0.86</td>\n",
       "      <td>0.74</td>\n",
       "      <td>0.80</td>\n",
       "      <td>307</td>\n",
       "      <td>191</td>\n",
       "    </tr>\n",
       "    <tr>\n",
       "      <th>21</th>\n",
       "      <td>261</td>\n",
       "      <td>82</td>\n",
       "      <td>109</td>\n",
       "      <td>46</td>\n",
       "      <td>0.76</td>\n",
       "      <td>0.85</td>\n",
       "      <td>0.74</td>\n",
       "      <td>0.80</td>\n",
       "      <td>307</td>\n",
       "      <td>191</td>\n",
       "    </tr>\n",
       "    <tr>\n",
       "      <th>22</th>\n",
       "      <td>264</td>\n",
       "      <td>94</td>\n",
       "      <td>97</td>\n",
       "      <td>43</td>\n",
       "      <td>0.74</td>\n",
       "      <td>0.86</td>\n",
       "      <td>0.72</td>\n",
       "      <td>0.79</td>\n",
       "      <td>307</td>\n",
       "      <td>191</td>\n",
       "    </tr>\n",
       "    <tr>\n",
       "      <th>23</th>\n",
       "      <td>258</td>\n",
       "      <td>90</td>\n",
       "      <td>101</td>\n",
       "      <td>49</td>\n",
       "      <td>0.74</td>\n",
       "      <td>0.84</td>\n",
       "      <td>0.72</td>\n",
       "      <td>0.79</td>\n",
       "      <td>307</td>\n",
       "      <td>191</td>\n",
       "    </tr>\n",
       "    <tr>\n",
       "      <th>24</th>\n",
       "      <td>266</td>\n",
       "      <td>93</td>\n",
       "      <td>98</td>\n",
       "      <td>41</td>\n",
       "      <td>0.74</td>\n",
       "      <td>0.87</td>\n",
       "      <td>0.73</td>\n",
       "      <td>0.80</td>\n",
       "      <td>307</td>\n",
       "      <td>191</td>\n",
       "    </tr>\n",
       "  </tbody>\n",
       "</table>\n",
       "</div>"
      ],
      "text/plain": [
       "    true_positive  false_positive  true_negative  false_negative  precision  \\\n",
       "k                                                                             \n",
       "1             297              21            170              10       0.93   \n",
       "2             305              67            124               2       0.82   \n",
       "3             279              40            151              28       0.87   \n",
       "4             286              70            121              21       0.80   \n",
       "5             265              54            137              42       0.83   \n",
       "6             276              71            120              31       0.80   \n",
       "7             255              55            136              52       0.82   \n",
       "8             267              68            123              40       0.80   \n",
       "9             262              58            133              45       0.82   \n",
       "10            267              68            123              40       0.80   \n",
       "11            259              59            132              48       0.81   \n",
       "12            263              71            120              44       0.79   \n",
       "13            253              64            127              54       0.80   \n",
       "14            271              80            111              36       0.77   \n",
       "15            261              72            119              46       0.78   \n",
       "16            269              81            110              38       0.77   \n",
       "17            263              76            115              44       0.78   \n",
       "18            265              84            107              42       0.76   \n",
       "19            257              80            111              50       0.76   \n",
       "20            263              87            104              44       0.75   \n",
       "21            261              82            109              46       0.76   \n",
       "22            264              94             97              43       0.74   \n",
       "23            258              90            101              49       0.74   \n",
       "24            266              93             98              41       0.74   \n",
       "\n",
       "    recall  accuracy  f1_score  support_pos  support_neg  \n",
       "k                                                         \n",
       "1     0.97      0.94      0.95          307          191  \n",
       "2     0.99      0.86      0.90          307          191  \n",
       "3     0.91      0.86      0.89          307          191  \n",
       "4     0.93      0.82      0.86          307          191  \n",
       "5     0.86      0.81      0.85          307          191  \n",
       "6     0.90      0.80      0.84          307          191  \n",
       "7     0.83      0.79      0.83          307          191  \n",
       "8     0.87      0.78      0.83          307          191  \n",
       "9     0.85      0.79      0.84          307          191  \n",
       "10    0.87      0.78      0.83          307          191  \n",
       "11    0.84      0.79      0.83          307          191  \n",
       "12    0.86      0.77      0.82          307          191  \n",
       "13    0.82      0.76      0.81          307          191  \n",
       "14    0.88      0.77      0.82          307          191  \n",
       "15    0.85      0.76      0.82          307          191  \n",
       "16    0.88      0.76      0.82          307          191  \n",
       "17    0.86      0.76      0.81          307          191  \n",
       "18    0.86      0.75      0.81          307          191  \n",
       "19    0.84      0.74      0.80          307          191  \n",
       "20    0.86      0.74      0.80          307          191  \n",
       "21    0.85      0.74      0.80          307          191  \n",
       "22    0.86      0.72      0.79          307          191  \n",
       "23    0.84      0.72      0.79          307          191  \n",
       "24    0.87      0.73      0.80          307          191  "
      ]
     },
     "execution_count": 103,
     "metadata": {},
     "output_type": "execute_result"
    }
   ],
   "source": [
    "metrics = []\n",
    "labels = ['died','survived']\n",
    "\n",
    "for i in range(1,25):\n",
    "    knn = KNeighborsClassifier(n_neighbors=i)\n",
    "    knn = knn.fit(X_train, y_train)\n",
    "    y_pred = knn.predict(X_train)\n",
    "    \n",
    "    result = pd.DataFrame(confusion_matrix(y_train, y_pred), index=labels, columns=labels)\n",
    "    results = matrix_results(result)\n",
    "    k = {'k':i}\n",
    "    k.update(results)\n",
    "    metrics.append(k)\n",
    "\n",
    "df = pd.DataFrame(metrics).round(2).set_index('k')\n",
    "df"
   ]
  },
  {
   "cell_type": "markdown",
   "id": "0cd6237d",
   "metadata": {},
   "source": [
    "## 6. What are the differences in the evaluation metrics? Which performs better on your in-sample data? Why?"
   ]
  },
  {
   "cell_type": "markdown",
   "id": "3cfdb9e9",
   "metadata": {},
   "source": [
    "#### It seems the lower the k, the better the model performs for overall accuracy.  Interestingly, if we are optimizing for recall (minimizing false negatives) k=2 is far superior."
   ]
  },
  {
   "cell_type": "markdown",
   "id": "23501238",
   "metadata": {},
   "source": [
    "## 7. Which model performs best on our out-of-sample data from validate?"
   ]
  },
  {
   "cell_type": "markdown",
   "id": "dab67ba9",
   "metadata": {},
   "source": [
    "##### Focusing on accuracy:"
   ]
  },
  {
   "cell_type": "code",
   "execution_count": 107,
   "id": "f5315b93",
   "metadata": {},
   "outputs": [
    {
     "data": {
      "text/html": [
       "<div>\n",
       "<style scoped>\n",
       "    .dataframe tbody tr th:only-of-type {\n",
       "        vertical-align: middle;\n",
       "    }\n",
       "\n",
       "    .dataframe tbody tr th {\n",
       "        vertical-align: top;\n",
       "    }\n",
       "\n",
       "    .dataframe thead th {\n",
       "        text-align: right;\n",
       "    }\n",
       "</style>\n",
       "<table border=\"1\" class=\"dataframe\">\n",
       "  <thead>\n",
       "    <tr style=\"text-align: right;\">\n",
       "      <th></th>\n",
       "      <th>train_accuracy</th>\n",
       "      <th>validation_accuracy</th>\n",
       "      <th>difference</th>\n",
       "    </tr>\n",
       "    <tr>\n",
       "      <th>k</th>\n",
       "      <th></th>\n",
       "      <th></th>\n",
       "      <th></th>\n",
       "    </tr>\n",
       "  </thead>\n",
       "  <tbody>\n",
       "    <tr>\n",
       "      <th>11</th>\n",
       "      <td>0.785141</td>\n",
       "      <td>0.728972</td>\n",
       "      <td>0.056169</td>\n",
       "    </tr>\n",
       "    <tr>\n",
       "      <th>13</th>\n",
       "      <td>0.763052</td>\n",
       "      <td>0.705607</td>\n",
       "      <td>0.057445</td>\n",
       "    </tr>\n",
       "    <tr>\n",
       "      <th>12</th>\n",
       "      <td>0.769076</td>\n",
       "      <td>0.705607</td>\n",
       "      <td>0.063469</td>\n",
       "    </tr>\n",
       "    <tr>\n",
       "      <th>8</th>\n",
       "      <td>0.783133</td>\n",
       "      <td>0.719626</td>\n",
       "      <td>0.063506</td>\n",
       "    </tr>\n",
       "    <tr>\n",
       "      <th>20</th>\n",
       "      <td>0.736948</td>\n",
       "      <td>0.672897</td>\n",
       "      <td>0.064051</td>\n",
       "    </tr>\n",
       "    <tr>\n",
       "      <th>9</th>\n",
       "      <td>0.793173</td>\n",
       "      <td>0.728972</td>\n",
       "      <td>0.064201</td>\n",
       "    </tr>\n",
       "    <tr>\n",
       "      <th>5</th>\n",
       "      <td>0.807229</td>\n",
       "      <td>0.742991</td>\n",
       "      <td>0.064238</td>\n",
       "    </tr>\n",
       "    <tr>\n",
       "      <th>18</th>\n",
       "      <td>0.746988</td>\n",
       "      <td>0.682243</td>\n",
       "      <td>0.064745</td>\n",
       "    </tr>\n",
       "    <tr>\n",
       "      <th>7</th>\n",
       "      <td>0.785141</td>\n",
       "      <td>0.719626</td>\n",
       "      <td>0.065514</td>\n",
       "    </tr>\n",
       "    <tr>\n",
       "      <th>19</th>\n",
       "      <td>0.738956</td>\n",
       "      <td>0.672897</td>\n",
       "      <td>0.066059</td>\n",
       "    </tr>\n",
       "    <tr>\n",
       "      <th>6</th>\n",
       "      <td>0.795181</td>\n",
       "      <td>0.728972</td>\n",
       "      <td>0.066209</td>\n",
       "    </tr>\n",
       "    <tr>\n",
       "      <th>10</th>\n",
       "      <td>0.783133</td>\n",
       "      <td>0.714953</td>\n",
       "      <td>0.068179</td>\n",
       "    </tr>\n",
       "    <tr>\n",
       "      <th>22</th>\n",
       "      <td>0.724900</td>\n",
       "      <td>0.654206</td>\n",
       "      <td>0.070694</td>\n",
       "    </tr>\n",
       "    <tr>\n",
       "      <th>21</th>\n",
       "      <td>0.742972</td>\n",
       "      <td>0.668224</td>\n",
       "      <td>0.074748</td>\n",
       "    </tr>\n",
       "    <tr>\n",
       "      <th>23</th>\n",
       "      <td>0.720884</td>\n",
       "      <td>0.644860</td>\n",
       "      <td>0.076024</td>\n",
       "    </tr>\n",
       "    <tr>\n",
       "      <th>15</th>\n",
       "      <td>0.763052</td>\n",
       "      <td>0.686916</td>\n",
       "      <td>0.076136</td>\n",
       "    </tr>\n",
       "    <tr>\n",
       "      <th>24</th>\n",
       "      <td>0.730924</td>\n",
       "      <td>0.654206</td>\n",
       "      <td>0.076718</td>\n",
       "    </tr>\n",
       "    <tr>\n",
       "      <th>4</th>\n",
       "      <td>0.817269</td>\n",
       "      <td>0.733645</td>\n",
       "      <td>0.083624</td>\n",
       "    </tr>\n",
       "    <tr>\n",
       "      <th>17</th>\n",
       "      <td>0.759036</td>\n",
       "      <td>0.668224</td>\n",
       "      <td>0.090812</td>\n",
       "    </tr>\n",
       "    <tr>\n",
       "      <th>16</th>\n",
       "      <td>0.761044</td>\n",
       "      <td>0.668224</td>\n",
       "      <td>0.092820</td>\n",
       "    </tr>\n",
       "    <tr>\n",
       "      <th>14</th>\n",
       "      <td>0.767068</td>\n",
       "      <td>0.672897</td>\n",
       "      <td>0.094171</td>\n",
       "    </tr>\n",
       "    <tr>\n",
       "      <th>3</th>\n",
       "      <td>0.863454</td>\n",
       "      <td>0.752336</td>\n",
       "      <td>0.111117</td>\n",
       "    </tr>\n",
       "    <tr>\n",
       "      <th>2</th>\n",
       "      <td>0.861446</td>\n",
       "      <td>0.738318</td>\n",
       "      <td>0.123128</td>\n",
       "    </tr>\n",
       "    <tr>\n",
       "      <th>1</th>\n",
       "      <td>0.937751</td>\n",
       "      <td>0.728972</td>\n",
       "      <td>0.208779</td>\n",
       "    </tr>\n",
       "  </tbody>\n",
       "</table>\n",
       "</div>"
      ],
      "text/plain": [
       "    train_accuracy  validation_accuracy  difference\n",
       "k                                                  \n",
       "11        0.785141             0.728972    0.056169\n",
       "13        0.763052             0.705607    0.057445\n",
       "12        0.769076             0.705607    0.063469\n",
       "8         0.783133             0.719626    0.063506\n",
       "20        0.736948             0.672897    0.064051\n",
       "9         0.793173             0.728972    0.064201\n",
       "5         0.807229             0.742991    0.064238\n",
       "18        0.746988             0.682243    0.064745\n",
       "7         0.785141             0.719626    0.065514\n",
       "19        0.738956             0.672897    0.066059\n",
       "6         0.795181             0.728972    0.066209\n",
       "10        0.783133             0.714953    0.068179\n",
       "22        0.724900             0.654206    0.070694\n",
       "21        0.742972             0.668224    0.074748\n",
       "23        0.720884             0.644860    0.076024\n",
       "15        0.763052             0.686916    0.076136\n",
       "24        0.730924             0.654206    0.076718\n",
       "4         0.817269             0.733645    0.083624\n",
       "17        0.759036             0.668224    0.090812\n",
       "16        0.761044             0.668224    0.092820\n",
       "14        0.767068             0.672897    0.094171\n",
       "3         0.863454             0.752336    0.111117\n",
       "2         0.861446             0.738318    0.123128\n",
       "1         0.937751             0.728972    0.208779"
      ]
     },
     "execution_count": 107,
     "metadata": {},
     "output_type": "execute_result"
    }
   ],
   "source": [
    "differences=[]\n",
    "\n",
    "for i in range(1,25):\n",
    "    knn = KNeighborsClassifier(n_neighbors=i)\n",
    "    knn = knn.fit(X_train, y_train)\n",
    "    \n",
    "    in_sample_acc = knn.score(X_train, y_train)\n",
    "    out_sample_acc = knn.score(X_validate, y_validate)\n",
    "    \n",
    "    output = {\n",
    "        'k' : i,\n",
    "        'train_accuracy' : in_sample_acc,\n",
    "        'validation_accuracy' : out_sample_acc\n",
    "    }\n",
    "    \n",
    "    differences.append(output)\n",
    "\n",
    "ddf = pd.DataFrame(differences).set_index('k')\n",
    "ddf['difference'] = ddf['train_accuracy']-ddf['validation_accuracy']\n",
    "ddf.sort_values(by='difference')"
   ]
  },
  {
   "cell_type": "markdown",
   "id": "04ce27b0",
   "metadata": {},
   "source": [
    "#### While the best k for train was very low, when appying it to the validation data, we see a higher k is better.  In this case k=11."
   ]
  }
 ],
 "metadata": {
  "kernelspec": {
   "display_name": "Python 3 (ipykernel)",
   "language": "python",
   "name": "python3"
  },
  "language_info": {
   "codemirror_mode": {
    "name": "ipython",
    "version": 3
   },
   "file_extension": ".py",
   "mimetype": "text/x-python",
   "name": "python",
   "nbconvert_exporter": "python",
   "pygments_lexer": "ipython3",
   "version": "3.9.7"
  }
 },
 "nbformat": 4,
 "nbformat_minor": 5
}
