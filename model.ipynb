{
 "cells": [
  {
   "cell_type": "code",
   "execution_count": null,
   "id": "2dc816d1",
   "metadata": {},
   "outputs": [],
   "source": [
    "# Self Notes:\n",
    "# 1) Sec III - Answer number 5!\n",
    "# 2) Flattten matrix results function (and seperate it and generalize it in the future!)"
   ]
  },
  {
   "cell_type": "code",
   "execution_count": 1,
   "id": "eeb8a486",
   "metadata": {},
   "outputs": [],
   "source": [
    "import pandas as pd\n",
    "import numpy as np\n",
    "import seaborn as sns\n",
    "\n",
    "import warnings\n",
    "warnings.filterwarnings(\"ignore\")\n",
    "\n",
    "from sklearn.tree import DecisionTreeClassifier, plot_tree\n",
    "from sklearn.metrics import classification_report\n",
    "from sklearn.metrics import confusion_matrix\n",
    "\n",
    "import matplotlib.pyplot as plt\n",
    "import seaborn as sns\n",
    "\n",
    "from acquire import get_titanic_data\n",
    "from prepare import prep_titanic\n",
    "from splitter import splitter"
   ]
  },
  {
   "cell_type": "markdown",
   "id": "adcbfd29",
   "metadata": {},
   "source": [
    "# I. Decision Tree - Titanic Data"
   ]
  },
  {
   "cell_type": "code",
   "execution_count": 2,
   "id": "0aea3888",
   "metadata": {},
   "outputs": [
    {
     "data": {
      "text/html": [
       "<div>\n",
       "<style scoped>\n",
       "    .dataframe tbody tr th:only-of-type {\n",
       "        vertical-align: middle;\n",
       "    }\n",
       "\n",
       "    .dataframe tbody tr th {\n",
       "        vertical-align: top;\n",
       "    }\n",
       "\n",
       "    .dataframe thead th {\n",
       "        text-align: right;\n",
       "    }\n",
       "</style>\n",
       "<table border=\"1\" class=\"dataframe\">\n",
       "  <thead>\n",
       "    <tr style=\"text-align: right;\">\n",
       "      <th></th>\n",
       "      <th>passenger_id</th>\n",
       "      <th>survived</th>\n",
       "      <th>pclass</th>\n",
       "      <th>sex</th>\n",
       "      <th>age</th>\n",
       "      <th>sibsp</th>\n",
       "      <th>parch</th>\n",
       "      <th>fare</th>\n",
       "      <th>embarked</th>\n",
       "      <th>class</th>\n",
       "      <th>deck</th>\n",
       "      <th>embark_town</th>\n",
       "      <th>alone</th>\n",
       "    </tr>\n",
       "  </thead>\n",
       "  <tbody>\n",
       "    <tr>\n",
       "      <th>0</th>\n",
       "      <td>0</td>\n",
       "      <td>0</td>\n",
       "      <td>3</td>\n",
       "      <td>male</td>\n",
       "      <td>22.0</td>\n",
       "      <td>1</td>\n",
       "      <td>0</td>\n",
       "      <td>7.2500</td>\n",
       "      <td>S</td>\n",
       "      <td>Third</td>\n",
       "      <td>NaN</td>\n",
       "      <td>Southampton</td>\n",
       "      <td>0</td>\n",
       "    </tr>\n",
       "    <tr>\n",
       "      <th>1</th>\n",
       "      <td>1</td>\n",
       "      <td>1</td>\n",
       "      <td>1</td>\n",
       "      <td>female</td>\n",
       "      <td>38.0</td>\n",
       "      <td>1</td>\n",
       "      <td>0</td>\n",
       "      <td>71.2833</td>\n",
       "      <td>C</td>\n",
       "      <td>First</td>\n",
       "      <td>C</td>\n",
       "      <td>Cherbourg</td>\n",
       "      <td>0</td>\n",
       "    </tr>\n",
       "  </tbody>\n",
       "</table>\n",
       "</div>"
      ],
      "text/plain": [
       "   passenger_id  survived  pclass     sex   age  sibsp  parch     fare  \\\n",
       "0             0         0       3    male  22.0      1      0   7.2500   \n",
       "1             1         1       1  female  38.0      1      0  71.2833   \n",
       "\n",
       "  embarked  class deck  embark_town  alone  \n",
       "0        S  Third  NaN  Southampton      0  \n",
       "1        C  First    C    Cherbourg      0  "
      ]
     },
     "execution_count": 2,
     "metadata": {},
     "output_type": "execute_result"
    }
   ],
   "source": [
    "df = get_titanic_data()\n",
    "df.head(2)"
   ]
  },
  {
   "cell_type": "code",
   "execution_count": null,
   "id": "826cf314",
   "metadata": {},
   "outputs": [],
   "source": [
    "df = prep_titanic(df)\n",
    "df.drop(columns='age', inplace=True)\n",
    "df.head(2)"
   ]
  },
  {
   "cell_type": "markdown",
   "id": "45de14fb",
   "metadata": {},
   "source": [
    "## 1. What is your baseline prediction?  Baseline accuracy?"
   ]
  },
  {
   "cell_type": "code",
   "execution_count": null,
   "id": "2c5a5e53",
   "metadata": {},
   "outputs": [],
   "source": [
    "df_train, df_validate, df_test = splitter(df, 'survived')\n",
    "df_train.survived.value_counts()"
   ]
  },
  {
   "cell_type": "code",
   "execution_count": null,
   "id": "3286dfb1",
   "metadata": {},
   "outputs": [],
   "source": [
    "307/(307+191)"
   ]
  },
  {
   "cell_type": "markdown",
   "id": "938e4f3f",
   "metadata": {},
   "source": [
    "#### Baseline prediction is died, which is accurate 61.65% of the time."
   ]
  },
  {
   "cell_type": "markdown",
   "id": "696825e7",
   "metadata": {},
   "source": [
    "## 2. Fit the decision tree classifier to your training sample and transform (i.e. make predictions on the training sample)"
   ]
  },
  {
   "cell_type": "code",
   "execution_count": null,
   "id": "ee3e1817",
   "metadata": {},
   "outputs": [],
   "source": [
    "X_train = df_train.drop(columns=['survived'])\n",
    "y_train = df_train.survived\n",
    "\n",
    "X_validate = df_validate.drop(columns=['survived'])\n",
    "y_validate = df_validate.survived\n",
    "\n",
    "X_test = df_test.drop(columns=['survived'])\n",
    "y_test = df_test.survived"
   ]
  },
  {
   "cell_type": "code",
   "execution_count": null,
   "id": "509aa2f2",
   "metadata": {},
   "outputs": [],
   "source": [
    "clf = DecisionTreeClassifier(max_depth=3, random_state=123)\n",
    "clf = clf.fit(X_train, y_train)\n",
    "# this is tpyiall where y_pred = clf.predict(X_train) would live as part of the \"3 lines of code\""
   ]
  },
  {
   "cell_type": "code",
   "execution_count": null,
   "id": "f75bcef5",
   "metadata": {},
   "outputs": [],
   "source": [
    "# plotting figure unecessary but good for funsies or stakeholder visuals at times\n",
    "plt.figure(figsize=(16, 8))\n",
    "plot_tree(clf, feature_names=X_train.columns, class_names=clf.classes_.astype(str), rounded=True)"
   ]
  },
  {
   "cell_type": "markdown",
   "id": "762d5cf6",
   "metadata": {},
   "source": [
    "## 3. Evaluate your in-sample results using the model score, confusion matrix, and classification report."
   ]
  },
  {
   "cell_type": "code",
   "execution_count": null,
   "id": "fad04b1d",
   "metadata": {},
   "outputs": [],
   "source": [
    "y_pred = clf.predict(X_train)\n",
    "y_pred[10:15]"
   ]
  },
  {
   "cell_type": "code",
   "execution_count": null,
   "id": "cb803160",
   "metadata": {},
   "outputs": [],
   "source": [
    "y_pred_proba = clf.predict_proba(X_train)\n",
    "y_pred_proba[10:15]"
   ]
  },
  {
   "cell_type": "code",
   "execution_count": null,
   "id": "8f42d6b2",
   "metadata": {},
   "outputs": [],
   "source": [
    "# unecessary/redundant - found in dataframe you create below already\n",
    "confusion_matrix(y_train, y_pred)"
   ]
  },
  {
   "cell_type": "code",
   "execution_count": null,
   "id": "5f69f8b0",
   "metadata": {},
   "outputs": [],
   "source": [
    "pd.DataFrame(confusion_matrix(y_train, y_pred), index=['died','survived'], columns=['died','survived'])"
   ]
  },
  {
   "cell_type": "markdown",
   "id": "78bf6c31",
   "metadata": {},
   "source": [
    "## 4. Compute: Accuracy, true positive rate, false positive rate, true negative rate, false negative rate, precision, recall, f1-score, and support."
   ]
  },
  {
   "cell_type": "markdown",
   "id": "6cda8ecd",
   "metadata": {},
   "source": [
    "##### In sample:"
   ]
  },
  {
   "cell_type": "code",
   "execution_count": null,
   "id": "842523a7",
   "metadata": {},
   "outputs": [],
   "source": [
    "print('Accuracy of Decision Tree classifier on training set: {:.2f}'\n",
    "      .format(clf.score(X_train, y_train)))"
   ]
  },
  {
   "cell_type": "code",
   "execution_count": null,
   "id": "df9e9f78",
   "metadata": {},
   "outputs": [],
   "source": [
    "report = classification_report(y_train, y_pred)\n",
    "print(report)"
   ]
  },
  {
   "cell_type": "markdown",
   "id": "c9771e8a",
   "metadata": {},
   "source": [
    "##### Validate:"
   ]
  },
  {
   "cell_type": "code",
   "execution_count": null,
   "id": "8c90ecb2",
   "metadata": {},
   "outputs": [],
   "source": [
    "print('Accuracy of Decision Tree classifier on validate set: {:.2f}'\n",
    "     .format(clf.score(X_validate, y_validate)))"
   ]
  },
  {
   "cell_type": "code",
   "execution_count": null,
   "id": "c45c08eb",
   "metadata": {},
   "outputs": [],
   "source": [
    "y_pred = clf.predict(X_validate)\n",
    "\n",
    "print(classification_report(y_validate, y_pred))"
   ]
  },
  {
   "cell_type": "code",
   "execution_count": null,
   "id": "6f468201",
   "metadata": {},
   "outputs": [],
   "source": [
    "# Make function that creates a fun and pretty table when you have time."
   ]
  },
  {
   "cell_type": "markdown",
   "id": "05a4e274",
   "metadata": {},
   "source": [
    "## 5. Run through steps 2-4 using a different max_depth value."
   ]
  },
  {
   "cell_type": "markdown",
   "id": "4ef821ef",
   "metadata": {},
   "source": [
    "### Using max_depth = 7:"
   ]
  },
  {
   "cell_type": "markdown",
   "id": "9aec2046",
   "metadata": {},
   "source": [
    "##### Train:"
   ]
  },
  {
   "cell_type": "code",
   "execution_count": null,
   "id": "9c6fc7f5",
   "metadata": {},
   "outputs": [],
   "source": [
    "clf = DecisionTreeClassifier(max_depth=7, random_state=123)\n",
    "clf = clf.fit(X_train, y_train)"
   ]
  },
  {
   "cell_type": "code",
   "execution_count": null,
   "id": "4e991641",
   "metadata": {},
   "outputs": [],
   "source": [
    "plt.figure(figsize=(16, 8))\n",
    "plot_tree(clf, feature_names=X_train.columns, class_names=clf.classes_.astype(str), rounded=True)"
   ]
  },
  {
   "cell_type": "code",
   "execution_count": null,
   "id": "c86a3c46",
   "metadata": {},
   "outputs": [],
   "source": [
    "print('Accuracy of Decision Tree classifier on training set: {:.2f}'\n",
    "      .format(clf.score(X_train, y_train)))"
   ]
  },
  {
   "cell_type": "code",
   "execution_count": null,
   "id": "b92a1dd3",
   "metadata": {},
   "outputs": [],
   "source": [
    "y_pred = clf.predict(X_train)\n",
    "print(classification_report(y_train, y_pred))"
   ]
  },
  {
   "cell_type": "markdown",
   "id": "69d11719",
   "metadata": {},
   "source": [
    "##### Validate:"
   ]
  },
  {
   "cell_type": "code",
   "execution_count": null,
   "id": "a83d00b6",
   "metadata": {},
   "outputs": [],
   "source": [
    "print('Accuracy of Decision Tree classifier on validation set: {:.2f}'\n",
    "      .format(clf.score(X_validate, y_validate)))"
   ]
  },
  {
   "cell_type": "code",
   "execution_count": null,
   "id": "5d5818f4",
   "metadata": {},
   "outputs": [],
   "source": [
    "y_pred = clf.predict(X_validate)\n",
    "\n",
    "print(classification_report(y_validate, y_pred))"
   ]
  },
  {
   "cell_type": "markdown",
   "id": "1cad4f70",
   "metadata": {},
   "source": [
    "## 6. Which model performs better on your in-sample data?"
   ]
  },
  {
   "cell_type": "markdown",
   "id": "4c70e5fa",
   "metadata": {},
   "source": [
    "The max_steps = 7 is better on in-sample data (as expected, more granular)."
   ]
  },
  {
   "cell_type": "markdown",
   "id": "309a227d",
   "metadata": {},
   "source": [
    "## 7. Which model performs best on your out-of-sample data, the validate set?"
   ]
  },
  {
   "cell_type": "markdown",
   "id": "696eabf3",
   "metadata": {},
   "source": [
    "The max_steps = 3 is better on the validate data."
   ]
  },
  {
   "cell_type": "markdown",
   "id": "ed7a71d1",
   "metadata": {},
   "source": [
    "# II. Decision Tree - Telco Data"
   ]
  },
  {
   "cell_type": "code",
   "execution_count": null,
   "id": "1c603c6b",
   "metadata": {},
   "outputs": [],
   "source": [
    "from acquire import get_telco_data\n",
    "from prepare import prep_telco"
   ]
  },
  {
   "cell_type": "code",
   "execution_count": null,
   "id": "2059240c",
   "metadata": {},
   "outputs": [],
   "source": [
    "df = get_telco_data()\n",
    "df.head(2)"
   ]
  },
  {
   "cell_type": "code",
   "execution_count": null,
   "id": "b4bef848",
   "metadata": {},
   "outputs": [],
   "source": [
    "df = prep_telco(df)\n",
    "df.info()"
   ]
  },
  {
   "cell_type": "code",
   "execution_count": null,
   "id": "66c8bf63",
   "metadata": {},
   "outputs": [],
   "source": [
    "dropcols = [col for col in df.columns if df[col].dtype == 'object']\n",
    "dropcols.remove('churn')\n",
    "dropcols.append('churn_encoded')\n",
    "dropcols"
   ]
  },
  {
   "cell_type": "code",
   "execution_count": null,
   "id": "766182ac",
   "metadata": {},
   "outputs": [],
   "source": [
    "df = df.drop(columns=dropcols)\n",
    "df.head(2)"
   ]
  },
  {
   "cell_type": "code",
   "execution_count": null,
   "id": "71976302",
   "metadata": {},
   "outputs": [],
   "source": [
    "df_train, df_validate, df_test = splitter(df, 'churn')\n",
    "df_train.churn.value_counts()"
   ]
  },
  {
   "cell_type": "code",
   "execution_count": null,
   "id": "1245ff59",
   "metadata": {},
   "outputs": [],
   "source": [
    "#Note: Work more on establishing the baseline with code.  Esp since often a categorical!\n",
    "2891/(2891+1046)"
   ]
  },
  {
   "cell_type": "markdown",
   "id": "474d5515",
   "metadata": {},
   "source": [
    "#### Baseline case is 'not churned' and the baseline accuracy is 73.43%."
   ]
  },
  {
   "cell_type": "code",
   "execution_count": null,
   "id": "03c78ea7",
   "metadata": {},
   "outputs": [],
   "source": [
    "#Note - you can also drop all the columns in X-data, including churn, in the drop(columns)\n",
    "# The way you did it here was redundant!\n",
    "X_train = df_train.drop(columns=['churn'])\n",
    "y_train = df_train.churn\n",
    "\n",
    "X_validate = df_validate.drop(columns=['churn'])\n",
    "y_validate = df_validate.churn\n",
    "\n",
    "X_test = df_test.drop(columns=['churn'])\n",
    "y_test = df_test.churn"
   ]
  },
  {
   "cell_type": "code",
   "execution_count": null,
   "id": "a4a931a7",
   "metadata": {},
   "outputs": [],
   "source": [
    "clf = DecisionTreeClassifier(max_depth = 3, random_state=123)\n",
    "clf = clf.fit(X_train, y_train)"
   ]
  },
  {
   "cell_type": "code",
   "execution_count": null,
   "id": "e9506807",
   "metadata": {},
   "outputs": [],
   "source": [
    "plt.figure(figsize=(16, 8))\n",
    "plot_tree(clf, feature_names=X_train.columns, class_names=clf.classes_.astype(str), rounded=True)"
   ]
  },
  {
   "cell_type": "code",
   "execution_count": null,
   "id": "51197bb5",
   "metadata": {},
   "outputs": [],
   "source": [
    "y_pred = clf.predict(X_train)\n",
    "y_pred[0:5]"
   ]
  },
  {
   "cell_type": "code",
   "execution_count": null,
   "id": "7bc33496",
   "metadata": {},
   "outputs": [],
   "source": [
    "y_pred_proba = clf.predict_proba(X_train)\n",
    "y_pred_proba[0:5]"
   ]
  },
  {
   "cell_type": "code",
   "execution_count": null,
   "id": "75b432e6",
   "metadata": {},
   "outputs": [],
   "source": [
    "labels = sorted(y_train.unique())\n",
    "pd.DataFrame(confusion_matrix(y_train, y_pred), index=labels, columns=labels)"
   ]
  },
  {
   "cell_type": "markdown",
   "id": "952c2fb5",
   "metadata": {},
   "source": [
    "##### In training sample:"
   ]
  },
  {
   "cell_type": "code",
   "execution_count": null,
   "id": "f7a9336c",
   "metadata": {},
   "outputs": [],
   "source": [
    "print('Accuracy of Decision Tree classifier on training set: {:.2f}'\n",
    "      .format(clf.score(X_train, y_train)))"
   ]
  },
  {
   "cell_type": "code",
   "execution_count": null,
   "id": "48d91955",
   "metadata": {},
   "outputs": [],
   "source": [
    "y_pred = clf.predict(X_train)\n",
    "print(classification_report(y_train, y_pred))"
   ]
  },
  {
   "cell_type": "markdown",
   "id": "79592f54",
   "metadata": {},
   "source": [
    "##### In validation sample:"
   ]
  },
  {
   "cell_type": "code",
   "execution_count": null,
   "id": "21976a61",
   "metadata": {},
   "outputs": [],
   "source": [
    "print('Accuracy of Decision Tree classifier on validation set: {:.2f}'\n",
    "      .format(clf.score(X_validate, y_validate)))"
   ]
  },
  {
   "cell_type": "code",
   "execution_count": null,
   "id": "282fb81d",
   "metadata": {},
   "outputs": [],
   "source": [
    "y_pred = clf.predict(X_validate)\n",
    "print(classification_report(y_validate, y_pred))"
   ]
  },
  {
   "cell_type": "markdown",
   "id": "f9043988",
   "metadata": {},
   "source": [
    "### Using max_depth = 7"
   ]
  },
  {
   "cell_type": "code",
   "execution_count": null,
   "id": "6ab37036",
   "metadata": {},
   "outputs": [],
   "source": [
    "clf = DecisionTreeClassifier(max_depth = 7, random_state=123)\n",
    "clf = clf.fit(X_train, y_train)"
   ]
  },
  {
   "cell_type": "code",
   "execution_count": null,
   "id": "237fb74b",
   "metadata": {},
   "outputs": [],
   "source": [
    "plt.figure(figsize=(16, 8))\n",
    "plot_tree(clf, feature_names=X_train.columns, class_names=clf.classes_.astype(str), rounded=True)"
   ]
  },
  {
   "cell_type": "code",
   "execution_count": null,
   "id": "0250c3b0",
   "metadata": {},
   "outputs": [],
   "source": [
    "y_pred = clf.predict(X_train)\n",
    "y_pred[0:5]"
   ]
  },
  {
   "cell_type": "code",
   "execution_count": null,
   "id": "0e297394",
   "metadata": {},
   "outputs": [],
   "source": [
    "y_pred_proba = clf.predict_proba(X_train)\n",
    "y_pred_proba[0:5]"
   ]
  },
  {
   "cell_type": "code",
   "execution_count": null,
   "id": "fb0db960",
   "metadata": {},
   "outputs": [],
   "source": [
    "labels = sorted(y_train.unique())\n",
    "pd.DataFrame(confusion_matrix(y_train, y_pred), index=labels, columns=labels)"
   ]
  },
  {
   "cell_type": "markdown",
   "id": "8c7ed473",
   "metadata": {},
   "source": [
    "##### In training sample:"
   ]
  },
  {
   "cell_type": "code",
   "execution_count": null,
   "id": "2f368c39",
   "metadata": {},
   "outputs": [],
   "source": [
    "print('Accuracy of Decision Tree classifier on training set: {:.2f}'\n",
    "      .format(clf.score(X_train, y_train)))"
   ]
  },
  {
   "cell_type": "code",
   "execution_count": null,
   "id": "4e82019b",
   "metadata": {},
   "outputs": [],
   "source": [
    "y_pred = clf.predict(X_train)\n",
    "print(classification_report(y_train, y_pred))"
   ]
  },
  {
   "cell_type": "markdown",
   "id": "0ae89583",
   "metadata": {},
   "source": [
    "##### In validation sample:"
   ]
  },
  {
   "cell_type": "code",
   "execution_count": null,
   "id": "3899e721",
   "metadata": {},
   "outputs": [],
   "source": [
    "print('Accuracy of Decision Tree classifier on validation set: {:.2f}'\n",
    "      .format(clf.score(X_validate, y_validate)))"
   ]
  },
  {
   "cell_type": "code",
   "execution_count": null,
   "id": "fd657dda",
   "metadata": {},
   "outputs": [],
   "source": [
    "y_pred = clf.predict(X_validate)\n",
    "print(classification_report(y_validate, y_pred))"
   ]
  },
  {
   "cell_type": "markdown",
   "id": "b83f5e0e",
   "metadata": {},
   "source": [
    "### Comparison at different max levels:"
   ]
  },
  {
   "cell_type": "code",
   "execution_count": null,
   "id": "e46fda8b",
   "metadata": {},
   "outputs": [],
   "source": [
    "for i in range(1,9):\n",
    "    clf = DecisionTreeClassifier(max_depth = i, random_state=123)\n",
    "    clf = clf.fit(X_train, y_train)\n",
    "    print(f'Depth = {i}')\n",
    "    print('Accuracy of Decision Tree classifier on training set: {:.2f}'\n",
    "      .format(clf.score(X_train, y_train)))\n",
    "    print('Accuracy of Decision Tree classifier on validation set: {:.2f}'\n",
    "      .format(clf.score(X_validate, y_validate)))"
   ]
  },
  {
   "cell_type": "markdown",
   "id": "640ac8da",
   "metadata": {},
   "source": [
    "#### Model performs best on validation set at a Depth of 3."
   ]
  },
  {
   "cell_type": "code",
   "execution_count": null,
   "id": "75e5d69e",
   "metadata": {},
   "outputs": [],
   "source": [
    "# Note: Remember you are not necessarily optimizing for accuracy, could be looking at recall or precision (or even F1)\n",
    "# A good way to assess train v. validation is by minimizing the distance between the outcome of interest"
   ]
  },
  {
   "cell_type": "markdown",
   "id": "8ef4913c",
   "metadata": {},
   "source": [
    "# III. Random Forest - Titanic Data"
   ]
  },
  {
   "cell_type": "markdown",
   "id": "8af5d5b4",
   "metadata": {},
   "source": [
    "##### Note: Used acquire, prep and splitting functions found in first exercise above."
   ]
  },
  {
   "cell_type": "markdown",
   "id": "1435acd1",
   "metadata": {},
   "source": [
    "## 1. Fit the Random Forest classifier to your training sample and transform (i.e. make predictions on the training sample) setting the random_state accordingly and setting min_samples_leaf = 1 and max_depth = 10."
   ]
  },
  {
   "cell_type": "code",
   "execution_count": null,
   "id": "3addd237",
   "metadata": {},
   "outputs": [],
   "source": [
    "from sklearn.ensemble import RandomForestClassifier\n",
    "rf = RandomForestClassifier(max_depth=10, \n",
    "                            min_samples_leaf = 1,\n",
    "                            random_state=123)"
   ]
  },
  {
   "cell_type": "code",
   "execution_count": null,
   "id": "1728c28e",
   "metadata": {},
   "outputs": [],
   "source": [
    "rf = rf.fit(X_train, y_train)"
   ]
  },
  {
   "cell_type": "code",
   "execution_count": null,
   "id": "4cf04266",
   "metadata": {},
   "outputs": [],
   "source": [
    "print(X_train.columns)\n",
    "print(rf.feature_importances_)"
   ]
  },
  {
   "cell_type": "markdown",
   "id": "4d3b7a1c",
   "metadata": {},
   "source": [
    "## 2. Evaluate your results using the model score, confusion matrix, and classification report."
   ]
  },
  {
   "cell_type": "markdown",
   "id": "bfc3b322",
   "metadata": {},
   "source": [
    "### Training data:"
   ]
  },
  {
   "cell_type": "code",
   "execution_count": null,
   "id": "cc18e081",
   "metadata": {},
   "outputs": [],
   "source": [
    "print('Accuracy of random forest classifier on training set: {:.2f}'\n",
    "     .format(rf.score(X_train, y_train)))"
   ]
  },
  {
   "cell_type": "code",
   "execution_count": null,
   "id": "7f051d5d",
   "metadata": {},
   "outputs": [],
   "source": [
    "labels = ['died','survived']\n",
    "y_pred_train = rf.predict(X_train)\n",
    "dfrftr = pd.DataFrame(confusion_matrix(y_train, y_pred), index=labels, columns=labels)\n",
    "dfrftr"
   ]
  },
  {
   "cell_type": "code",
   "execution_count": null,
   "id": "484574cf",
   "metadata": {},
   "outputs": [],
   "source": [
    "print(classification_report(y_train, y_pred))"
   ]
  },
  {
   "cell_type": "code",
   "execution_count": null,
   "id": "cdb98230",
   "metadata": {},
   "outputs": [],
   "source": [
    "pd.DataFrame(classification_report(y_train, y_pred, output_dict=True))"
   ]
  },
  {
   "cell_type": "markdown",
   "id": "b5692803",
   "metadata": {},
   "source": [
    "### Validation Data:"
   ]
  },
  {
   "cell_type": "code",
   "execution_count": null,
   "id": "295ea0e5",
   "metadata": {},
   "outputs": [],
   "source": [
    "print('Accuracy of random forest classifier on training set: {:.2f}'\n",
    "     .format(rf.score(X_validate, y_validate)))"
   ]
  },
  {
   "cell_type": "code",
   "execution_count": null,
   "id": "d5ac2a3c",
   "metadata": {},
   "outputs": [],
   "source": [
    "y_pred_validate = rf.predict(X_validate)\n",
    "dfrfv = pd.DataFrame(confusion_matrix(y_validate, y_pred_validate), index=labels, columns=labels)\n",
    "dfrfv"
   ]
  },
  {
   "cell_type": "code",
   "execution_count": null,
   "id": "5aecd2d5",
   "metadata": {},
   "outputs": [],
   "source": [
    "print(classification_report(y_validate, y_pred_validate))"
   ]
  },
  {
   "cell_type": "markdown",
   "id": "2a1f594a",
   "metadata": {},
   "source": [
    "## 3. Print and clearly label the following: Accuracy, true positive rate, false positive rate, true negative rate, false negative rate, precision, recall, f1-score, and support."
   ]
  },
  {
   "cell_type": "code",
   "execution_count": 22,
   "id": "c43f3b04",
   "metadata": {},
   "outputs": [],
   "source": [
    "def matrix_results(df, TP='NW', actual='rows'):\n",
    "    if TP=='NW':\n",
    "        if actual=='rows':\n",
    "            true_positive = df.iloc[0,0]\n",
    "            false_positive = df.iloc[1,0]\n",
    "            true_negative = df.iloc[1,1]\n",
    "            false_negative = df.iloc[0,1]\n",
    "        elif actual=='columns':\n",
    "            true_positive = df.iloc[0,0]\n",
    "            false_positive = df.iloc[0,1]\n",
    "            true_negative = df.iloc[1,1]\n",
    "            false_negative = df.iloc[1,0]\n",
    "        else:\n",
    "            print('''If actual results (from training data) is in columns, please include \"actual = 'columns'\" in the function parameters''')\n",
    "            return\n",
    "    elif TP=='SE':\n",
    "        if actual=='rows':\n",
    "            true_positive = df.iloc[1,1]\n",
    "            false_positive = df.iloc[0,1]\n",
    "            true_negative = df.iloc[0,0]\n",
    "            false_negative = df.iloc[1,0]\n",
    "        elif actual=='columns':\n",
    "            true_positive = df.iloc[1,1]\n",
    "            false_positive = df.iloc[1,0]\n",
    "            true_negative = df.iloc[0,0]\n",
    "            false_negative = df.iloc[0,1]\n",
    "        else:\n",
    "            print('''If actual results (from training data) is in columns, please include \" actual = 'columns' \" in the function parameters''')\n",
    "            return\n",
    "    else:\n",
    "        print('''If True Positive is in the bottom right quadrant, please include \" TP = 'SE' \" in the function parameters''')\n",
    "        return\n",
    "    precision = true_positive / (true_positive + false_positive)\n",
    "    recall = true_positive / (true_positive + false_negative)\n",
    "    accuracy = (true_positive + true_negative) / (true_positive + true_negative + false_positive + false_negative)\n",
    "    f1_score = (2*precision*recall)/(precision + recall)\n",
    "    support_pos = true_positive + false_negative\n",
    "    support_neg = true_negative + false_positive\n",
    "#     print(f'True Positive = {true_positive}')\n",
    "#     print(f'False Positive = {false_positive}')\n",
    "#     print(f'True Negative = {true_negative}')\n",
    "#     print(f'False Negative = {false_negative}')\n",
    "#     print(f'Precision = {precision:.2f}')\n",
    "#     print(f'Recall = {recall:.2f}')\n",
    "#     print(f'Accuracy = {accuracy:.2f}')\n",
    "#     print(f'F1 Score = {f1_score:.2f}')\n",
    "#     print(f'Support, Positive = {support_pos}')\n",
    "#     print(f'Support, Negative = {support_neg}')\n",
    "    return {'true_positive':true_positive, 'false_positive':false_positive, 'true_negative':true_negative, 'false_negative':false_negative, 'precision':precision, 'recall':recall, 'accuracy':accuracy, 'f1_score':f1_score, 'support_pos':support_pos, 'support_neg':support_neg}"
   ]
  },
  {
   "cell_type": "code",
   "execution_count": null,
   "id": "049bc9d5",
   "metadata": {},
   "outputs": [],
   "source": [
    "print('Training Data Results:')\n",
    "matrix_results(dfrftr)\n",
    "print('\\n----------\\n')\n",
    "print('Validation Data Results:')\n",
    "matrix_results(dfrfv)"
   ]
  },
  {
   "cell_type": "code",
   "execution_count": null,
   "id": "d8ca353d",
   "metadata": {},
   "outputs": [],
   "source": [
    "pd.DataFrame(matrix_results(dfrftr))"
   ]
  },
  {
   "cell_type": "markdown",
   "id": "4696b8d4",
   "metadata": {},
   "source": [
    "## 4. Run through steps increasing your min_samples_leaf and decreasing your max_depth."
   ]
  },
  {
   "cell_type": "code",
   "execution_count": null,
   "id": "617b6c20",
   "metadata": {},
   "outputs": [],
   "source": [
    "for i in range(10,0,-1):\n",
    "    for j in range(1,10):\n",
    "        rf = RandomForestClassifier(max_depth=i, min_samples_leaf = j,random_state=123)\n",
    "        rf = rf.fit(X_train, y_train)\n",
    "        y_pred_train = rf.predict(X_train)\n",
    "        y_pred_validate = rf.predict(X_validate)\n",
    "        print(f'Depth = {i}, Leaves = {j}')\n",
    "        print('Accuracy of random forest classifier on training set: {:.2f}'.format(rf.score(X_train, y_train)))\n",
    "        print('Accuracy of random forest classifier on validation set: {:.2f}'.format(rf.score(X_validate, y_validate)))\n",
    "#         print('Training Report:')\n",
    "#         print(classification_report(y_train, y_pred_train))\n",
    "#         print('Validation Report:')\n",
    "#         print(classification_report(y_validate, y_pred_validate))\n",
    "#         print('\\n----------\\n')"
   ]
  },
  {
   "cell_type": "markdown",
   "id": "644ee9be",
   "metadata": {},
   "source": [
    "## 5. What are the differences in the evaluation metrics? Which performs better on your in-sample data? Why?"
   ]
  },
  {
   "cell_type": "code",
   "execution_count": null,
   "id": "d2ddc07b",
   "metadata": {},
   "outputs": [],
   "source": [
    "# ANSWER"
   ]
  },
  {
   "cell_type": "markdown",
   "id": "d5fa994a",
   "metadata": {},
   "source": [
    "# IV. KNN - Titanic Data"
   ]
  },
  {
   "cell_type": "markdown",
   "id": "d48c6c18",
   "metadata": {},
   "source": [
    "#### Acquired, prepped and split above in section I.\n",
    "-Baseline is 'died' with an accuracy of 61.65%"
   ]
  },
  {
   "cell_type": "markdown",
   "id": "f613c3d7",
   "metadata": {},
   "source": [
    "## 1. Fit a K-Nearest Neighbors classifier to your training sample and transform (i.e. make predictions on the training sample)"
   ]
  },
  {
   "cell_type": "code",
   "execution_count": null,
   "id": "3a786fbd",
   "metadata": {},
   "outputs": [],
   "source": [
    "from sklearn.neighbors import KNeighborsClassifier\n",
    "knn = KNeighborsClassifier()"
   ]
  },
  {
   "cell_type": "code",
   "execution_count": null,
   "id": "c83c0cc5",
   "metadata": {},
   "outputs": [],
   "source": [
    "knn = knn.fit(X_train, y_train)"
   ]
  },
  {
   "cell_type": "code",
   "execution_count": null,
   "id": "8f14d0c4",
   "metadata": {},
   "outputs": [],
   "source": [
    "y_pred = knn.predict(X_train)\n",
    "y_pred_proba = knn.predict_proba(X_train)"
   ]
  },
  {
   "cell_type": "markdown",
   "id": "b2e668ef",
   "metadata": {},
   "source": [
    "## 2. Evaluate your results using the model score, confusion matrix, and classification report."
   ]
  },
  {
   "cell_type": "markdown",
   "id": "ff3ab9a9",
   "metadata": {},
   "source": [
    "Model Score:"
   ]
  },
  {
   "cell_type": "code",
   "execution_count": null,
   "id": "e2589b9c",
   "metadata": {},
   "outputs": [],
   "source": [
    "knn.score(X_train, y_train)"
   ]
  },
  {
   "cell_type": "markdown",
   "id": "aecbc0be",
   "metadata": {},
   "source": [
    "Confusion Matrix:"
   ]
  },
  {
   "cell_type": "code",
   "execution_count": null,
   "id": "259b047b",
   "metadata": {},
   "outputs": [],
   "source": [
    "labels = ['died','survived']\n",
    "results = pd.DataFrame(confusion_matrix(y_train, y_pred), index=labels, columns=labels)\n",
    "results"
   ]
  },
  {
   "cell_type": "code",
   "execution_count": null,
   "id": "6b609ddd",
   "metadata": {},
   "outputs": [],
   "source": [
    "print(classification_report(y_train, y_pred))\n",
    "pd.DataFrame(classification_report(y_train, y_pred, output_dict=True))"
   ]
  },
  {
   "cell_type": "markdown",
   "id": "4ec98107",
   "metadata": {},
   "source": [
    "## 3. Print and clearly label the following: Accuracy, true positive rate, false positive rate, true negative rate, false negative rate, precision, recall, f1-score, and support."
   ]
  },
  {
   "cell_type": "code",
   "execution_count": null,
   "id": "a01f3233",
   "metadata": {},
   "outputs": [],
   "source": [
    "#pd.DataFrame(matrix_results(results).values(), columns=matrix_results(results).keys())\n",
    "matrix_results(results)"
   ]
  },
  {
   "cell_type": "markdown",
   "id": "1d8353f8",
   "metadata": {},
   "source": [
    "## 4. Run through steps 2-3 setting k to 10"
   ]
  },
  {
   "cell_type": "code",
   "execution_count": null,
   "id": "e5219c12",
   "metadata": {},
   "outputs": [],
   "source": [
    "knn = KNeighborsClassifier(n_neighbors=10)\n",
    "knn = knn.fit(X_train, y_train)\n",
    "y_pred = knn.predict(X_train)\n",
    "knn.score(X_train, y_train)"
   ]
  },
  {
   "cell_type": "code",
   "execution_count": null,
   "id": "72012514",
   "metadata": {},
   "outputs": [],
   "source": [
    "labels = ['died','survived']\n",
    "results = pd.DataFrame(confusion_matrix(y_train, y_pred), index=labels, columns=labels)\n",
    "results"
   ]
  },
  {
   "cell_type": "code",
   "execution_count": null,
   "id": "efb7859b",
   "metadata": {},
   "outputs": [],
   "source": [
    "print(classification_report(y_train, y_pred))\n",
    "pd.DataFrame(classification_report(y_train, y_pred, output_dict=True))"
   ]
  },
  {
   "cell_type": "code",
   "execution_count": null,
   "id": "236c8046",
   "metadata": {},
   "outputs": [],
   "source": [
    "matrix_results(results)"
   ]
  },
  {
   "cell_type": "markdown",
   "id": "f1e4a0d5",
   "metadata": {},
   "source": [
    "## 5. Run through steps 2-3 setting k to 20"
   ]
  },
  {
   "cell_type": "code",
   "execution_count": null,
   "id": "211a0cdc",
   "metadata": {},
   "outputs": [],
   "source": [
    "knn = KNeighborsClassifier(n_neighbors=20)\n",
    "knn = knn.fit(X_train, y_train)\n",
    "y_pred = knn.predict(X_train)\n",
    "knn.score(X_train, y_train)"
   ]
  },
  {
   "cell_type": "code",
   "execution_count": null,
   "id": "8fbfddd8",
   "metadata": {},
   "outputs": [],
   "source": [
    "labels = ['died','survived']\n",
    "results = pd.DataFrame(confusion_matrix(y_train, y_pred), index=labels, columns=labels)\n",
    "results"
   ]
  },
  {
   "cell_type": "code",
   "execution_count": null,
   "id": "00fafaa9",
   "metadata": {},
   "outputs": [],
   "source": [
    "print(classification_report(y_train, y_pred))\n",
    "pd.DataFrame(classification_report(y_train, y_pred, output_dict=True)).round(2)"
   ]
  },
  {
   "cell_type": "code",
   "execution_count": null,
   "id": "179fdf49",
   "metadata": {},
   "outputs": [],
   "source": [
    "matrix_results(results)"
   ]
  },
  {
   "cell_type": "markdown",
   "id": "4f53e92f",
   "metadata": {},
   "source": [
    "##### Trying to loop through all k for train data:"
   ]
  },
  {
   "cell_type": "code",
   "execution_count": null,
   "id": "f18d98ce",
   "metadata": {},
   "outputs": [],
   "source": [
    "metrics = []\n",
    "labels = ['died','survived']\n",
    "\n",
    "for i in range(1,25):\n",
    "    knn = KNeighborsClassifier(n_neighbors=i, weights='uniform')\n",
    "    knn = knn.fit(X_train, y_train)\n",
    "    y_pred = knn.predict(X_train)\n",
    "    \n",
    "    result = pd.DataFrame(confusion_matrix(y_train, y_pred), index=labels, columns=labels)\n",
    "    results = matrix_results(result)\n",
    "    results['k'] = i\n",
    "    \n",
    "#     k = {'k':i}\n",
    "#     k.update(results)\n",
    "#     metrics.append(k)\n",
    "    metrics.append(results)\n",
    "df = pd.DataFrame(metrics).round(2).set_index('k')\n",
    "df"
   ]
  },
  {
   "cell_type": "markdown",
   "id": "dbbc7141",
   "metadata": {},
   "source": [
    "## 6. What are the differences in the evaluation metrics? Which performs better on your in-sample data? Why?"
   ]
  },
  {
   "cell_type": "markdown",
   "id": "1c32ca2f",
   "metadata": {},
   "source": [
    "#### It seems the lower the k, the better the model performs for overall accuracy.  Interestingly, if we are optimizing for recall (minimizing false negatives) k=2 is far superior."
   ]
  },
  {
   "cell_type": "markdown",
   "id": "1101ec52",
   "metadata": {},
   "source": [
    "## 7. Which model performs best on our out-of-sample data from validate?"
   ]
  },
  {
   "cell_type": "markdown",
   "id": "55aac23e",
   "metadata": {},
   "source": [
    "##### Focusing on accuracy:"
   ]
  },
  {
   "cell_type": "code",
   "execution_count": null,
   "id": "534a7a36",
   "metadata": {},
   "outputs": [],
   "source": [
    "differences=[]\n",
    "\n",
    "for i in range(1,25):\n",
    "    knn = KNeighborsClassifier(n_neighbors=i, weights='distance')\n",
    "    knn = knn.fit(X_train, y_train)\n",
    "    \n",
    "    in_sample_acc = knn.score(X_train, y_train)\n",
    "    out_sample_acc = knn.score(X_validate, y_validate)\n",
    "    \n",
    "    output = {\n",
    "        'k' : i,\n",
    "        'train_accuracy' : in_sample_acc,\n",
    "        'validation_accuracy' : out_sample_acc\n",
    "    }\n",
    "    \n",
    "    differences.append(output)\n",
    "\n",
    "ddf = pd.DataFrame(differences).set_index('k')\n",
    "ddf['difference'] = ddf['train_accuracy']-ddf['validation_accuracy']\n",
    "ddf.sort_values(by='difference')"
   ]
  },
  {
   "cell_type": "markdown",
   "id": "3666ba4e",
   "metadata": {},
   "source": [
    "#### While the best k for train was very low, when appying it to the validation data, we see a higher k is better.  In this case k=11."
   ]
  },
  {
   "cell_type": "markdown",
   "id": "23a284aa",
   "metadata": {},
   "source": [
    "### Interesting - weights = distance overfits the training data!"
   ]
  },
  {
   "cell_type": "markdown",
   "id": "91114793",
   "metadata": {},
   "source": [
    "# V. Logistic Regression - Titanic"
   ]
  },
  {
   "cell_type": "markdown",
   "id": "dd6cd2b4",
   "metadata": {},
   "source": [
    "## 1. Create a model that includes age in addition to fare and pclass. Does this model perform better than your baseline? "
   ]
  },
  {
   "cell_type": "code",
   "execution_count": 3,
   "id": "3c16363e",
   "metadata": {},
   "outputs": [],
   "source": [
    "from sklearn.linear_model import LogisticRegression\n",
    "logit = LogisticRegression()"
   ]
  },
  {
   "cell_type": "code",
   "execution_count": 4,
   "id": "04c3497b",
   "metadata": {},
   "outputs": [
    {
     "data": {
      "text/html": [
       "<div>\n",
       "<style scoped>\n",
       "    .dataframe tbody tr th:only-of-type {\n",
       "        vertical-align: middle;\n",
       "    }\n",
       "\n",
       "    .dataframe tbody tr th {\n",
       "        vertical-align: top;\n",
       "    }\n",
       "\n",
       "    .dataframe thead th {\n",
       "        text-align: right;\n",
       "    }\n",
       "</style>\n",
       "<table border=\"1\" class=\"dataframe\">\n",
       "  <thead>\n",
       "    <tr style=\"text-align: right;\">\n",
       "      <th></th>\n",
       "      <th>survived</th>\n",
       "      <th>pclass</th>\n",
       "      <th>age</th>\n",
       "      <th>Siblings/Spouses</th>\n",
       "      <th>Parents/Children</th>\n",
       "      <th>fare</th>\n",
       "      <th>alone</th>\n",
       "      <th>sex_male</th>\n",
       "      <th>embark_town_Queenstown</th>\n",
       "      <th>embark_town_Southampton</th>\n",
       "    </tr>\n",
       "  </thead>\n",
       "  <tbody>\n",
       "    <tr>\n",
       "      <th>0</th>\n",
       "      <td>0</td>\n",
       "      <td>3</td>\n",
       "      <td>22.0</td>\n",
       "      <td>1</td>\n",
       "      <td>0</td>\n",
       "      <td>7.2500</td>\n",
       "      <td>0</td>\n",
       "      <td>1</td>\n",
       "      <td>0</td>\n",
       "      <td>1</td>\n",
       "    </tr>\n",
       "    <tr>\n",
       "      <th>1</th>\n",
       "      <td>1</td>\n",
       "      <td>1</td>\n",
       "      <td>38.0</td>\n",
       "      <td>1</td>\n",
       "      <td>0</td>\n",
       "      <td>71.2833</td>\n",
       "      <td>0</td>\n",
       "      <td>0</td>\n",
       "      <td>0</td>\n",
       "      <td>0</td>\n",
       "    </tr>\n",
       "    <tr>\n",
       "      <th>2</th>\n",
       "      <td>1</td>\n",
       "      <td>3</td>\n",
       "      <td>26.0</td>\n",
       "      <td>0</td>\n",
       "      <td>0</td>\n",
       "      <td>7.9250</td>\n",
       "      <td>1</td>\n",
       "      <td>0</td>\n",
       "      <td>0</td>\n",
       "      <td>1</td>\n",
       "    </tr>\n",
       "    <tr>\n",
       "      <th>3</th>\n",
       "      <td>1</td>\n",
       "      <td>1</td>\n",
       "      <td>35.0</td>\n",
       "      <td>1</td>\n",
       "      <td>0</td>\n",
       "      <td>53.1000</td>\n",
       "      <td>0</td>\n",
       "      <td>0</td>\n",
       "      <td>0</td>\n",
       "      <td>1</td>\n",
       "    </tr>\n",
       "    <tr>\n",
       "      <th>4</th>\n",
       "      <td>0</td>\n",
       "      <td>3</td>\n",
       "      <td>35.0</td>\n",
       "      <td>0</td>\n",
       "      <td>0</td>\n",
       "      <td>8.0500</td>\n",
       "      <td>1</td>\n",
       "      <td>1</td>\n",
       "      <td>0</td>\n",
       "      <td>1</td>\n",
       "    </tr>\n",
       "  </tbody>\n",
       "</table>\n",
       "</div>"
      ],
      "text/plain": [
       "   survived  pclass   age  Siblings/Spouses  Parents/Children     fare  alone  \\\n",
       "0         0       3  22.0                 1                 0   7.2500      0   \n",
       "1         1       1  38.0                 1                 0  71.2833      0   \n",
       "2         1       3  26.0                 0                 0   7.9250      1   \n",
       "3         1       1  35.0                 1                 0  53.1000      0   \n",
       "4         0       3  35.0                 0                 0   8.0500      1   \n",
       "\n",
       "   sex_male  embark_town_Queenstown  embark_town_Southampton  \n",
       "0         1                       0                        1  \n",
       "1         0                       0                        0  \n",
       "2         0                       0                        1  \n",
       "3         0                       0                        1  \n",
       "4         1                       0                        1  "
      ]
     },
     "execution_count": 4,
     "metadata": {},
     "output_type": "execute_result"
    }
   ],
   "source": [
    "df = prep_titanic(df)\n",
    "df.head()"
   ]
  },
  {
   "cell_type": "code",
   "execution_count": 7,
   "id": "bcee0bd1",
   "metadata": {},
   "outputs": [
    {
     "name": "stdout",
     "output_type": "stream",
     "text": [
      "<class 'pandas.core.frame.DataFrame'>\n",
      "Int64Index: 891 entries, 0 to 890\n",
      "Data columns (total 4 columns):\n",
      " #   Column    Non-Null Count  Dtype  \n",
      "---  ------    --------------  -----  \n",
      " 0   survived  891 non-null    int64  \n",
      " 1   pclass    891 non-null    int64  \n",
      " 2   age       714 non-null    float64\n",
      " 3   fare      891 non-null    float64\n",
      "dtypes: float64(2), int64(2)\n",
      "memory usage: 34.8 KB\n"
     ]
    }
   ],
   "source": [
    "df_1 = df[['survived', 'pclass','age','fare']]\n",
    "df_1.info()"
   ]
  },
  {
   "cell_type": "code",
   "execution_count": 10,
   "id": "5c88b81e",
   "metadata": {},
   "outputs": [],
   "source": [
    "df_1 = df_1.dropna()"
   ]
  },
  {
   "cell_type": "code",
   "execution_count": 13,
   "id": "cde0f253",
   "metadata": {},
   "outputs": [
    {
     "data": {
      "text/plain": [
       "0    237\n",
       "1    162\n",
       "Name: survived, dtype: int64"
      ]
     },
     "execution_count": 13,
     "metadata": {},
     "output_type": "execute_result"
    }
   ],
   "source": [
    "df_train, df_validate, df_test = splitter(df_1, 'survived')\n",
    "df_train.survived.value_counts()"
   ]
  },
  {
   "cell_type": "code",
   "execution_count": 25,
   "id": "2716e523",
   "metadata": {},
   "outputs": [
    {
     "data": {
      "text/plain": [
       "0.5939849624060151"
      ]
     },
     "execution_count": 25,
     "metadata": {},
     "output_type": "execute_result"
    }
   ],
   "source": [
    "237/(162+237)"
   ]
  },
  {
   "cell_type": "markdown",
   "id": "c64ca847",
   "metadata": {},
   "source": [
    "Baseline prediction for this subset of the data is \"Dead\" accurate 59.4% of the time."
   ]
  },
  {
   "cell_type": "code",
   "execution_count": 14,
   "id": "b67b0e1c",
   "metadata": {},
   "outputs": [],
   "source": [
    "X_train = df_train.drop(columns=['survived'])\n",
    "y_train = df_train.survived\n",
    "\n",
    "X_validate = df_validate.drop(columns=['survived'])\n",
    "y_validate = df_validate.survived\n",
    "\n",
    "X_test = df_test.drop(columns=['survived'])\n",
    "y_test = df_test.survived"
   ]
  },
  {
   "cell_type": "markdown",
   "id": "b015aa8e",
   "metadata": {},
   "source": [
    "Fit the Logistical Regression Model to the Data"
   ]
  },
  {
   "cell_type": "code",
   "execution_count": 15,
   "id": "0eed5079",
   "metadata": {},
   "outputs": [],
   "source": [
    "logit = logit.fit(X_train,y_train)"
   ]
  },
  {
   "cell_type": "markdown",
   "id": "a94abfe6",
   "metadata": {},
   "source": [
    "Feature and Intercept Examination "
   ]
  },
  {
   "cell_type": "code",
   "execution_count": 20,
   "id": "45ed6b50",
   "metadata": {},
   "outputs": [
    {
     "name": "stdout",
     "output_type": "stream",
     "text": [
      "Coefficient: \n",
      " [[-1.19226315 -0.04138191  0.00146339]]\n",
      "Intercept: \n",
      " [3.42691873]\n"
     ]
    }
   ],
   "source": [
    "print('Coefficient: \\n', logit.coef_)\n",
    "print('Intercept: \\n', logit.intercept_)"
   ]
  },
  {
   "cell_type": "code",
   "execution_count": 21,
   "id": "002e8bb1",
   "metadata": {},
   "outputs": [
    {
     "data": {
      "text/plain": [
       "0.3208020050125313"
      ]
     },
     "execution_count": 21,
     "metadata": {},
     "output_type": "execute_result"
    }
   ],
   "source": [
    "y_pred = logit.predict(X_train)\n",
    "y_pred.mean()"
   ]
  },
  {
   "cell_type": "code",
   "execution_count": 24,
   "id": "7c8db9e1",
   "metadata": {},
   "outputs": [
    {
     "data": {
      "text/plain": [
       "{'true_positive': 194,\n",
       " 'false_positive': 77,\n",
       " 'true_negative': 85,\n",
       " 'false_negative': 43,\n",
       " 'precision': 0.7158671586715867,\n",
       " 'recall': 0.8185654008438819,\n",
       " 'accuracy': 0.6992481203007519,\n",
       " 'f1_score': 0.7637795275590552,\n",
       " 'support_pos': 237,\n",
       " 'support_neg': 162}"
      ]
     },
     "execution_count": 24,
     "metadata": {},
     "output_type": "execute_result"
    }
   ],
   "source": [
    "matrix_results(pd.DataFrame(confusion_matrix(y_train, y_pred)))"
   ]
  },
  {
   "cell_type": "code",
   "execution_count": 26,
   "id": "1ad9353c",
   "metadata": {},
   "outputs": [
    {
     "name": "stdout",
     "output_type": "stream",
     "text": [
      "              precision    recall  f1-score   support\n",
      "\n",
      "           0       0.72      0.82      0.76       237\n",
      "           1       0.66      0.52      0.59       162\n",
      "\n",
      "    accuracy                           0.70       399\n",
      "   macro avg       0.69      0.67      0.67       399\n",
      "weighted avg       0.69      0.70      0.69       399\n",
      "\n"
     ]
    }
   ],
   "source": [
    "print(classification_report(y_train, y_pred))"
   ]
  },
  {
   "cell_type": "markdown",
   "id": "9206dd71",
   "metadata": {},
   "source": [
    "#### It is about 10% better (or 10/60% relatively better)"
   ]
  }
 ],
 "metadata": {
  "kernelspec": {
   "display_name": "Python 3 (ipykernel)",
   "language": "python",
   "name": "python3"
  },
  "language_info": {
   "codemirror_mode": {
    "name": "ipython",
    "version": 3
   },
   "file_extension": ".py",
   "mimetype": "text/x-python",
   "name": "python",
   "nbconvert_exporter": "python",
   "pygments_lexer": "ipython3",
   "version": "3.9.7"
  }
 },
 "nbformat": 4,
 "nbformat_minor": 5
}
