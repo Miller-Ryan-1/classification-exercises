{
 "cells": [
  {
   "cell_type": "markdown",
   "id": "8a330b99",
   "metadata": {},
   "source": [
    "# I. Acquire Lesson"
   ]
  },
  {
   "cell_type": "markdown",
   "id": "629cc64d",
   "metadata": {},
   "source": [
    "## 1-3. Completed\n",
    "## 4. In a jupyter notebook, classification_exercises.ipynb, use a python module (pydata or seaborn datasets) containing datasets as a source from the iris data. Create a pandas dataframe, df_iris, from this data."
   ]
  },
  {
   "cell_type": "code",
   "execution_count": 1,
   "id": "44ba81b8",
   "metadata": {},
   "outputs": [],
   "source": [
    "import pandas as pd\n",
    "import numpy as np\n",
    "import seaborn as sns"
   ]
  },
  {
   "cell_type": "code",
   "execution_count": null,
   "id": "ad136b4d",
   "metadata": {},
   "outputs": [],
   "source": [
    "df_iris = sns.load_dataset('iris')"
   ]
  },
  {
   "cell_type": "markdown",
   "id": "b8991fad",
   "metadata": {},
   "source": [
    "Print the first three rows:"
   ]
  },
  {
   "cell_type": "code",
   "execution_count": null,
   "id": "a6a9b836",
   "metadata": {},
   "outputs": [],
   "source": [
    "df_iris.head(3)"
   ]
  },
  {
   "cell_type": "markdown",
   "id": "7611cbce",
   "metadata": {},
   "source": [
    "Print the shape:"
   ]
  },
  {
   "cell_type": "code",
   "execution_count": null,
   "id": "23e569ba",
   "metadata": {},
   "outputs": [],
   "source": [
    "df_iris.shape"
   ]
  },
  {
   "cell_type": "markdown",
   "id": "0c27f06f",
   "metadata": {},
   "source": [
    "Print the column names and data types of each:"
   ]
  },
  {
   "cell_type": "code",
   "execution_count": null,
   "id": "f341bcbd",
   "metadata": {},
   "outputs": [],
   "source": [
    "df_iris.info()"
   ]
  },
  {
   "cell_type": "code",
   "execution_count": null,
   "id": "e4c3b91a",
   "metadata": {},
   "outputs": [],
   "source": [
    "df_iris.columns.to_list()"
   ]
  },
  {
   "cell_type": "markdown",
   "id": "35311281",
   "metadata": {},
   "source": [
    "### * Next two are the preferred methods!"
   ]
  },
  {
   "cell_type": "code",
   "execution_count": null,
   "id": "30ce62f9",
   "metadata": {},
   "outputs": [],
   "source": [
    "df_iris.dtypes"
   ]
  },
  {
   "cell_type": "markdown",
   "id": "c1dcda4c",
   "metadata": {},
   "source": [
    "Print the summary statistics:"
   ]
  },
  {
   "cell_type": "code",
   "execution_count": null,
   "id": "0da3b4a8",
   "metadata": {},
   "outputs": [],
   "source": [
    "df_iris.describe()"
   ]
  },
  {
   "cell_type": "markdown",
   "id": "574ba28a",
   "metadata": {},
   "source": [
    "## 5. Read the Table1_CustDetails table from your spreadsheet exercises google sheet into a dataframe named df_google_sheets."
   ]
  },
  {
   "cell_type": "code",
   "execution_count": null,
   "id": "8c0c6f06",
   "metadata": {},
   "outputs": [],
   "source": [
    "sheet_url = 'https://docs.google.com/spreadsheets/d/1jvEKrZGWuNGA8b7aZT-e28TceYP-nw18mjReCT03RWo/edit#gid=1756832831'\n",
    "\n",
    "csv_export_url = sheet_url.replace('/edit#gid=', '/export?format=csv&gid=')\n",
    "\n",
    "df_google_sheets = pd.read_csv(csv_export_url)\n",
    "df_google_sheets.head()"
   ]
  },
  {
   "cell_type": "markdown",
   "id": "d09a9682",
   "metadata": {},
   "source": [
    "Assign the first 100 rows to a new dataframe:"
   ]
  },
  {
   "cell_type": "code",
   "execution_count": null,
   "id": "64b34b97",
   "metadata": {},
   "outputs": [],
   "source": [
    "df_google_sheets_sample = df_google_sheets.head(100)\n",
    "df_google_sheets_sample.shape"
   ]
  },
  {
   "cell_type": "markdown",
   "id": "50d15881",
   "metadata": {},
   "source": [
    "Print the number of rows of your original dataframe:"
   ]
  },
  {
   "cell_type": "code",
   "execution_count": null,
   "id": "02742866",
   "metadata": {},
   "outputs": [],
   "source": [
    "df_google_sheets.shape[0]"
   ]
  },
  {
   "cell_type": "markdown",
   "id": "96d6639e",
   "metadata": {},
   "source": [
    "Print the first 5 column names:"
   ]
  },
  {
   "cell_type": "code",
   "execution_count": null,
   "id": "24e3f68e",
   "metadata": {},
   "outputs": [],
   "source": [
    "df_google_sheets_sample.columns[:5].to_list()"
   ]
  },
  {
   "cell_type": "markdown",
   "id": "07c6ed97",
   "metadata": {},
   "source": [
    "Print the column names that have a data type of object:"
   ]
  },
  {
   "cell_type": "code",
   "execution_count": null,
   "id": "d5c3729d",
   "metadata": {},
   "outputs": [],
   "source": [
    "df_google_sheets_sample.select_dtypes(include = 'object').columns.to_list()"
   ]
  },
  {
   "cell_type": "markdown",
   "id": "a558aa79",
   "metadata": {},
   "source": [
    "Compute the range for each of the numeric variables:"
   ]
  },
  {
   "cell_type": "code",
   "execution_count": null,
   "id": "197e37db",
   "metadata": {},
   "outputs": [],
   "source": [
    "df_google_sheets_sample.describe().max() - df_google_sheets_sample.describe().min()"
   ]
  },
  {
   "cell_type": "code",
   "execution_count": null,
   "id": "c445d14b",
   "metadata": {},
   "outputs": [],
   "source": [
    "df_google_sheets.describe().T['max'] - df_google_sheets.describe().T['min']"
   ]
  },
  {
   "cell_type": "markdown",
   "id": "c6d0b755",
   "metadata": {},
   "source": [
    "## 6.  Download your spreadsheet exercises google sheet as an excel file (File → Download → Microsoft Excel). Read the Table1_CustDetails worksheet into a dataframe named df_excel."
   ]
  },
  {
   "cell_type": "code",
   "execution_count": null,
   "id": "efc8ddfb",
   "metadata": {},
   "outputs": [],
   "source": [
    "df_excel = pd.read_excel('Storytelling Project Data.xlsx', sheet_name='Table1_CustDetails')"
   ]
  },
  {
   "cell_type": "markdown",
   "id": "14e9c775",
   "metadata": {},
   "source": [
    "Assign the first 100 rows to a new dataframe:"
   ]
  },
  {
   "cell_type": "code",
   "execution_count": null,
   "id": "65fd7e79",
   "metadata": {},
   "outputs": [],
   "source": [
    "df_excel_sample = df_excel.head(100)\n",
    "df_excel_sample"
   ]
  },
  {
   "cell_type": "code",
   "execution_count": null,
   "id": "f9cf1192",
   "metadata": {},
   "outputs": [],
   "source": [
    "df_excel.shape[0]"
   ]
  },
  {
   "cell_type": "code",
   "execution_count": null,
   "id": "c5bf5694",
   "metadata": {},
   "outputs": [],
   "source": [
    "df_excel_sample.columns[:5]"
   ]
  },
  {
   "cell_type": "code",
   "execution_count": null,
   "id": "eac29bc8",
   "metadata": {},
   "outputs": [],
   "source": [
    "df_excel_sample.select_dtypes(include = 'object').columns"
   ]
  },
  {
   "cell_type": "code",
   "execution_count": null,
   "id": "6a909981",
   "metadata": {},
   "outputs": [],
   "source": [
    "df_excel_sample.describe().max() - df_excel_sample.describe().min()"
   ]
  },
  {
   "cell_type": "markdown",
   "id": "484b8887",
   "metadata": {},
   "source": [
    "## 7.  Read the data from this google sheet into a dataframe, df_google."
   ]
  },
  {
   "cell_type": "code",
   "execution_count": null,
   "id": "008f4aaa",
   "metadata": {},
   "outputs": [],
   "source": [
    "sheet_url = 'https://docs.google.com/spreadsheets/d/1Uhtml8KY19LILuZsrDtlsHHDC9wuDGUSe8LTEwvdI5g/edit#gid=341089357'\n",
    "\n",
    "csv_export_url = sheet_url.replace('/edit#gid=', '/export?format=csv&gid=')\n",
    "\n",
    "df_google = pd.read_csv(csv_export_url)"
   ]
  },
  {
   "cell_type": "markdown",
   "id": "08e638ce",
   "metadata": {},
   "source": [
    "Print the first 3 rows:"
   ]
  },
  {
   "cell_type": "code",
   "execution_count": null,
   "id": "adcc807d",
   "metadata": {},
   "outputs": [],
   "source": [
    "df_google.head(3)"
   ]
  },
  {
   "cell_type": "markdown",
   "id": "5925269e",
   "metadata": {},
   "source": [
    "Print the number of rows and columns:"
   ]
  },
  {
   "cell_type": "code",
   "execution_count": null,
   "id": "528196b6",
   "metadata": {},
   "outputs": [],
   "source": [
    "df_google.shape"
   ]
  },
  {
   "cell_type": "markdown",
   "id": "5ee40313",
   "metadata": {},
   "source": [
    "Print the column names:"
   ]
  },
  {
   "cell_type": "code",
   "execution_count": null,
   "id": "1179d44d",
   "metadata": {},
   "outputs": [],
   "source": [
    "df_google.columns"
   ]
  },
  {
   "cell_type": "markdown",
   "id": "bb9fbb0e",
   "metadata": {},
   "source": [
    "Print the data type of each column:"
   ]
  },
  {
   "cell_type": "code",
   "execution_count": null,
   "id": "434fafa4",
   "metadata": {},
   "outputs": [],
   "source": [
    "df_google.info()"
   ]
  },
  {
   "cell_type": "markdown",
   "id": "1578c95b",
   "metadata": {},
   "source": [
    "Print summary stats:"
   ]
  },
  {
   "cell_type": "code",
   "execution_count": null,
   "id": "e60f2228",
   "metadata": {},
   "outputs": [],
   "source": [
    "df_google.describe()"
   ]
  },
  {
   "cell_type": "markdown",
   "id": "702438df",
   "metadata": {},
   "source": [
    "**** Print unique values for each categorical:"
   ]
  },
  {
   "cell_type": "code",
   "execution_count": null,
   "id": "eef71d1c",
   "metadata": {},
   "outputs": [],
   "source": [
    "df_google[['Sex','Cabin','Embarked']].value_counts() "
   ]
  },
  {
   "cell_type": "code",
   "execution_count": null,
   "id": "140f0d81",
   "metadata": {
    "scrolled": true
   },
   "outputs": [],
   "source": [
    "titanicz = acquire.get_titanic_data()\n",
    "titanicz"
   ]
  },
  {
   "cell_type": "markdown",
   "id": "d55858e1",
   "metadata": {},
   "source": [
    "# II. Prepare Lesson"
   ]
  },
  {
   "cell_type": "code",
   "execution_count": 2,
   "id": "cbe43b54",
   "metadata": {},
   "outputs": [],
   "source": [
    "import acquire\n",
    "import prepare"
   ]
  },
  {
   "cell_type": "markdown",
   "id": "26413a81",
   "metadata": {},
   "source": [
    "### Iris Dataset"
   ]
  },
  {
   "cell_type": "markdown",
   "id": "a6993628",
   "metadata": {},
   "source": [
    "1. Use the function defined in acquire.py to load the iris data."
   ]
  },
  {
   "cell_type": "code",
   "execution_count": null,
   "id": "44f08732",
   "metadata": {},
   "outputs": [],
   "source": [
    "df = acquire.get_iris_data()\n",
    "df.head()"
   ]
  },
  {
   "cell_type": "markdown",
   "id": "ff673af5",
   "metadata": {},
   "source": [
    "2.  Drop the species_id and measurement_id columns."
   ]
  },
  {
   "cell_type": "code",
   "execution_count": null,
   "id": "07acac06",
   "metadata": {},
   "outputs": [],
   "source": [
    "columns_to_drop = ['species_id','measurement_id']\n",
    "df_iris = df_iris.drop(columns = columns_to_drop)\n",
    "df_iris.head()"
   ]
  },
  {
   "cell_type": "markdown",
   "id": "b3a3c2da",
   "metadata": {},
   "source": [
    "3. Rename the species_name column to just species."
   ]
  },
  {
   "cell_type": "code",
   "execution_count": null,
   "id": "458c646f",
   "metadata": {},
   "outputs": [],
   "source": [
    "df_iris = df_iris.rename(columns={'species_name': 'species'})\n",
    "df_iris = df_iris.drop_duplicates()\n",
    "df_iris.info()"
   ]
  },
  {
   "cell_type": "markdown",
   "id": "38d9b063",
   "metadata": {},
   "source": [
    "4. Create dummy variables of the species name and concatenate onto the iris dataframe. (This is for practice, we don't always have to encode the target, but if we used species as a feature, we would need to encode it)."
   ]
  },
  {
   "cell_type": "code",
   "execution_count": null,
   "id": "33cf2199",
   "metadata": {},
   "outputs": [],
   "source": [
    "dummy_df_iris = pd.get_dummies(df_iris[['species']], drop_first = True)\n",
    "data = pd.concat([df_iris, dummy_df_iris], axis=1)\n",
    "data.sample(5)"
   ]
  },
  {
   "cell_type": "markdown",
   "id": "c8de1589",
   "metadata": {},
   "source": [
    "5. Create a function named prep_iris that accepts the untransformed iris data, and returns the data with the transformations above applied."
   ]
  },
  {
   "cell_type": "code",
   "execution_count": null,
   "id": "d07338d4",
   "metadata": {},
   "outputs": [],
   "source": [
    "def prep_iris(df):\n",
    "    df = df.drop_duplicates()\n",
    "    columns_to_drop = ['species_id','measurement_id']\n",
    "    df = df.drop(columns = columns_to_drop)\n",
    "    df = df.rename(columns={'species_name': 'species'})\n",
    "    dummy_df = pd.get_dummies(df[['species']], drop_first = True)\n",
    "    df = pd.concat([df, dummy_df], axis=1)\n",
    "    return df"
   ]
  },
  {
   "cell_type": "code",
   "execution_count": null,
   "id": "c096395f",
   "metadata": {},
   "outputs": [],
   "source": [
    "prep_iris(df_iris)"
   ]
  },
  {
   "cell_type": "markdown",
   "id": "5bc9adc9",
   "metadata": {},
   "source": [
    "### Titanics Dataset"
   ]
  },
  {
   "cell_type": "markdown",
   "id": "fe6e0da3",
   "metadata": {},
   "source": [
    "1. Use the function defined in acquire.py to load the Titanic data."
   ]
  },
  {
   "cell_type": "code",
   "execution_count": null,
   "id": "a045bee4",
   "metadata": {},
   "outputs": [],
   "source": [
    "df_titanic = acquire.get_titanic_data()\n",
    "df_titanic.sample(5)"
   ]
  },
  {
   "cell_type": "code",
   "execution_count": null,
   "id": "8b727788",
   "metadata": {},
   "outputs": [],
   "source": [
    "df_titanic.info()"
   ]
  },
  {
   "cell_type": "markdown",
   "id": "075e1f77",
   "metadata": {},
   "source": [
    "2. Drop any unnecessary, unhelpful, or duplicated columns."
   ]
  },
  {
   "cell_type": "code",
   "execution_count": null,
   "id": "38f7d235",
   "metadata": {},
   "outputs": [],
   "source": [
    "df_titanic.head()"
   ]
  },
  {
   "cell_type": "code",
   "execution_count": null,
   "id": "240b6d37",
   "metadata": {},
   "outputs": [],
   "source": [
    "df_titanic = df_titanic.drop_duplicates()\n",
    "columns_to_drop = ['passenger_id','deck','class','embarked']\n",
    "df_titanic = df_titanic.drop(columns = columns_to_drop).rename(columns={'sibsp': 'Siblings/Spouses','parch':'Parents/Children'})\n",
    "df_titanic"
   ]
  },
  {
   "cell_type": "markdown",
   "id": "b4479d85",
   "metadata": {},
   "source": [
    "3. Encode the categorical columns. Create dummy variables of the categorical columns and concatenate them onto the dataframe."
   ]
  },
  {
   "cell_type": "code",
   "execution_count": null,
   "id": "ead4a826",
   "metadata": {},
   "outputs": [],
   "source": [
    "dummy_df_titanic = pd.get_dummies(df_titanic[['sex', 'embark_town']], dummy_na=False, drop_first=[True, True])\n",
    "df_titanic = pd.concat([df_titanic, dummy_df_titanic], axis = 1)\n",
    "df_titanic"
   ]
  },
  {
   "cell_type": "markdown",
   "id": "81461d13",
   "metadata": {},
   "source": [
    "4. Create a function named prep_titanic that accepts the raw titanic data, and returns the data with the transformations above applied."
   ]
  },
  {
   "cell_type": "code",
   "execution_count": null,
   "id": "7c6a2581",
   "metadata": {},
   "outputs": [],
   "source": [
    "def prep_titanic(df):\n",
    "    df = df.drop_duplicates()\n",
    "    columns_to_drop = ['passenger_id','deck','class','embarked']\n",
    "    df = df.drop(columns = columns_to_drop).rename(columns={'sibsp': 'Siblings/Spouses','parch':'Parents/Children'})\n",
    "    dummy_df = pd.get_dummies(df[['sex', 'embark_town']], dummy_na=False, drop_first=[True, True])\n",
    "    df = pd.concat([df, dummy_df], axis=1)\n",
    "    return df"
   ]
  },
  {
   "cell_type": "markdown",
   "id": "60f3c3e5",
   "metadata": {},
   "source": [
    "### Telco Dataset"
   ]
  },
  {
   "cell_type": "code",
   "execution_count": 3,
   "id": "8ad625a9",
   "metadata": {},
   "outputs": [
    {
     "data": {
      "text/html": [
       "<div>\n",
       "<style scoped>\n",
       "    .dataframe tbody tr th:only-of-type {\n",
       "        vertical-align: middle;\n",
       "    }\n",
       "\n",
       "    .dataframe tbody tr th {\n",
       "        vertical-align: top;\n",
       "    }\n",
       "\n",
       "    .dataframe thead th {\n",
       "        text-align: right;\n",
       "    }\n",
       "</style>\n",
       "<table border=\"1\" class=\"dataframe\">\n",
       "  <thead>\n",
       "    <tr style=\"text-align: right;\">\n",
       "      <th></th>\n",
       "      <th>internet_service_type_id</th>\n",
       "      <th>customer_id</th>\n",
       "      <th>contract_type_id</th>\n",
       "      <th>paperless_billing</th>\n",
       "      <th>contract_type</th>\n",
       "      <th>payment_type_id</th>\n",
       "      <th>monthly_charges</th>\n",
       "      <th>total_charges</th>\n",
       "      <th>gender</th>\n",
       "      <th>senior_citizen</th>\n",
       "      <th>partner</th>\n",
       "      <th>dependents</th>\n",
       "      <th>tenure</th>\n",
       "      <th>phone_service</th>\n",
       "      <th>multiple_lines</th>\n",
       "      <th>online_security</th>\n",
       "      <th>online_backup</th>\n",
       "      <th>device_protection</th>\n",
       "      <th>tech_support</th>\n",
       "      <th>streaming_tv</th>\n",
       "      <th>streaming_movies</th>\n",
       "      <th>contract_type_id.1</th>\n",
       "      <th>paperless_billing.1</th>\n",
       "      <th>payment_type_id.1</th>\n",
       "      <th>monthly_charges.1</th>\n",
       "      <th>total_charges.1</th>\n",
       "      <th>churn</th>\n",
       "      <th>internet_service_type</th>\n",
       "    </tr>\n",
       "  </thead>\n",
       "  <tbody>\n",
       "    <tr>\n",
       "      <th>0</th>\n",
       "      <td>2</td>\n",
       "      <td>0004-TLHLJ</td>\n",
       "      <td>1</td>\n",
       "      <td>Yes</td>\n",
       "      <td>Month-to-month</td>\n",
       "      <td>1</td>\n",
       "      <td>73.9</td>\n",
       "      <td>280.85</td>\n",
       "      <td>Male</td>\n",
       "      <td>0</td>\n",
       "      <td>No</td>\n",
       "      <td>No</td>\n",
       "      <td>4</td>\n",
       "      <td>Yes</td>\n",
       "      <td>No</td>\n",
       "      <td>No</td>\n",
       "      <td>No</td>\n",
       "      <td>Yes</td>\n",
       "      <td>No</td>\n",
       "      <td>No</td>\n",
       "      <td>No</td>\n",
       "      <td>1</td>\n",
       "      <td>Yes</td>\n",
       "      <td>1</td>\n",
       "      <td>73.9</td>\n",
       "      <td>280.85</td>\n",
       "      <td>Yes</td>\n",
       "      <td>Fiber optic</td>\n",
       "    </tr>\n",
       "    <tr>\n",
       "      <th>1</th>\n",
       "      <td>1</td>\n",
       "      <td>0017-DINOC</td>\n",
       "      <td>3</td>\n",
       "      <td>No</td>\n",
       "      <td>Two year</td>\n",
       "      <td>4</td>\n",
       "      <td>45.2</td>\n",
       "      <td>2460.55</td>\n",
       "      <td>Male</td>\n",
       "      <td>0</td>\n",
       "      <td>No</td>\n",
       "      <td>No</td>\n",
       "      <td>54</td>\n",
       "      <td>No</td>\n",
       "      <td>No phone service</td>\n",
       "      <td>Yes</td>\n",
       "      <td>No</td>\n",
       "      <td>No</td>\n",
       "      <td>Yes</td>\n",
       "      <td>Yes</td>\n",
       "      <td>No</td>\n",
       "      <td>3</td>\n",
       "      <td>No</td>\n",
       "      <td>4</td>\n",
       "      <td>45.2</td>\n",
       "      <td>2460.55</td>\n",
       "      <td>No</td>\n",
       "      <td>DSL</td>\n",
       "    </tr>\n",
       "  </tbody>\n",
       "</table>\n",
       "</div>"
      ],
      "text/plain": [
       "   internet_service_type_id customer_id  contract_type_id paperless_billing  \\\n",
       "0                         2  0004-TLHLJ                 1               Yes   \n",
       "1                         1  0017-DINOC                 3                No   \n",
       "\n",
       "    contract_type  payment_type_id  monthly_charges total_charges gender  \\\n",
       "0  Month-to-month                1             73.9        280.85   Male   \n",
       "1        Two year                4             45.2       2460.55   Male   \n",
       "\n",
       "   senior_citizen partner dependents  tenure phone_service    multiple_lines  \\\n",
       "0               0      No         No       4           Yes                No   \n",
       "1               0      No         No      54            No  No phone service   \n",
       "\n",
       "  online_security online_backup device_protection tech_support streaming_tv  \\\n",
       "0              No            No               Yes           No           No   \n",
       "1             Yes            No                No          Yes          Yes   \n",
       "\n",
       "  streaming_movies  contract_type_id.1 paperless_billing.1  payment_type_id.1  \\\n",
       "0               No                   1                 Yes                  1   \n",
       "1               No                   3                  No                  4   \n",
       "\n",
       "   monthly_charges.1 total_charges.1 churn internet_service_type  \n",
       "0               73.9          280.85   Yes           Fiber optic  \n",
       "1               45.2         2460.55    No                   DSL  "
      ]
     },
     "execution_count": 3,
     "metadata": {},
     "output_type": "execute_result"
    }
   ],
   "source": [
    "df_telco = acquire.get_telco_data()\n",
    "pd.set_option('display.max_columns', None)\n",
    "df_telco.head(2)"
   ]
  },
  {
   "cell_type": "code",
   "execution_count": 4,
   "id": "0d3faf4e",
   "metadata": {
    "scrolled": true
   },
   "outputs": [
    {
     "name": "stdout",
     "output_type": "stream",
     "text": [
      "<class 'pandas.core.frame.DataFrame'>\n",
      "Int64Index: 7043 entries, 0 to 7042\n",
      "Data columns (total 28 columns):\n",
      " #   Column                    Non-Null Count  Dtype  \n",
      "---  ------                    --------------  -----  \n",
      " 0   internet_service_type_id  7043 non-null   int64  \n",
      " 1   customer_id               7043 non-null   object \n",
      " 2   contract_type_id          7043 non-null   int64  \n",
      " 3   paperless_billing         7043 non-null   object \n",
      " 4   contract_type             7043 non-null   object \n",
      " 5   payment_type_id           7043 non-null   int64  \n",
      " 6   monthly_charges           7043 non-null   float64\n",
      " 7   total_charges             7043 non-null   object \n",
      " 8   gender                    7043 non-null   object \n",
      " 9   senior_citizen            7043 non-null   int64  \n",
      " 10  partner                   7043 non-null   object \n",
      " 11  dependents                7043 non-null   object \n",
      " 12  tenure                    7043 non-null   int64  \n",
      " 13  phone_service             7043 non-null   object \n",
      " 14  multiple_lines            7043 non-null   object \n",
      " 15  online_security           7043 non-null   object \n",
      " 16  online_backup             7043 non-null   object \n",
      " 17  device_protection         7043 non-null   object \n",
      " 18  tech_support              7043 non-null   object \n",
      " 19  streaming_tv              7043 non-null   object \n",
      " 20  streaming_movies          7043 non-null   object \n",
      " 21  contract_type_id.1        7043 non-null   int64  \n",
      " 22  paperless_billing.1       7043 non-null   object \n",
      " 23  payment_type_id.1         7043 non-null   int64  \n",
      " 24  monthly_charges.1         7043 non-null   float64\n",
      " 25  total_charges.1           7043 non-null   object \n",
      " 26  churn                     7043 non-null   object \n",
      " 27  internet_service_type     7043 non-null   object \n",
      "dtypes: float64(2), int64(7), object(19)\n",
      "memory usage: 1.6+ MB\n"
     ]
    }
   ],
   "source": [
    "df_telco.info()"
   ]
  },
  {
   "cell_type": "code",
   "execution_count": null,
   "id": "0db4899d",
   "metadata": {},
   "outputs": [],
   "source": [
    "def prep_telco(df):\n",
    "    df = df.drop_duplicates()\n",
    "    \n",
    "    df['total_charges'] = df['total_charges'].str.strip()\n",
    "    df = df[df.total_charges != '']\n",
    "    \n",
    "    # Convert to correct datatype\n",
    "    df['total_charges'] = df.total_charges.astype(float)\n",
    "    \n",
    "    df['gender_encoded'] = df.gender.map({'Female': 1, 'Male': 0})\n",
    "    df['partner_encoded'] = df.partner.map({'Yes': 1, 'No': 0})\n",
    "    df['dependents_encoded'] = df.dependents.map({'Yes': 1, 'No': 0})\n",
    "    df['phone_service_encoded'] = df.phone_service.map({'Yes': 1, 'No': 0})\n",
    "    df['paperless_billing_encoded'] = df.paperless_billing.map({'Yes': 1, 'No': 0})\n",
    "    df['churn_encoded'] = df.churn.map({'Yes': 1, 'No': 0})\n",
    "    \n",
    "    columns_to_drop = ['monthly_charges.1','customer_id', 'total_charges.1','paperless_billing.1','payment_type_id.1','internet_service_type_id','contract_type_id','payment_type_id']\n",
    "    df = df.drop(columns = columns_to_drop).rename(columns={'sibsp': 'Siblings/Spouses','parch':'Parents/Children'})\n",
    "    \n",
    "    dummy_df = pd.get_dummies(df[['multiple_lines', \\\n",
    "                              'online_security', \\\n",
    "                              'online_backup', \\\n",
    "                              'device_protection', \\\n",
    "                              'tech_support', \\\n",
    "                              'streaming_tv', \\\n",
    "                              'streaming_movies', \\\n",
    "                              'contract_type', \\\n",
    "                              'internet_service_type']], dummy_na=False, \\\n",
    "                              drop_first=True)\n",
    "    df = pd.concat([df, dummy_df], axis=1)\n",
    "    \n",
    "    return df"
   ]
  },
  {
   "cell_type": "code",
   "execution_count": 7,
   "id": "72200c3e",
   "metadata": {},
   "outputs": [
    {
     "data": {
      "text/html": [
       "<div>\n",
       "<style scoped>\n",
       "    .dataframe tbody tr th:only-of-type {\n",
       "        vertical-align: middle;\n",
       "    }\n",
       "\n",
       "    .dataframe tbody tr th {\n",
       "        vertical-align: top;\n",
       "    }\n",
       "\n",
       "    .dataframe thead th {\n",
       "        text-align: right;\n",
       "    }\n",
       "</style>\n",
       "<table border=\"1\" class=\"dataframe\">\n",
       "  <thead>\n",
       "    <tr style=\"text-align: right;\">\n",
       "      <th></th>\n",
       "      <th>paperless_billing</th>\n",
       "      <th>contract_type</th>\n",
       "      <th>monthly_charges</th>\n",
       "      <th>total_charges</th>\n",
       "      <th>gender</th>\n",
       "      <th>senior_citizen</th>\n",
       "      <th>partner</th>\n",
       "      <th>dependents</th>\n",
       "      <th>tenure</th>\n",
       "      <th>phone_service</th>\n",
       "      <th>multiple_lines</th>\n",
       "      <th>online_security</th>\n",
       "      <th>online_backup</th>\n",
       "      <th>device_protection</th>\n",
       "      <th>tech_support</th>\n",
       "      <th>streaming_tv</th>\n",
       "      <th>streaming_movies</th>\n",
       "      <th>contract_type_id.1</th>\n",
       "      <th>churn</th>\n",
       "      <th>internet_service_type</th>\n",
       "      <th>gender_encoded</th>\n",
       "      <th>partner_encoded</th>\n",
       "      <th>dependents_encoded</th>\n",
       "      <th>phone_service_encoded</th>\n",
       "      <th>paperless_billing_encoded</th>\n",
       "      <th>churn_encoded</th>\n",
       "      <th>multiple_lines_No phone service</th>\n",
       "      <th>multiple_lines_Yes</th>\n",
       "      <th>online_security_No internet service</th>\n",
       "      <th>online_security_Yes</th>\n",
       "      <th>online_backup_No internet service</th>\n",
       "      <th>online_backup_Yes</th>\n",
       "      <th>device_protection_No internet service</th>\n",
       "      <th>device_protection_Yes</th>\n",
       "      <th>tech_support_No internet service</th>\n",
       "      <th>tech_support_Yes</th>\n",
       "      <th>streaming_tv_No internet service</th>\n",
       "      <th>streaming_tv_Yes</th>\n",
       "      <th>streaming_movies_No internet service</th>\n",
       "      <th>streaming_movies_Yes</th>\n",
       "      <th>contract_type_One year</th>\n",
       "      <th>contract_type_Two year</th>\n",
       "      <th>internet_service_type_Fiber optic</th>\n",
       "      <th>internet_service_type_None</th>\n",
       "    </tr>\n",
       "  </thead>\n",
       "  <tbody>\n",
       "    <tr>\n",
       "      <th>5928</th>\n",
       "      <td>Yes</td>\n",
       "      <td>Month-to-month</td>\n",
       "      <td>95.40</td>\n",
       "      <td>2025.1</td>\n",
       "      <td>Female</td>\n",
       "      <td>1</td>\n",
       "      <td>No</td>\n",
       "      <td>No</td>\n",
       "      <td>21</td>\n",
       "      <td>Yes</td>\n",
       "      <td>Yes</td>\n",
       "      <td>No</td>\n",
       "      <td>No</td>\n",
       "      <td>No</td>\n",
       "      <td>No</td>\n",
       "      <td>Yes</td>\n",
       "      <td>Yes</td>\n",
       "      <td>1</td>\n",
       "      <td>No</td>\n",
       "      <td>Fiber optic</td>\n",
       "      <td>1</td>\n",
       "      <td>0</td>\n",
       "      <td>0</td>\n",
       "      <td>1</td>\n",
       "      <td>1</td>\n",
       "      <td>0</td>\n",
       "      <td>0</td>\n",
       "      <td>1</td>\n",
       "      <td>0</td>\n",
       "      <td>0</td>\n",
       "      <td>0</td>\n",
       "      <td>0</td>\n",
       "      <td>0</td>\n",
       "      <td>0</td>\n",
       "      <td>0</td>\n",
       "      <td>0</td>\n",
       "      <td>0</td>\n",
       "      <td>1</td>\n",
       "      <td>0</td>\n",
       "      <td>1</td>\n",
       "      <td>0</td>\n",
       "      <td>0</td>\n",
       "      <td>1</td>\n",
       "      <td>0</td>\n",
       "    </tr>\n",
       "    <tr>\n",
       "      <th>1995</th>\n",
       "      <td>Yes</td>\n",
       "      <td>Month-to-month</td>\n",
       "      <td>85.95</td>\n",
       "      <td>514.6</td>\n",
       "      <td>Female</td>\n",
       "      <td>0</td>\n",
       "      <td>No</td>\n",
       "      <td>No</td>\n",
       "      <td>6</td>\n",
       "      <td>Yes</td>\n",
       "      <td>No</td>\n",
       "      <td>No</td>\n",
       "      <td>Yes</td>\n",
       "      <td>No</td>\n",
       "      <td>No</td>\n",
       "      <td>No</td>\n",
       "      <td>Yes</td>\n",
       "      <td>1</td>\n",
       "      <td>No</td>\n",
       "      <td>Fiber optic</td>\n",
       "      <td>1</td>\n",
       "      <td>0</td>\n",
       "      <td>0</td>\n",
       "      <td>1</td>\n",
       "      <td>1</td>\n",
       "      <td>0</td>\n",
       "      <td>0</td>\n",
       "      <td>0</td>\n",
       "      <td>0</td>\n",
       "      <td>0</td>\n",
       "      <td>0</td>\n",
       "      <td>1</td>\n",
       "      <td>0</td>\n",
       "      <td>0</td>\n",
       "      <td>0</td>\n",
       "      <td>0</td>\n",
       "      <td>0</td>\n",
       "      <td>0</td>\n",
       "      <td>0</td>\n",
       "      <td>1</td>\n",
       "      <td>0</td>\n",
       "      <td>0</td>\n",
       "      <td>1</td>\n",
       "      <td>0</td>\n",
       "    </tr>\n",
       "  </tbody>\n",
       "</table>\n",
       "</div>"
      ],
      "text/plain": [
       "     paperless_billing   contract_type  monthly_charges  total_charges  \\\n",
       "5928               Yes  Month-to-month            95.40         2025.1   \n",
       "1995               Yes  Month-to-month            85.95          514.6   \n",
       "\n",
       "      gender  senior_citizen partner dependents  tenure phone_service  \\\n",
       "5928  Female               1      No         No      21           Yes   \n",
       "1995  Female               0      No         No       6           Yes   \n",
       "\n",
       "     multiple_lines online_security online_backup device_protection  \\\n",
       "5928            Yes              No            No                No   \n",
       "1995             No              No           Yes                No   \n",
       "\n",
       "     tech_support streaming_tv streaming_movies  contract_type_id.1 churn  \\\n",
       "5928           No          Yes              Yes                   1    No   \n",
       "1995           No           No              Yes                   1    No   \n",
       "\n",
       "     internet_service_type  gender_encoded  partner_encoded  \\\n",
       "5928           Fiber optic               1                0   \n",
       "1995           Fiber optic               1                0   \n",
       "\n",
       "      dependents_encoded  phone_service_encoded  paperless_billing_encoded  \\\n",
       "5928                   0                      1                          1   \n",
       "1995                   0                      1                          1   \n",
       "\n",
       "      churn_encoded  multiple_lines_No phone service  multiple_lines_Yes  \\\n",
       "5928              0                                0                   1   \n",
       "1995              0                                0                   0   \n",
       "\n",
       "      online_security_No internet service  online_security_Yes  \\\n",
       "5928                                    0                    0   \n",
       "1995                                    0                    0   \n",
       "\n",
       "      online_backup_No internet service  online_backup_Yes  \\\n",
       "5928                                  0                  0   \n",
       "1995                                  0                  1   \n",
       "\n",
       "      device_protection_No internet service  device_protection_Yes  \\\n",
       "5928                                      0                      0   \n",
       "1995                                      0                      0   \n",
       "\n",
       "      tech_support_No internet service  tech_support_Yes  \\\n",
       "5928                                 0                 0   \n",
       "1995                                 0                 0   \n",
       "\n",
       "      streaming_tv_No internet service  streaming_tv_Yes  \\\n",
       "5928                                 0                 1   \n",
       "1995                                 0                 0   \n",
       "\n",
       "      streaming_movies_No internet service  streaming_movies_Yes  \\\n",
       "5928                                     0                     1   \n",
       "1995                                     0                     1   \n",
       "\n",
       "      contract_type_One year  contract_type_Two year  \\\n",
       "5928                       0                       0   \n",
       "1995                       0                       0   \n",
       "\n",
       "      internet_service_type_Fiber optic  internet_service_type_None  \n",
       "5928                                  1                           0  \n",
       "1995                                  1                           0  "
      ]
     },
     "execution_count": 7,
     "metadata": {},
     "output_type": "execute_result"
    }
   ],
   "source": [
    "telco_train, telco_validate, telco_test = prepare.prep_telco(df_telco)\n",
    "telco_train.head(2)"
   ]
  },
  {
   "cell_type": "code",
   "execution_count": 8,
   "id": "6b99e2b2",
   "metadata": {},
   "outputs": [
    {
     "data": {
      "text/html": [
       "<div>\n",
       "<style scoped>\n",
       "    .dataframe tbody tr th:only-of-type {\n",
       "        vertical-align: middle;\n",
       "    }\n",
       "\n",
       "    .dataframe tbody tr th {\n",
       "        vertical-align: top;\n",
       "    }\n",
       "\n",
       "    .dataframe thead th {\n",
       "        text-align: right;\n",
       "    }\n",
       "</style>\n",
       "<table border=\"1\" class=\"dataframe\">\n",
       "  <thead>\n",
       "    <tr style=\"text-align: right;\">\n",
       "      <th></th>\n",
       "      <th>paperless_billing</th>\n",
       "      <th>contract_type</th>\n",
       "      <th>monthly_charges</th>\n",
       "      <th>total_charges</th>\n",
       "      <th>gender</th>\n",
       "      <th>senior_citizen</th>\n",
       "      <th>partner</th>\n",
       "      <th>dependents</th>\n",
       "      <th>tenure</th>\n",
       "      <th>phone_service</th>\n",
       "      <th>multiple_lines</th>\n",
       "      <th>online_security</th>\n",
       "      <th>online_backup</th>\n",
       "      <th>device_protection</th>\n",
       "      <th>tech_support</th>\n",
       "      <th>streaming_tv</th>\n",
       "      <th>streaming_movies</th>\n",
       "      <th>contract_type_id.1</th>\n",
       "      <th>churn</th>\n",
       "      <th>internet_service_type</th>\n",
       "      <th>gender_encoded</th>\n",
       "      <th>partner_encoded</th>\n",
       "      <th>dependents_encoded</th>\n",
       "      <th>phone_service_encoded</th>\n",
       "      <th>paperless_billing_encoded</th>\n",
       "      <th>churn_encoded</th>\n",
       "      <th>multiple_lines_No phone service</th>\n",
       "      <th>multiple_lines_Yes</th>\n",
       "      <th>online_security_No internet service</th>\n",
       "      <th>online_security_Yes</th>\n",
       "      <th>online_backup_No internet service</th>\n",
       "      <th>online_backup_Yes</th>\n",
       "      <th>device_protection_No internet service</th>\n",
       "      <th>device_protection_Yes</th>\n",
       "      <th>tech_support_No internet service</th>\n",
       "      <th>tech_support_Yes</th>\n",
       "      <th>streaming_tv_No internet service</th>\n",
       "      <th>streaming_tv_Yes</th>\n",
       "      <th>streaming_movies_No internet service</th>\n",
       "      <th>streaming_movies_Yes</th>\n",
       "      <th>contract_type_One year</th>\n",
       "      <th>contract_type_Two year</th>\n",
       "      <th>internet_service_type_Fiber optic</th>\n",
       "      <th>internet_service_type_None</th>\n",
       "    </tr>\n",
       "  </thead>\n",
       "  <tbody>\n",
       "    <tr>\n",
       "      <th>924</th>\n",
       "      <td>No</td>\n",
       "      <td>One year</td>\n",
       "      <td>20.25</td>\n",
       "      <td>854.9</td>\n",
       "      <td>Male</td>\n",
       "      <td>0</td>\n",
       "      <td>Yes</td>\n",
       "      <td>Yes</td>\n",
       "      <td>42</td>\n",
       "      <td>Yes</td>\n",
       "      <td>No</td>\n",
       "      <td>No internet service</td>\n",
       "      <td>No internet service</td>\n",
       "      <td>No internet service</td>\n",
       "      <td>No internet service</td>\n",
       "      <td>No internet service</td>\n",
       "      <td>No internet service</td>\n",
       "      <td>2</td>\n",
       "      <td>No</td>\n",
       "      <td>None</td>\n",
       "      <td>0</td>\n",
       "      <td>1</td>\n",
       "      <td>1</td>\n",
       "      <td>1</td>\n",
       "      <td>0</td>\n",
       "      <td>0</td>\n",
       "      <td>0</td>\n",
       "      <td>0</td>\n",
       "      <td>1</td>\n",
       "      <td>0</td>\n",
       "      <td>1</td>\n",
       "      <td>0</td>\n",
       "      <td>1</td>\n",
       "      <td>0</td>\n",
       "      <td>1</td>\n",
       "      <td>0</td>\n",
       "      <td>1</td>\n",
       "      <td>0</td>\n",
       "      <td>1</td>\n",
       "      <td>0</td>\n",
       "      <td>1</td>\n",
       "      <td>0</td>\n",
       "      <td>0</td>\n",
       "      <td>1</td>\n",
       "    </tr>\n",
       "    <tr>\n",
       "      <th>1577</th>\n",
       "      <td>No</td>\n",
       "      <td>Two year</td>\n",
       "      <td>20.05</td>\n",
       "      <td>1386.9</td>\n",
       "      <td>Female</td>\n",
       "      <td>0</td>\n",
       "      <td>No</td>\n",
       "      <td>No</td>\n",
       "      <td>68</td>\n",
       "      <td>Yes</td>\n",
       "      <td>No</td>\n",
       "      <td>No internet service</td>\n",
       "      <td>No internet service</td>\n",
       "      <td>No internet service</td>\n",
       "      <td>No internet service</td>\n",
       "      <td>No internet service</td>\n",
       "      <td>No internet service</td>\n",
       "      <td>3</td>\n",
       "      <td>No</td>\n",
       "      <td>None</td>\n",
       "      <td>1</td>\n",
       "      <td>0</td>\n",
       "      <td>0</td>\n",
       "      <td>1</td>\n",
       "      <td>0</td>\n",
       "      <td>0</td>\n",
       "      <td>0</td>\n",
       "      <td>0</td>\n",
       "      <td>1</td>\n",
       "      <td>0</td>\n",
       "      <td>1</td>\n",
       "      <td>0</td>\n",
       "      <td>1</td>\n",
       "      <td>0</td>\n",
       "      <td>1</td>\n",
       "      <td>0</td>\n",
       "      <td>1</td>\n",
       "      <td>0</td>\n",
       "      <td>1</td>\n",
       "      <td>0</td>\n",
       "      <td>0</td>\n",
       "      <td>1</td>\n",
       "      <td>0</td>\n",
       "      <td>1</td>\n",
       "    </tr>\n",
       "  </tbody>\n",
       "</table>\n",
       "</div>"
      ],
      "text/plain": [
       "     paperless_billing contract_type  monthly_charges  total_charges  gender  \\\n",
       "924                 No      One year            20.25          854.9    Male   \n",
       "1577                No      Two year            20.05         1386.9  Female   \n",
       "\n",
       "      senior_citizen partner dependents  tenure phone_service multiple_lines  \\\n",
       "924                0     Yes        Yes      42           Yes             No   \n",
       "1577               0      No         No      68           Yes             No   \n",
       "\n",
       "          online_security        online_backup    device_protection  \\\n",
       "924   No internet service  No internet service  No internet service   \n",
       "1577  No internet service  No internet service  No internet service   \n",
       "\n",
       "             tech_support         streaming_tv     streaming_movies  \\\n",
       "924   No internet service  No internet service  No internet service   \n",
       "1577  No internet service  No internet service  No internet service   \n",
       "\n",
       "      contract_type_id.1 churn internet_service_type  gender_encoded  \\\n",
       "924                    2    No                  None               0   \n",
       "1577                   3    No                  None               1   \n",
       "\n",
       "      partner_encoded  dependents_encoded  phone_service_encoded  \\\n",
       "924                 1                   1                      1   \n",
       "1577                0                   0                      1   \n",
       "\n",
       "      paperless_billing_encoded  churn_encoded  \\\n",
       "924                           0              0   \n",
       "1577                          0              0   \n",
       "\n",
       "      multiple_lines_No phone service  multiple_lines_Yes  \\\n",
       "924                                 0                   0   \n",
       "1577                                0                   0   \n",
       "\n",
       "      online_security_No internet service  online_security_Yes  \\\n",
       "924                                     1                    0   \n",
       "1577                                    1                    0   \n",
       "\n",
       "      online_backup_No internet service  online_backup_Yes  \\\n",
       "924                                   1                  0   \n",
       "1577                                  1                  0   \n",
       "\n",
       "      device_protection_No internet service  device_protection_Yes  \\\n",
       "924                                       1                      0   \n",
       "1577                                      1                      0   \n",
       "\n",
       "      tech_support_No internet service  tech_support_Yes  \\\n",
       "924                                  1                 0   \n",
       "1577                                 1                 0   \n",
       "\n",
       "      streaming_tv_No internet service  streaming_tv_Yes  \\\n",
       "924                                  1                 0   \n",
       "1577                                 1                 0   \n",
       "\n",
       "      streaming_movies_No internet service  streaming_movies_Yes  \\\n",
       "924                                      1                     0   \n",
       "1577                                     1                     0   \n",
       "\n",
       "      contract_type_One year  contract_type_Two year  \\\n",
       "924                        1                       0   \n",
       "1577                       0                       1   \n",
       "\n",
       "      internet_service_type_Fiber optic  internet_service_type_None  \n",
       "924                                   0                           1  \n",
       "1577                                  0                           1  "
      ]
     },
     "execution_count": 8,
     "metadata": {},
     "output_type": "execute_result"
    }
   ],
   "source": [
    "telco_validate.head(2)"
   ]
  },
  {
   "cell_type": "code",
   "execution_count": 9,
   "id": "aad35d63",
   "metadata": {},
   "outputs": [
    {
     "data": {
      "text/html": [
       "<div>\n",
       "<style scoped>\n",
       "    .dataframe tbody tr th:only-of-type {\n",
       "        vertical-align: middle;\n",
       "    }\n",
       "\n",
       "    .dataframe tbody tr th {\n",
       "        vertical-align: top;\n",
       "    }\n",
       "\n",
       "    .dataframe thead th {\n",
       "        text-align: right;\n",
       "    }\n",
       "</style>\n",
       "<table border=\"1\" class=\"dataframe\">\n",
       "  <thead>\n",
       "    <tr style=\"text-align: right;\">\n",
       "      <th></th>\n",
       "      <th>paperless_billing</th>\n",
       "      <th>contract_type</th>\n",
       "      <th>monthly_charges</th>\n",
       "      <th>total_charges</th>\n",
       "      <th>gender</th>\n",
       "      <th>senior_citizen</th>\n",
       "      <th>partner</th>\n",
       "      <th>dependents</th>\n",
       "      <th>tenure</th>\n",
       "      <th>phone_service</th>\n",
       "      <th>multiple_lines</th>\n",
       "      <th>online_security</th>\n",
       "      <th>online_backup</th>\n",
       "      <th>device_protection</th>\n",
       "      <th>tech_support</th>\n",
       "      <th>streaming_tv</th>\n",
       "      <th>streaming_movies</th>\n",
       "      <th>contract_type_id.1</th>\n",
       "      <th>churn</th>\n",
       "      <th>internet_service_type</th>\n",
       "      <th>gender_encoded</th>\n",
       "      <th>partner_encoded</th>\n",
       "      <th>dependents_encoded</th>\n",
       "      <th>phone_service_encoded</th>\n",
       "      <th>paperless_billing_encoded</th>\n",
       "      <th>churn_encoded</th>\n",
       "      <th>multiple_lines_No phone service</th>\n",
       "      <th>multiple_lines_Yes</th>\n",
       "      <th>online_security_No internet service</th>\n",
       "      <th>online_security_Yes</th>\n",
       "      <th>online_backup_No internet service</th>\n",
       "      <th>online_backup_Yes</th>\n",
       "      <th>device_protection_No internet service</th>\n",
       "      <th>device_protection_Yes</th>\n",
       "      <th>tech_support_No internet service</th>\n",
       "      <th>tech_support_Yes</th>\n",
       "      <th>streaming_tv_No internet service</th>\n",
       "      <th>streaming_tv_Yes</th>\n",
       "      <th>streaming_movies_No internet service</th>\n",
       "      <th>streaming_movies_Yes</th>\n",
       "      <th>contract_type_One year</th>\n",
       "      <th>contract_type_Two year</th>\n",
       "      <th>internet_service_type_Fiber optic</th>\n",
       "      <th>internet_service_type_None</th>\n",
       "    </tr>\n",
       "  </thead>\n",
       "  <tbody>\n",
       "    <tr>\n",
       "      <th>3305</th>\n",
       "      <td>Yes</td>\n",
       "      <td>Month-to-month</td>\n",
       "      <td>96.75</td>\n",
       "      <td>3403.40</td>\n",
       "      <td>Male</td>\n",
       "      <td>0</td>\n",
       "      <td>No</td>\n",
       "      <td>No</td>\n",
       "      <td>35</td>\n",
       "      <td>Yes</td>\n",
       "      <td>Yes</td>\n",
       "      <td>Yes</td>\n",
       "      <td>Yes</td>\n",
       "      <td>Yes</td>\n",
       "      <td>Yes</td>\n",
       "      <td>No</td>\n",
       "      <td>No</td>\n",
       "      <td>1</td>\n",
       "      <td>No</td>\n",
       "      <td>Fiber optic</td>\n",
       "      <td>0</td>\n",
       "      <td>0</td>\n",
       "      <td>0</td>\n",
       "      <td>1</td>\n",
       "      <td>1</td>\n",
       "      <td>0</td>\n",
       "      <td>0</td>\n",
       "      <td>1</td>\n",
       "      <td>0</td>\n",
       "      <td>1</td>\n",
       "      <td>0</td>\n",
       "      <td>1</td>\n",
       "      <td>0</td>\n",
       "      <td>1</td>\n",
       "      <td>0</td>\n",
       "      <td>1</td>\n",
       "      <td>0</td>\n",
       "      <td>0</td>\n",
       "      <td>0</td>\n",
       "      <td>0</td>\n",
       "      <td>0</td>\n",
       "      <td>0</td>\n",
       "      <td>1</td>\n",
       "      <td>0</td>\n",
       "    </tr>\n",
       "    <tr>\n",
       "      <th>6322</th>\n",
       "      <td>No</td>\n",
       "      <td>One year</td>\n",
       "      <td>19.75</td>\n",
       "      <td>624.15</td>\n",
       "      <td>Female</td>\n",
       "      <td>0</td>\n",
       "      <td>No</td>\n",
       "      <td>No</td>\n",
       "      <td>32</td>\n",
       "      <td>Yes</td>\n",
       "      <td>No</td>\n",
       "      <td>No internet service</td>\n",
       "      <td>No internet service</td>\n",
       "      <td>No internet service</td>\n",
       "      <td>No internet service</td>\n",
       "      <td>No internet service</td>\n",
       "      <td>No internet service</td>\n",
       "      <td>2</td>\n",
       "      <td>No</td>\n",
       "      <td>None</td>\n",
       "      <td>1</td>\n",
       "      <td>0</td>\n",
       "      <td>0</td>\n",
       "      <td>1</td>\n",
       "      <td>0</td>\n",
       "      <td>0</td>\n",
       "      <td>0</td>\n",
       "      <td>0</td>\n",
       "      <td>1</td>\n",
       "      <td>0</td>\n",
       "      <td>1</td>\n",
       "      <td>0</td>\n",
       "      <td>1</td>\n",
       "      <td>0</td>\n",
       "      <td>1</td>\n",
       "      <td>0</td>\n",
       "      <td>1</td>\n",
       "      <td>0</td>\n",
       "      <td>1</td>\n",
       "      <td>0</td>\n",
       "      <td>1</td>\n",
       "      <td>0</td>\n",
       "      <td>0</td>\n",
       "      <td>1</td>\n",
       "    </tr>\n",
       "  </tbody>\n",
       "</table>\n",
       "</div>"
      ],
      "text/plain": [
       "     paperless_billing   contract_type  monthly_charges  total_charges  \\\n",
       "3305               Yes  Month-to-month            96.75        3403.40   \n",
       "6322                No        One year            19.75         624.15   \n",
       "\n",
       "      gender  senior_citizen partner dependents  tenure phone_service  \\\n",
       "3305    Male               0      No         No      35           Yes   \n",
       "6322  Female               0      No         No      32           Yes   \n",
       "\n",
       "     multiple_lines      online_security        online_backup  \\\n",
       "3305            Yes                  Yes                  Yes   \n",
       "6322             No  No internet service  No internet service   \n",
       "\n",
       "        device_protection         tech_support         streaming_tv  \\\n",
       "3305                  Yes                  Yes                   No   \n",
       "6322  No internet service  No internet service  No internet service   \n",
       "\n",
       "         streaming_movies  contract_type_id.1 churn internet_service_type  \\\n",
       "3305                   No                   1    No           Fiber optic   \n",
       "6322  No internet service                   2    No                  None   \n",
       "\n",
       "      gender_encoded  partner_encoded  dependents_encoded  \\\n",
       "3305               0                0                   0   \n",
       "6322               1                0                   0   \n",
       "\n",
       "      phone_service_encoded  paperless_billing_encoded  churn_encoded  \\\n",
       "3305                      1                          1              0   \n",
       "6322                      1                          0              0   \n",
       "\n",
       "      multiple_lines_No phone service  multiple_lines_Yes  \\\n",
       "3305                                0                   1   \n",
       "6322                                0                   0   \n",
       "\n",
       "      online_security_No internet service  online_security_Yes  \\\n",
       "3305                                    0                    1   \n",
       "6322                                    1                    0   \n",
       "\n",
       "      online_backup_No internet service  online_backup_Yes  \\\n",
       "3305                                  0                  1   \n",
       "6322                                  1                  0   \n",
       "\n",
       "      device_protection_No internet service  device_protection_Yes  \\\n",
       "3305                                      0                      1   \n",
       "6322                                      1                      0   \n",
       "\n",
       "      tech_support_No internet service  tech_support_Yes  \\\n",
       "3305                                 0                 1   \n",
       "6322                                 1                 0   \n",
       "\n",
       "      streaming_tv_No internet service  streaming_tv_Yes  \\\n",
       "3305                                 0                 0   \n",
       "6322                                 1                 0   \n",
       "\n",
       "      streaming_movies_No internet service  streaming_movies_Yes  \\\n",
       "3305                                     0                     0   \n",
       "6322                                     1                     0   \n",
       "\n",
       "      contract_type_One year  contract_type_Two year  \\\n",
       "3305                       0                       0   \n",
       "6322                       1                       0   \n",
       "\n",
       "      internet_service_type_Fiber optic  internet_service_type_None  \n",
       "3305                                  1                           0  \n",
       "6322                                  0                           1  "
      ]
     },
     "execution_count": 9,
     "metadata": {},
     "output_type": "execute_result"
    }
   ],
   "source": [
    "telco_test.head(2)"
   ]
  },
  {
   "cell_type": "code",
   "execution_count": 10,
   "id": "5c487148",
   "metadata": {},
   "outputs": [
    {
     "data": {
      "text/plain": [
       "((3937, 44), (1688, 44), (1407, 44))"
      ]
     },
     "execution_count": 10,
     "metadata": {},
     "output_type": "execute_result"
    }
   ],
   "source": [
    "telco_train.shape, telco_validate.shape, telco_test.shape"
   ]
  }
 ],
 "metadata": {
  "kernelspec": {
   "display_name": "Python 3 (ipykernel)",
   "language": "python",
   "name": "python3"
  },
  "language_info": {
   "codemirror_mode": {
    "name": "ipython",
    "version": 3
   },
   "file_extension": ".py",
   "mimetype": "text/x-python",
   "name": "python",
   "nbconvert_exporter": "python",
   "pygments_lexer": "ipython3",
   "version": "3.9.7"
  }
 },
 "nbformat": 4,
 "nbformat_minor": 5
}
