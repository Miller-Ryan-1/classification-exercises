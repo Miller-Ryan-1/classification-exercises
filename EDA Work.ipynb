{
 "cells": [
  {
   "cell_type": "code",
   "execution_count": 1,
   "id": "610861b7",
   "metadata": {},
   "outputs": [],
   "source": [
    "import pandas as pd\n",
    "import numpy as np\n",
    "import matplotlib.pyplot as plt\n",
    "import seaborn as sns\n",
    "import acquire\n",
    "import prepare\n",
    "import warnings\n",
    "warnings.filterwarnings(\"ignore\")"
   ]
  },
  {
   "cell_type": "markdown",
   "id": "870b1a59",
   "metadata": {},
   "source": [
    "## I. Iris Data"
   ]
  },
  {
   "cell_type": "markdown",
   "id": "a6dbe50f",
   "metadata": {},
   "source": [
    "#### 1. Univariate Analysis"
   ]
  },
  {
   "cell_type": "code",
   "execution_count": 2,
   "id": "ac4f23b6",
   "metadata": {},
   "outputs": [
    {
     "data": {
      "text/html": [
       "<div>\n",
       "<style scoped>\n",
       "    .dataframe tbody tr th:only-of-type {\n",
       "        vertical-align: middle;\n",
       "    }\n",
       "\n",
       "    .dataframe tbody tr th {\n",
       "        vertical-align: top;\n",
       "    }\n",
       "\n",
       "    .dataframe thead th {\n",
       "        text-align: right;\n",
       "    }\n",
       "</style>\n",
       "<table border=\"1\" class=\"dataframe\">\n",
       "  <thead>\n",
       "    <tr style=\"text-align: right;\">\n",
       "      <th></th>\n",
       "      <th>species</th>\n",
       "      <th>sepal_length</th>\n",
       "      <th>sepal_width</th>\n",
       "      <th>petal_length</th>\n",
       "      <th>petal_width</th>\n",
       "      <th>species_versicolor</th>\n",
       "      <th>species_virginica</th>\n",
       "    </tr>\n",
       "  </thead>\n",
       "  <tbody>\n",
       "    <tr>\n",
       "      <th>79</th>\n",
       "      <td>versicolor</td>\n",
       "      <td>5.7</td>\n",
       "      <td>2.6</td>\n",
       "      <td>3.5</td>\n",
       "      <td>1.0</td>\n",
       "      <td>1</td>\n",
       "      <td>0</td>\n",
       "    </tr>\n",
       "    <tr>\n",
       "      <th>36</th>\n",
       "      <td>setosa</td>\n",
       "      <td>5.5</td>\n",
       "      <td>3.5</td>\n",
       "      <td>1.3</td>\n",
       "      <td>0.2</td>\n",
       "      <td>0</td>\n",
       "      <td>0</td>\n",
       "    </tr>\n",
       "  </tbody>\n",
       "</table>\n",
       "</div>"
      ],
      "text/plain": [
       "       species  sepal_length  sepal_width  petal_length  petal_width  \\\n",
       "79  versicolor           5.7          2.6           3.5          1.0   \n",
       "36      setosa           5.5          3.5           1.3          0.2   \n",
       "\n",
       "    species_versicolor  species_virginica  \n",
       "79                   1                  0  \n",
       "36                   0                  0  "
      ]
     },
     "execution_count": 2,
     "metadata": {},
     "output_type": "execute_result"
    }
   ],
   "source": [
    "df_iris = acquire.get_iris_data()\n",
    "df_iris_train, df_iris_test, df_iris_validate = prepare.prep_iris(df_iris)\n",
    "dfit = df_iris_train\n",
    "dfitest = df_iris_test\n",
    "dfiv = df_iris_validate\n",
    "dfit.head(2)"
   ]
  },
  {
   "cell_type": "markdown",
   "id": "057b064c",
   "metadata": {},
   "source": [
    "Checked to see the number of each species in each TVT dataframe - all are in direct proportion to the total number of records/rows in each. "
   ]
  },
  {
   "cell_type": "code",
   "execution_count": 19,
   "id": "a7f2dc13",
   "metadata": {},
   "outputs": [],
   "source": [
    "setosa_train = dfit[dfit.species == 'setosa']\n",
    "versicolor_train = dfit[dfit.species == 'versicolor']\n",
    "virginica_train = dfit[dfit.species == 'virginica']"
   ]
  },
  {
   "cell_type": "code",
   "execution_count": 20,
   "id": "8954507b",
   "metadata": {},
   "outputs": [
    {
     "data": {
      "text/plain": [
       "(28, 28, 28)"
      ]
     },
     "execution_count": 20,
     "metadata": {},
     "output_type": "execute_result"
    }
   ],
   "source": [
    "virginica_train.shape[0], versicolor_train.shape[0], setosa_train.shape[0]"
   ]
  },
  {
   "cell_type": "code",
   "execution_count": 26,
   "id": "7afbcc22",
   "metadata": {},
   "outputs": [
    {
     "data": {
      "text/plain": [
       "<AxesSubplot:>"
      ]
     },
     "execution_count": 26,
     "metadata": {},
     "output_type": "execute_result"
    },
    {
     "data": {
      "image/png": "[encoded data removed]",
      "text/plain": [
       "<Figure size 432x288 with 1 Axes>"
      ]
     },
     "metadata": {
      "needs_background": "light"
     },
     "output_type": "display_data"
    }
   ],
   "source": [
    "dfit.species.hist()"
   ]
  },
  {
   "cell_type": "code",
   "execution_count": 21,
   "id": "40c97231",
   "metadata": {},
   "outputs": [
    {
     "data": {
      "text/plain": [
       "(10, 10, 10)"
      ]
     },
     "execution_count": 21,
     "metadata": {},
     "output_type": "execute_result"
    }
   ],
   "source": [
    "dfiv[dfiv.species == 'setosa'].shape[0], dfiv[dfiv.species == 'versicolor'].shape[0], dfiv[dfiv.species == 'virginica'].shape[0]"
   ]
  },
  {
   "cell_type": "markdown",
   "id": "1cd551e6",
   "metadata": {},
   "source": [
    "Get some general info and do some univariate plotting."
   ]
  },
  {
   "cell_type": "code",
   "execution_count": 22,
   "id": "6f086e8a",
   "metadata": {},
   "outputs": [
    {
     "name": "stdout",
     "output_type": "stream",
     "text": [
      "<class 'pandas.core.frame.DataFrame'>\n",
      "Int64Index: 84 entries, 79 to 73\n",
      "Data columns (total 7 columns):\n",
      " #   Column              Non-Null Count  Dtype  \n",
      "---  ------              --------------  -----  \n",
      " 0   species             84 non-null     object \n",
      " 1   sepal_length        84 non-null     float64\n",
      " 2   sepal_width         84 non-null     float64\n",
      " 3   petal_length        84 non-null     float64\n",
      " 4   petal_width         84 non-null     float64\n",
      " 5   species_versicolor  84 non-null     uint8  \n",
      " 6   species_virginica   84 non-null     uint8  \n",
      "dtypes: float64(4), object(1), uint8(2)\n",
      "memory usage: 4.1+ KB\n"
     ]
    }
   ],
   "source": [
    "dfit.info()"
   ]
  },
  {
   "cell_type": "code",
   "execution_count": 23,
   "id": "ed640662",
   "metadata": {},
   "outputs": [
    {
     "data": {
      "text/plain": [
       "['sepal_length', 'sepal_width', 'petal_length', 'petal_width']"
      ]
     },
     "execution_count": 23,
     "metadata": {},
     "output_type": "execute_result"
    }
   ],
   "source": [
    "numcols = [col for col in dfit.columns if dfit[col].dtype == 'float']\n",
    "numcols"
   ]
  },
  {
   "cell_type": "code",
   "execution_count": 119,
   "id": "d278ec5e",
   "metadata": {},
   "outputs": [
    {
     "name": "stdout",
     "output_type": "stream",
     "text": [
      "sepal_length\n"
     ]
    },
    {
     "data": {
      "image/png": "[encoded data removed]",
      "text/plain": [
       "<Figure size 576x288 with 2 Axes>"
      ]
     },
     "metadata": {
      "needs_background": "light"
     },
     "output_type": "display_data"
    },
    {
     "name": "stdout",
     "output_type": "stream",
     "text": [
      "sepal_width\n"
     ]
    },
    {
     "data": {
      "image/png": "[encoded data removed]",
      "text/plain": [
       "<Figure size 576x288 with 2 Axes>"
      ]
     },
     "metadata": {
      "needs_background": "light"
     },
     "output_type": "display_data"
    },
    {
     "name": "stdout",
     "output_type": "stream",
     "text": [
      "petal_length\n"
     ]
    },
    {
     "data": {
      "image/png": "[encoded data removed]",
      "text/plain": [
       "<Figure size 576x288 with 2 Axes>"
      ]
     },
     "metadata": {
      "needs_background": "light"
     },
     "output_type": "display_data"
    },
    {
     "name": "stdout",
     "output_type": "stream",
     "text": [
      "petal_width\n"
     ]
    },
    {
     "data": {
      "image/png": "[encoded data removed]",
      "text/plain": [
       "<Figure size 576x288 with 2 Axes>"
      ]
     },
     "metadata": {
      "needs_background": "light"
     },
     "output_type": "display_data"
    }
   ],
   "source": [
    "for x in numcols:\n",
    "    plt.figure(figsize = (8,4))\n",
    "    plt.subplot(121)\n",
    "    sns.boxplot(y = dfit[x])\n",
    "    plt.subplot(122)\n",
    "    print(x)\n",
    "    dfit[x].hist()\n",
    "    plt.show()"
   ]
  },
  {
   "cell_type": "markdown",
   "id": "c81fdfd9",
   "metadata": {},
   "source": [
    "Doesn't seem to be much info to glean from these univariate plots beyond there being a ot of counts with low petal length and width taht seem to be seperate from the rest.  Could these be a species?  Or maybe just juvenile plants.  "
   ]
  },
  {
   "cell_type": "code",
   "execution_count": 51,
   "id": "356fb2a6",
   "metadata": {},
   "outputs": [
    {
     "data": {
      "text/plain": [
       "['species']"
      ]
     },
     "execution_count": 51,
     "metadata": {},
     "output_type": "execute_result"
    }
   ],
   "source": [
    "catcols = [col for col in dfit.columns if dfit[col].dtype == 'object']\n",
    "catcols"
   ]
  },
  {
   "cell_type": "markdown",
   "id": "95dc2794",
   "metadata": {},
   "source": [
    "#### 2. Bivariate Analysis"
   ]
  },
  {
   "cell_type": "markdown",
   "id": "926f8201",
   "metadata": {},
   "source": [
    "Questions to explore:\n",
    "- Is there a relationship between each of the sepal/petal lengths and widths and species?"
   ]
  },
  {
   "cell_type": "markdown",
   "id": "b3d413b3",
   "metadata": {},
   "source": [
    "Creating a boxplot and descriptive statistics showing feature sizes of diferent species:"
   ]
  },
  {
   "cell_type": "code",
   "execution_count": 52,
   "id": "c57fda38",
   "metadata": {},
   "outputs": [
    {
     "data": {
      "text/plain": [
       "[5.870238095238095, 3.0750000000000006, 3.7714285714285714, 1.2035714285714285]"
      ]
     },
     "execution_count": 52,
     "metadata": {},
     "output_type": "execute_result"
    }
   ],
   "source": [
    "means = []\n",
    "for i in range(4):\n",
    "    means.append(dfit[numcols[i]].mean())\n",
    "means    "
   ]
  },
  {
   "cell_type": "code",
   "execution_count": 124,
   "id": "c26d39b0",
   "metadata": {},
   "outputs": [
    {
     "data": {
      "image/png": "[encoded data removed]",
      "text/plain": [
       "<Figure size 1152x576 with 4 Axes>"
      ]
     },
     "metadata": {
      "needs_background": "light"
     },
     "output_type": "display_data"
    },
    {
     "data": {
      "image/png": "[encoded data removed]",
      "text/plain": [
       "<Figure size 1152x288 with 4 Axes>"
      ]
     },
     "metadata": {
      "needs_background": "light"
     },
     "output_type": "display_data"
    }
   ],
   "source": [
    "plt.figure(figsize = (16,8))\n",
    "for x in range(4):\n",
    "    plt.subplot(2,4,x+1)\n",
    "    sns.boxplot(data = dfit, x = 'species', y = numcols[x])\n",
    "    plt.axhline(means[x], c='purple')\n",
    "plt.show()\n",
    "\n",
    "plt.figure(figsize = (16,4))\n",
    "for x in range(4):\n",
    "    plt.subplot(2,4,x+1)\n",
    "    sns.barplot(data = dfit, x = 'species', y = numcols[x])\n",
    "    plt.axhline(means[x], c='purple')\n",
    "plt.show()"
   ]
  },
  {
   "cell_type": "markdown",
   "id": "bb876d85",
   "metadata": {},
   "source": [
    "Setosa plants are clearly differentiated on almost all aspects, in particular petals.  The other two are very similar and require a deeper analysis.  Therefore, we need to run some hypothesis tests to see if they are different.  As such:\n",
    "- Comparing continuous with categorical, using Mann-Whiteney (as n<30 for each category fails t-test reqs)\n",
    "- Set confidence level to 95%, so alpha = .05"
   ]
  },
  {
   "cell_type": "code",
   "execution_count": 54,
   "id": "9d9f340c",
   "metadata": {},
   "outputs": [],
   "source": [
    "H0_1 = 'do not reject null hypothesis there is no difference between the mean of the two samples'\n",
    "Ha_1 = 'we reject the null hypothesis and accept alternative hypothesis that there is a difference between the mean of the two samples'\n",
    "alpha = .05"
   ]
  },
  {
   "cell_type": "code",
   "execution_count": 84,
   "id": "1ef0cd57",
   "metadata": {},
   "outputs": [],
   "source": [
    "#Already removed\n",
    "#virginica_train.drop(columns=['species_versicolor','species_virginica'], inplace=True)\n",
    "#versicolor_train.drop(columns=['species_versicolor','species_virginica'], inplace=True)"
   ]
  },
  {
   "cell_type": "code",
   "execution_count": 55,
   "id": "39d3adad",
   "metadata": {},
   "outputs": [],
   "source": [
    "import scipy.stats as stats"
   ]
  },
  {
   "cell_type": "code",
   "execution_count": 56,
   "id": "51f2e17c",
   "metadata": {},
   "outputs": [
    {
     "data": {
      "text/plain": [
       "(776.5, 2.9479835715150625e-10)"
      ]
     },
     "execution_count": 56,
     "metadata": {},
     "output_type": "execute_result"
    }
   ],
   "source": [
    "u, p = stats.mannwhitneyu(virginica_train.petal_length, versicolor_train.petal_length)\n",
    "u,p"
   ]
  },
  {
   "cell_type": "code",
   "execution_count": 60,
   "id": "4f88e0bd",
   "metadata": {},
   "outputs": [
    {
     "name": "stdout",
     "output_type": "stream",
     "text": [
      "Comparing means of: sepal_length between Virginica and Vertosa\n",
      "0.0000 is less than .05, therefore we reject the null hypothesis and accept alternative hypothesis that there is a difference between the mean of the two samples\n",
      "-----\n",
      "-----\n",
      "Comparing means of: sepal_width between Virginica and Vertosa\n",
      "0.0526 is greater than .05, therefore do not reject null hypothesis there is no difference between the mean of the two samples\n",
      "-----\n",
      "-----\n",
      "Comparing means of: petal_length between Virginica and Vertosa\n",
      "0.0000 is less than .05, therefore we reject the null hypothesis and accept alternative hypothesis that there is a difference between the mean of the two samples\n",
      "-----\n",
      "-----\n",
      "Comparing means of: petal_width between Virginica and Vertosa\n",
      "0.0000 is less than .05, therefore we reject the null hypothesis and accept alternative hypothesis that there is a difference between the mean of the two samples\n",
      "-----\n",
      "-----\n"
     ]
    }
   ],
   "source": [
    "#For Mann-Whitney U test - you are technically not comparing means, but odds around means.  so,\n",
    "#Alt: the probability of a randomly selected observation from viriginica is larger than a randomly selected observation from versicolor\n",
    "for x in numcols:\n",
    "    print('Comparing means of: ' + x + ' between Virginica and Vertosa')\n",
    "    u,p = stats.mannwhitneyu(virginica_train[x], versicolor_train[x])\n",
    "    if p < alpha:\n",
    "        print(f'{p:.4f} is less than .05, therefore {Ha_1}')\n",
    "    else:\n",
    "        print(f'{p:.4f} is greater than .05, therefore {H0_1}')\n",
    "    print('-----\\n-----')"
   ]
  },
  {
   "cell_type": "markdown",
   "id": "33098330",
   "metadata": {},
   "source": [
    "Thus, other than sepal width we can clearly differntiate between the two species via their means."
   ]
  },
  {
   "cell_type": "code",
   "execution_count": 65,
   "id": "1f853951",
   "metadata": {},
   "outputs": [
    {
     "data": {
      "text/plain": [
       "<seaborn.axisgrid.PairGrid at 0x7fa594607d00>"
      ]
     },
     "execution_count": 65,
     "metadata": {},
     "output_type": "execute_result"
    },
    {
     "data": {
      "image/png": "[encoded data removed]",
      "text/plain": [
       "<Figure size 804.75x720 with 14 Axes>"
      ]
     },
     "metadata": {
      "needs_background": "light"
     },
     "output_type": "display_data"
    }
   ],
   "source": [
    "sns.pairplot(dfit.drop(columns=['species_versicolor','species_virginica']), corner=True, hue='species')"
   ]
  },
  {
   "cell_type": "code",
   "execution_count": 68,
   "id": "0d2a97c4",
   "metadata": {},
   "outputs": [
    {
     "data": {
      "text/plain": [
       "<seaborn.axisgrid.FacetGrid at 0x7fa560fca940>"
      ]
     },
     "execution_count": 68,
     "metadata": {},
     "output_type": "execute_result"
    },
    {
     "data": {
      "image/png": "[encoded data removed]",
      "text/plain": [
       "<Figure size 444.75x360 with 1 Axes>"
      ]
     },
     "metadata": {
      "needs_background": "light"
     },
     "output_type": "display_data"
    }
   ],
   "source": [
    "sns.relplot(data=dfit, x='sepal_length', y='sepal_width', hue='species')"
   ]
  },
  {
   "cell_type": "code",
   "execution_count": 70,
   "id": "c99a7a31",
   "metadata": {},
   "outputs": [],
   "source": [
    "##sns.swarmplot - how do I do this?"
   ]
  },
  {
   "cell_type": "code",
   "execution_count": 76,
   "id": "613a8653",
   "metadata": {},
   "outputs": [
    {
     "data": {
      "text/html": [
       "<div>\n",
       "<style scoped>\n",
       "    .dataframe tbody tr th:only-of-type {\n",
       "        vertical-align: middle;\n",
       "    }\n",
       "\n",
       "    .dataframe tbody tr th {\n",
       "        vertical-align: top;\n",
       "    }\n",
       "\n",
       "    .dataframe thead th {\n",
       "        text-align: right;\n",
       "    }\n",
       "</style>\n",
       "<table border=\"1\" class=\"dataframe\">\n",
       "  <thead>\n",
       "    <tr style=\"text-align: right;\">\n",
       "      <th></th>\n",
       "      <th>species</th>\n",
       "      <th>sepal_length</th>\n",
       "      <th>sepal_width</th>\n",
       "      <th>petal_length</th>\n",
       "      <th>petal_width</th>\n",
       "      <th>species_versicolor</th>\n",
       "      <th>species_virginica</th>\n",
       "      <th>sepal_area</th>\n",
       "    </tr>\n",
       "  </thead>\n",
       "  <tbody>\n",
       "    <tr>\n",
       "      <th>79</th>\n",
       "      <td>versicolor</td>\n",
       "      <td>5.7</td>\n",
       "      <td>2.6</td>\n",
       "      <td>3.5</td>\n",
       "      <td>1.0</td>\n",
       "      <td>1</td>\n",
       "      <td>0</td>\n",
       "      <td>14.82</td>\n",
       "    </tr>\n",
       "    <tr>\n",
       "      <th>36</th>\n",
       "      <td>setosa</td>\n",
       "      <td>5.5</td>\n",
       "      <td>3.5</td>\n",
       "      <td>1.3</td>\n",
       "      <td>0.2</td>\n",
       "      <td>0</td>\n",
       "      <td>0</td>\n",
       "      <td>19.25</td>\n",
       "    </tr>\n",
       "    <tr>\n",
       "      <th>133</th>\n",
       "      <td>virginica</td>\n",
       "      <td>6.3</td>\n",
       "      <td>2.8</td>\n",
       "      <td>5.1</td>\n",
       "      <td>1.5</td>\n",
       "      <td>0</td>\n",
       "      <td>1</td>\n",
       "      <td>17.64</td>\n",
       "    </tr>\n",
       "    <tr>\n",
       "      <th>95</th>\n",
       "      <td>versicolor</td>\n",
       "      <td>5.7</td>\n",
       "      <td>3.0</td>\n",
       "      <td>4.2</td>\n",
       "      <td>1.2</td>\n",
       "      <td>1</td>\n",
       "      <td>0</td>\n",
       "      <td>17.10</td>\n",
       "    </tr>\n",
       "    <tr>\n",
       "      <th>18</th>\n",
       "      <td>setosa</td>\n",
       "      <td>5.7</td>\n",
       "      <td>3.8</td>\n",
       "      <td>1.7</td>\n",
       "      <td>0.3</td>\n",
       "      <td>0</td>\n",
       "      <td>0</td>\n",
       "      <td>21.66</td>\n",
       "    </tr>\n",
       "    <tr>\n",
       "      <th>...</th>\n",
       "      <td>...</td>\n",
       "      <td>...</td>\n",
       "      <td>...</td>\n",
       "      <td>...</td>\n",
       "      <td>...</td>\n",
       "      <td>...</td>\n",
       "      <td>...</td>\n",
       "      <td>...</td>\n",
       "    </tr>\n",
       "    <tr>\n",
       "      <th>11</th>\n",
       "      <td>setosa</td>\n",
       "      <td>4.8</td>\n",
       "      <td>3.4</td>\n",
       "      <td>1.6</td>\n",
       "      <td>0.2</td>\n",
       "      <td>0</td>\n",
       "      <td>0</td>\n",
       "      <td>16.32</td>\n",
       "    </tr>\n",
       "    <tr>\n",
       "      <th>85</th>\n",
       "      <td>versicolor</td>\n",
       "      <td>6.0</td>\n",
       "      <td>3.4</td>\n",
       "      <td>4.5</td>\n",
       "      <td>1.6</td>\n",
       "      <td>1</td>\n",
       "      <td>0</td>\n",
       "      <td>20.40</td>\n",
       "    </tr>\n",
       "    <tr>\n",
       "      <th>55</th>\n",
       "      <td>versicolor</td>\n",
       "      <td>5.7</td>\n",
       "      <td>2.8</td>\n",
       "      <td>4.5</td>\n",
       "      <td>1.3</td>\n",
       "      <td>1</td>\n",
       "      <td>0</td>\n",
       "      <td>15.96</td>\n",
       "    </tr>\n",
       "    <tr>\n",
       "      <th>44</th>\n",
       "      <td>setosa</td>\n",
       "      <td>5.1</td>\n",
       "      <td>3.8</td>\n",
       "      <td>1.9</td>\n",
       "      <td>0.4</td>\n",
       "      <td>0</td>\n",
       "      <td>0</td>\n",
       "      <td>19.38</td>\n",
       "    </tr>\n",
       "    <tr>\n",
       "      <th>73</th>\n",
       "      <td>versicolor</td>\n",
       "      <td>6.1</td>\n",
       "      <td>2.8</td>\n",
       "      <td>4.7</td>\n",
       "      <td>1.2</td>\n",
       "      <td>1</td>\n",
       "      <td>0</td>\n",
       "      <td>17.08</td>\n",
       "    </tr>\n",
       "  </tbody>\n",
       "</table>\n",
       "<p>84 rows × 8 columns</p>\n",
       "</div>"
      ],
      "text/plain": [
       "        species  sepal_length  sepal_width  petal_length  petal_width  \\\n",
       "79   versicolor           5.7          2.6           3.5          1.0   \n",
       "36       setosa           5.5          3.5           1.3          0.2   \n",
       "133   virginica           6.3          2.8           5.1          1.5   \n",
       "95   versicolor           5.7          3.0           4.2          1.2   \n",
       "18       setosa           5.7          3.8           1.7          0.3   \n",
       "..          ...           ...          ...           ...          ...   \n",
       "11       setosa           4.8          3.4           1.6          0.2   \n",
       "85   versicolor           6.0          3.4           4.5          1.6   \n",
       "55   versicolor           5.7          2.8           4.5          1.3   \n",
       "44       setosa           5.1          3.8           1.9          0.4   \n",
       "73   versicolor           6.1          2.8           4.7          1.2   \n",
       "\n",
       "     species_versicolor  species_virginica  sepal_area  \n",
       "79                    1                  0       14.82  \n",
       "36                    0                  0       19.25  \n",
       "133                   0                  1       17.64  \n",
       "95                    1                  0       17.10  \n",
       "18                    0                  0       21.66  \n",
       "..                  ...                ...         ...  \n",
       "11                    0                  0       16.32  \n",
       "85                    1                  0       20.40  \n",
       "55                    1                  0       15.96  \n",
       "44                    0                  0       19.38  \n",
       "73                    1                  0       17.08  \n",
       "\n",
       "[84 rows x 8 columns]"
      ]
     },
     "execution_count": 76,
     "metadata": {},
     "output_type": "execute_result"
    }
   ],
   "source": [
    "dfit['sepal_area'] = (dfit['sepal_length'] * dfit['sepal_width'])\n",
    "dfit"
   ]
  },
  {
   "cell_type": "code",
   "execution_count": 74,
   "id": "1ab63c4b",
   "metadata": {},
   "outputs": [
    {
     "data": {
      "text/plain": [
       "<AxesSubplot:xlabel='species', ylabel='sepal_area'>"
      ]
     },
     "execution_count": 74,
     "metadata": {},
     "output_type": "execute_result"
    },
    {
     "data": {
      "image/png": "[encoded data removed]",
      "text/plain": [
       "<Figure size 432x288 with 1 Axes>"
      ]
     },
     "metadata": {
      "needs_background": "light"
     },
     "output_type": "display_data"
    }
   ],
   "source": [
    "sns.boxplot(data=dfit, y='sepal_area', x='species')"
   ]
  },
  {
   "cell_type": "code",
   "execution_count": 79,
   "id": "bde679bf",
   "metadata": {},
   "outputs": [],
   "source": [
    "virginica_train['sepal_area'] = (virginica_train['sepal_length'] * virginica_train['sepal_width'])\n",
    "versicolor_train['sepal_area'] = (versicolor_train['sepal_length'] * versicolor_train['sepal_width'])\n",
    "setosa_train['sepal_area'] = (setosa_train['sepal_length'] * setosa_train['sepal_width'])"
   ]
  },
  {
   "cell_type": "code",
   "execution_count": 80,
   "id": "be43932a",
   "metadata": {},
   "outputs": [
    {
     "data": {
      "text/plain": [
       "(617.5, 0.0002261498645941265)"
      ]
     },
     "execution_count": 80,
     "metadata": {},
     "output_type": "execute_result"
    }
   ],
   "source": [
    "u, p = stats.mannwhitneyu(virginica_train.sepal_area, versicolor_train.sepal_area)\n",
    "u,p"
   ]
  },
  {
   "cell_type": "code",
   "execution_count": 82,
   "id": "a5ec4c51",
   "metadata": {},
   "outputs": [
    {
     "data": {
      "text/plain": [
       "(524.0, 0.031149014106469607)"
      ]
     },
     "execution_count": 82,
     "metadata": {},
     "output_type": "execute_result"
    }
   ],
   "source": [
    "u, p = stats.mannwhitneyu(virginica_train.sepal_area, setosa_train.sepal_area)\n",
    "u,p"
   ]
  },
  {
   "cell_type": "code",
   "execution_count": 83,
   "id": "afb2fa9c",
   "metadata": {},
   "outputs": [
    {
     "data": {
      "text/plain": [
       "(487.0, 0.12143751432042693)"
      ]
     },
     "execution_count": 83,
     "metadata": {},
     "output_type": "execute_result"
    }
   ],
   "source": [
    "u, p = stats.mannwhitneyu(setosa_train.sepal_area, versicolor_train.sepal_area)\n",
    "u,p"
   ]
  },
  {
   "cell_type": "markdown",
   "id": "09bb7bd1",
   "metadata": {},
   "source": [
    "Area is a poor determinant to differentiate Setosa from the others, however it is usable to differentiate between Virginia and Vertosa."
   ]
  },
  {
   "cell_type": "code",
   "execution_count": null,
   "id": "add9db9f",
   "metadata": {},
   "outputs": [],
   "source": [
    "#Don't forget to use heatmaps - powerful for exploration!!!"
   ]
  },
  {
   "cell_type": "markdown",
   "id": "51fddb2f",
   "metadata": {},
   "source": [
    "### II. Titanic Data"
   ]
  },
  {
   "cell_type": "code",
   "execution_count": 85,
   "id": "c7ce5a57",
   "metadata": {},
   "outputs": [
    {
     "data": {
      "text/html": [
       "<div>\n",
       "<style scoped>\n",
       "    .dataframe tbody tr th:only-of-type {\n",
       "        vertical-align: middle;\n",
       "    }\n",
       "\n",
       "    .dataframe tbody tr th {\n",
       "        vertical-align: top;\n",
       "    }\n",
       "\n",
       "    .dataframe thead th {\n",
       "        text-align: right;\n",
       "    }\n",
       "</style>\n",
       "<table border=\"1\" class=\"dataframe\">\n",
       "  <thead>\n",
       "    <tr style=\"text-align: right;\">\n",
       "      <th></th>\n",
       "      <th>survived</th>\n",
       "      <th>pclass</th>\n",
       "      <th>sex</th>\n",
       "      <th>age</th>\n",
       "      <th>Siblings/Spouses</th>\n",
       "      <th>Parents/Children</th>\n",
       "      <th>fare</th>\n",
       "      <th>embark_town</th>\n",
       "      <th>alone</th>\n",
       "      <th>sex_male</th>\n",
       "      <th>embark_town_Queenstown</th>\n",
       "      <th>embark_town_Southampton</th>\n",
       "    </tr>\n",
       "  </thead>\n",
       "  <tbody>\n",
       "    <tr>\n",
       "      <th>583</th>\n",
       "      <td>0</td>\n",
       "      <td>1</td>\n",
       "      <td>male</td>\n",
       "      <td>36.0</td>\n",
       "      <td>0</td>\n",
       "      <td>0</td>\n",
       "      <td>40.125</td>\n",
       "      <td>Cherbourg</td>\n",
       "      <td>1</td>\n",
       "      <td>1</td>\n",
       "      <td>0</td>\n",
       "      <td>0</td>\n",
       "    </tr>\n",
       "    <tr>\n",
       "      <th>165</th>\n",
       "      <td>1</td>\n",
       "      <td>3</td>\n",
       "      <td>male</td>\n",
       "      <td>9.0</td>\n",
       "      <td>0</td>\n",
       "      <td>2</td>\n",
       "      <td>20.525</td>\n",
       "      <td>Southampton</td>\n",
       "      <td>0</td>\n",
       "      <td>1</td>\n",
       "      <td>0</td>\n",
       "      <td>1</td>\n",
       "    </tr>\n",
       "  </tbody>\n",
       "</table>\n",
       "</div>"
      ],
      "text/plain": [
       "     survived  pclass   sex   age  Siblings/Spouses  Parents/Children    fare  \\\n",
       "583         0       1  male  36.0                 0                 0  40.125   \n",
       "165         1       3  male   9.0                 0                 2  20.525   \n",
       "\n",
       "     embark_town  alone  sex_male  embark_town_Queenstown  \\\n",
       "583    Cherbourg      1         1                       0   \n",
       "165  Southampton      0         1                       0   \n",
       "\n",
       "     embark_town_Southampton  \n",
       "583                        0  \n",
       "165                        1  "
      ]
     },
     "execution_count": 85,
     "metadata": {},
     "output_type": "execute_result"
    }
   ],
   "source": [
    "df_titanic = acquire.get_titanic_data()\n",
    "df_titanic_train, df_titanic_test, df_titanic_validate = prepare.prep_titanic(df_titanic)\n",
    "dftt = df_titanic_train\n",
    "dfttest = df_titanic_test\n",
    "dftv = df_titanic_validate\n",
    "dftt.head(2)"
   ]
  },
  {
   "cell_type": "code",
   "execution_count": 88,
   "id": "a75f5654",
   "metadata": {},
   "outputs": [],
   "source": [
    "dfttmod = dftt.drop(columns=['embark_town_Queenstown', 'embark_town_Southampton'])\n",
    "dfttmod.drop(columns=['age'], inplace=True)"
   ]
  },
  {
   "cell_type": "code",
   "execution_count": 89,
   "id": "b0efb450",
   "metadata": {},
   "outputs": [
    {
     "data": {
      "text/html": [
       "<div>\n",
       "<style scoped>\n",
       "    .dataframe tbody tr th:only-of-type {\n",
       "        vertical-align: middle;\n",
       "    }\n",
       "\n",
       "    .dataframe tbody tr th {\n",
       "        vertical-align: top;\n",
       "    }\n",
       "\n",
       "    .dataframe thead th {\n",
       "        text-align: right;\n",
       "    }\n",
       "</style>\n",
       "<table border=\"1\" class=\"dataframe\">\n",
       "  <thead>\n",
       "    <tr style=\"text-align: right;\">\n",
       "      <th></th>\n",
       "      <th>survived</th>\n",
       "      <th>pclass</th>\n",
       "      <th>sex</th>\n",
       "      <th>Siblings/Spouses</th>\n",
       "      <th>Parents/Children</th>\n",
       "      <th>fare</th>\n",
       "      <th>embark_town</th>\n",
       "      <th>alone</th>\n",
       "      <th>sex_male</th>\n",
       "    </tr>\n",
       "  </thead>\n",
       "  <tbody>\n",
       "    <tr>\n",
       "      <th>583</th>\n",
       "      <td>0</td>\n",
       "      <td>1</td>\n",
       "      <td>male</td>\n",
       "      <td>0</td>\n",
       "      <td>0</td>\n",
       "      <td>40.1250</td>\n",
       "      <td>Cherbourg</td>\n",
       "      <td>1</td>\n",
       "      <td>1</td>\n",
       "    </tr>\n",
       "    <tr>\n",
       "      <th>165</th>\n",
       "      <td>1</td>\n",
       "      <td>3</td>\n",
       "      <td>male</td>\n",
       "      <td>0</td>\n",
       "      <td>2</td>\n",
       "      <td>20.5250</td>\n",
       "      <td>Southampton</td>\n",
       "      <td>0</td>\n",
       "      <td>1</td>\n",
       "    </tr>\n",
       "    <tr>\n",
       "      <th>50</th>\n",
       "      <td>0</td>\n",
       "      <td>3</td>\n",
       "      <td>male</td>\n",
       "      <td>4</td>\n",
       "      <td>1</td>\n",
       "      <td>39.6875</td>\n",
       "      <td>Southampton</td>\n",
       "      <td>0</td>\n",
       "      <td>1</td>\n",
       "    </tr>\n",
       "    <tr>\n",
       "      <th>259</th>\n",
       "      <td>1</td>\n",
       "      <td>2</td>\n",
       "      <td>female</td>\n",
       "      <td>0</td>\n",
       "      <td>1</td>\n",
       "      <td>26.0000</td>\n",
       "      <td>Southampton</td>\n",
       "      <td>0</td>\n",
       "      <td>0</td>\n",
       "    </tr>\n",
       "    <tr>\n",
       "      <th>306</th>\n",
       "      <td>1</td>\n",
       "      <td>1</td>\n",
       "      <td>female</td>\n",
       "      <td>0</td>\n",
       "      <td>0</td>\n",
       "      <td>110.8833</td>\n",
       "      <td>Cherbourg</td>\n",
       "      <td>1</td>\n",
       "      <td>0</td>\n",
       "    </tr>\n",
       "    <tr>\n",
       "      <th>...</th>\n",
       "      <td>...</td>\n",
       "      <td>...</td>\n",
       "      <td>...</td>\n",
       "      <td>...</td>\n",
       "      <td>...</td>\n",
       "      <td>...</td>\n",
       "      <td>...</td>\n",
       "      <td>...</td>\n",
       "      <td>...</td>\n",
       "    </tr>\n",
       "    <tr>\n",
       "      <th>313</th>\n",
       "      <td>0</td>\n",
       "      <td>3</td>\n",
       "      <td>male</td>\n",
       "      <td>0</td>\n",
       "      <td>0</td>\n",
       "      <td>7.8958</td>\n",
       "      <td>Southampton</td>\n",
       "      <td>1</td>\n",
       "      <td>1</td>\n",
       "    </tr>\n",
       "    <tr>\n",
       "      <th>636</th>\n",
       "      <td>0</td>\n",
       "      <td>3</td>\n",
       "      <td>male</td>\n",
       "      <td>0</td>\n",
       "      <td>0</td>\n",
       "      <td>7.9250</td>\n",
       "      <td>Southampton</td>\n",
       "      <td>1</td>\n",
       "      <td>1</td>\n",
       "    </tr>\n",
       "    <tr>\n",
       "      <th>222</th>\n",
       "      <td>0</td>\n",
       "      <td>3</td>\n",
       "      <td>male</td>\n",
       "      <td>0</td>\n",
       "      <td>0</td>\n",
       "      <td>8.0500</td>\n",
       "      <td>Southampton</td>\n",
       "      <td>1</td>\n",
       "      <td>1</td>\n",
       "    </tr>\n",
       "    <tr>\n",
       "      <th>485</th>\n",
       "      <td>0</td>\n",
       "      <td>3</td>\n",
       "      <td>female</td>\n",
       "      <td>3</td>\n",
       "      <td>1</td>\n",
       "      <td>25.4667</td>\n",
       "      <td>Southampton</td>\n",
       "      <td>0</td>\n",
       "      <td>0</td>\n",
       "    </tr>\n",
       "    <tr>\n",
       "      <th>744</th>\n",
       "      <td>1</td>\n",
       "      <td>3</td>\n",
       "      <td>male</td>\n",
       "      <td>0</td>\n",
       "      <td>0</td>\n",
       "      <td>7.9250</td>\n",
       "      <td>Southampton</td>\n",
       "      <td>1</td>\n",
       "      <td>1</td>\n",
       "    </tr>\n",
       "  </tbody>\n",
       "</table>\n",
       "<p>498 rows × 9 columns</p>\n",
       "</div>"
      ],
      "text/plain": [
       "     survived  pclass     sex  Siblings/Spouses  Parents/Children      fare  \\\n",
       "583         0       1    male                 0                 0   40.1250   \n",
       "165         1       3    male                 0                 2   20.5250   \n",
       "50          0       3    male                 4                 1   39.6875   \n",
       "259         1       2  female                 0                 1   26.0000   \n",
       "306         1       1  female                 0                 0  110.8833   \n",
       "..        ...     ...     ...               ...               ...       ...   \n",
       "313         0       3    male                 0                 0    7.8958   \n",
       "636         0       3    male                 0                 0    7.9250   \n",
       "222         0       3    male                 0                 0    8.0500   \n",
       "485         0       3  female                 3                 1   25.4667   \n",
       "744         1       3    male                 0                 0    7.9250   \n",
       "\n",
       "     embark_town  alone  sex_male  \n",
       "583    Cherbourg      1         1  \n",
       "165  Southampton      0         1  \n",
       "50   Southampton      0         1  \n",
       "259  Southampton      0         0  \n",
       "306    Cherbourg      1         0  \n",
       "..           ...    ...       ...  \n",
       "313  Southampton      1         1  \n",
       "636  Southampton      1         1  \n",
       "222  Southampton      1         1  \n",
       "485  Southampton      0         0  \n",
       "744  Southampton      1         1  \n",
       "\n",
       "[498 rows x 9 columns]"
      ]
     },
     "execution_count": 89,
     "metadata": {},
     "output_type": "execute_result"
    }
   ],
   "source": [
    "dfttmod"
   ]
  },
  {
   "cell_type": "code",
   "execution_count": 90,
   "id": "2398502e",
   "metadata": {},
   "outputs": [
    {
     "name": "stdout",
     "output_type": "stream",
     "text": [
      "<class 'pandas.core.frame.DataFrame'>\n",
      "Int64Index: 498 entries, 583 to 744\n",
      "Data columns (total 9 columns):\n",
      " #   Column            Non-Null Count  Dtype  \n",
      "---  ------            --------------  -----  \n",
      " 0   survived          498 non-null    int64  \n",
      " 1   pclass            498 non-null    int64  \n",
      " 2   sex               498 non-null    object \n",
      " 3   Siblings/Spouses  498 non-null    int64  \n",
      " 4   Parents/Children  498 non-null    int64  \n",
      " 5   fare              498 non-null    float64\n",
      " 6   embark_town       497 non-null    object \n",
      " 7   alone             498 non-null    int64  \n",
      " 8   sex_male          498 non-null    uint8  \n",
      "dtypes: float64(1), int64(5), object(2), uint8(1)\n",
      "memory usage: 35.5+ KB\n"
     ]
    }
   ],
   "source": [
    "dfttmod.info() "
   ]
  },
  {
   "cell_type": "code",
   "execution_count": 112,
   "id": "530314f4",
   "metadata": {},
   "outputs": [],
   "source": [
    "to_drop = dfttmod[dfttmod.embark_town.isna() == True].index[0]"
   ]
  },
  {
   "cell_type": "code",
   "execution_count": 115,
   "id": "f57b79c8",
   "metadata": {},
   "outputs": [],
   "source": [
    "dfttmod.drop(to_drop, inplace=True)"
   ]
  },
  {
   "cell_type": "code",
   "execution_count": 117,
   "id": "3c5225c7",
   "metadata": {},
   "outputs": [
    {
     "name": "stdout",
     "output_type": "stream",
     "text": [
      "<class 'pandas.core.frame.DataFrame'>\n",
      "Int64Index: 497 entries, 583 to 744\n",
      "Data columns (total 9 columns):\n",
      " #   Column            Non-Null Count  Dtype  \n",
      "---  ------            --------------  -----  \n",
      " 0   survived          497 non-null    int64  \n",
      " 1   pclass            497 non-null    int64  \n",
      " 2   sex               497 non-null    object \n",
      " 3   Siblings/Spouses  497 non-null    int64  \n",
      " 4   Parents/Children  497 non-null    int64  \n",
      " 5   fare              497 non-null    float64\n",
      " 6   embark_town       497 non-null    object \n",
      " 7   alone             497 non-null    int64  \n",
      " 8   sex_male          497 non-null    uint8  \n",
      "dtypes: float64(1), int64(5), object(2), uint8(1)\n",
      "memory usage: 35.4+ KB\n"
     ]
    }
   ],
   "source": [
    "dfttmod.info()"
   ]
  },
  {
   "cell_type": "code",
   "execution_count": 118,
   "id": "dd42546e",
   "metadata": {},
   "outputs": [
    {
     "data": {
      "text/plain": [
       "<AxesSubplot:xlabel='survived', ylabel='fare'>"
      ]
     },
     "execution_count": 118,
     "metadata": {},
     "output_type": "execute_result"
    },
    {
     "data": {
      "image/png": "[encoded data removed]",
      "text/plain": [
       "<Figure size 432x288 with 1 Axes>"
      ]
     },
     "metadata": {
      "needs_background": "light"
     },
     "output_type": "display_data"
    }
   ],
   "source": [
    "sns.boxplot(data=dfttmod, x='survived', y='fare')"
   ]
  },
  {
   "cell_type": "code",
   "execution_count": null,
   "id": "4c876354",
   "metadata": {},
   "outputs": [],
   "source": []
  }
 ],
 "metadata": {
  "kernelspec": {
   "display_name": "Python 3 (ipykernel)",
   "language": "python",
   "name": "python3"
  },
  "language_info": {
   "codemirror_mode": {
    "name": "ipython",
    "version": 3
   },
   "file_extension": ".py",
   "mimetype": "text/x-python",
   "name": "python",
   "nbconvert_exporter": "python",
   "pygments_lexer": "ipython3",
   "version": "3.9.7"
  }
 },
 "nbformat": 4,
 "nbformat_minor": 5
}
